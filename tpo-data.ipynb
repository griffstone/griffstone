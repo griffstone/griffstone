{
 "cells": [
  {
   "cell_type": "code",
   "execution_count": 1,
   "id": "669b0878",
   "metadata": {
    "_cell_guid": "b1076dfc-b9ad-4769-8c92-a6c4dae69d19",
    "_uuid": "8f2839f25d086af736a60e9eeb907d3b93b6e0e5",
    "execution": {
     "iopub.execute_input": "2024-01-30T05:15:12.640204Z",
     "iopub.status.busy": "2024-01-30T05:15:12.639539Z",
     "iopub.status.idle": "2024-01-30T05:15:15.777951Z",
     "shell.execute_reply": "2024-01-30T05:15:15.777128Z"
    },
    "papermill": {
     "duration": 3.160896,
     "end_time": "2024-01-30T05:15:15.779754",
     "exception": false,
     "start_time": "2024-01-30T05:15:12.618858",
     "status": "completed"
    },
    "tags": []
   },
   "outputs": [
    {
     "name": "stdout",
     "output_type": "stream",
     "text": [
      "/kaggle/input/tpo-data-ii/TPO_Database.xlsx\n"
     ]
    }
   ],
   "source": [
    "# This Python 3 environment comes with many helpful analytics libraries installed\n",
    "# It is defined by the kaggle/python Docker image: https://github.com/kaggle/docker-python\n",
    "# For example, here's several helpful packages to load\n",
    "\n",
    "import numpy as np # linear algebra\n",
    "import pandas as pd # data processing, CSV file I/O (e.g. pd.read_csv)\n",
    "import seaborn as sns\n",
    "import statsmodels.api as sm\n",
    "# Input data files are available in the read-only \"../input/\" directory\n",
    "# For example, running this (by clicking run or pressing Shift+Enter) will list all files under the input directory\n",
    "\n",
    "import os\n",
    "for dirname, _, filenames in os.walk('/kaggle/input'):\n",
    "    for filename in filenames:\n",
    "        print(os.path.join(dirname, filename))\n",
    "\n",
    "# You can write up to 20GB to the current directory (/kaggle/working/) that gets preserved as output when you create a version using \"Save & Run All\" \n",
    "# You can also write temporary files to /kaggle/temp/, but they won't be saved outside of the current session"
   ]
  },
  {
   "cell_type": "markdown",
   "id": "905f15bd",
   "metadata": {
    "papermill": {
     "duration": 0.016455,
     "end_time": "2024-01-30T05:15:15.814368",
     "exception": false,
     "start_time": "2024-01-30T05:15:15.797913",
     "status": "completed"
    },
    "tags": []
   },
   "source": [
    "# Introduction"
   ]
  },
  {
   "cell_type": "markdown",
   "id": "76d9fa47",
   "metadata": {
    "papermill": {
     "duration": 0.016443,
     "end_time": "2024-01-30T05:15:15.847538",
     "exception": false,
     "start_time": "2024-01-30T05:15:15.831095",
     "status": "completed"
    },
    "tags": []
   },
   "source": [
    "This data set is a collection of golf scores over the past 15 years from an annual golf tournament that has been going on since the 1980s. The event takes place every fall on the Canadian shores of Lake Erie. Family and friends gather at this annual golf tournament coming from all over the country. The golf, perhaps once the reason for the gather, is simply now an excuse for old friends to see each other and discuss all sorts of topics over the course of the weekend. The conversations, beverages, stories and laughs around the fire place, a stones throw away from the cold waters of Lake Erie are fantastic - the golf, not so much. After the tournament concludes on Saturday, the scores get recorded into a \"TPO Database\" - an excel file created by one of the founding members. Most of the scores are wished to be forgotten by the golfers, but to their dismay, there is now a fantastic database of scores that is ripe for insights."
   ]
  },
  {
   "cell_type": "markdown",
   "id": "e0d3b5a2",
   "metadata": {
    "papermill": {
     "duration": 0.016608,
     "end_time": "2024-01-30T05:15:15.880978",
     "exception": false,
     "start_time": "2024-01-30T05:15:15.864370",
     "status": "completed"
    },
    "tags": []
   },
   "source": [
    "First, lets read in our dataframes and inspect them using the head method."
   ]
  },
  {
   "cell_type": "code",
   "execution_count": 2,
   "id": "c96bde5e",
   "metadata": {
    "execution": {
     "iopub.execute_input": "2024-01-30T05:15:15.957571Z",
     "iopub.status.busy": "2024-01-30T05:15:15.957162Z",
     "iopub.status.idle": "2024-01-30T05:15:16.516758Z",
     "shell.execute_reply": "2024-01-30T05:15:16.515920Z"
    },
    "papermill": {
     "duration": 0.621247,
     "end_time": "2024-01-30T05:15:16.518795",
     "exception": false,
     "start_time": "2024-01-30T05:15:15.897548",
     "status": "completed"
    },
    "tags": []
   },
   "outputs": [],
   "source": [
    "raw_tpo_df = pd.read_excel('/kaggle/input/tpo-data-ii/TPO_Database.xlsx', 'Player Data')\n",
    "hole_info_df = pd.read_excel('/kaggle/input/tpo-data-ii/TPO_Database.xlsx', 'Hole Info')"
   ]
  },
  {
   "cell_type": "code",
   "execution_count": 3,
   "id": "1c3b351b",
   "metadata": {
    "execution": {
     "iopub.execute_input": "2024-01-30T05:15:16.556552Z",
     "iopub.status.busy": "2024-01-30T05:15:16.556155Z",
     "iopub.status.idle": "2024-01-30T05:15:16.591104Z",
     "shell.execute_reply": "2024-01-30T05:15:16.590162Z"
    },
    "papermill": {
     "duration": 0.054816,
     "end_time": "2024-01-30T05:15:16.592683",
     "exception": false,
     "start_time": "2024-01-30T05:15:16.537867",
     "status": "completed"
    },
    "tags": []
   },
   "outputs": [
    {
     "data": {
      "text/html": [
       "<div>\n",
       "<style scoped>\n",
       "    .dataframe tbody tr th:only-of-type {\n",
       "        vertical-align: middle;\n",
       "    }\n",
       "\n",
       "    .dataframe tbody tr th {\n",
       "        vertical-align: top;\n",
       "    }\n",
       "\n",
       "    .dataframe thead th {\n",
       "        text-align: right;\n",
       "    }\n",
       "</style>\n",
       "<table border=\"1\" class=\"dataframe\">\n",
       "  <thead>\n",
       "    <tr style=\"text-align: right;\">\n",
       "      <th></th>\n",
       "      <th>Name</th>\n",
       "      <th>Year</th>\n",
       "      <th>Group</th>\n",
       "      <th>Score 1</th>\n",
       "      <th>Putts 1</th>\n",
       "      <th>Score 2</th>\n",
       "      <th>Putts 2</th>\n",
       "      <th>Score 3</th>\n",
       "      <th>Putts 3</th>\n",
       "      <th>Score 4</th>\n",
       "      <th>...</th>\n",
       "      <th>Score 16</th>\n",
       "      <th>Putts 16</th>\n",
       "      <th>Score 17</th>\n",
       "      <th>Putts 17</th>\n",
       "      <th>Score 18</th>\n",
       "      <th>Putts 18</th>\n",
       "      <th>Back 9 Score</th>\n",
       "      <th>Back 9 Putts</th>\n",
       "      <th>Total Score</th>\n",
       "      <th>Total Putts</th>\n",
       "    </tr>\n",
       "  </thead>\n",
       "  <tbody>\n",
       "    <tr>\n",
       "      <th>0</th>\n",
       "      <td>94</td>\n",
       "      <td>2022</td>\n",
       "      <td>2</td>\n",
       "      <td>8.0</td>\n",
       "      <td>2.0</td>\n",
       "      <td>8.0</td>\n",
       "      <td>1.0</td>\n",
       "      <td>4.0</td>\n",
       "      <td>2.0</td>\n",
       "      <td>9.0</td>\n",
       "      <td>...</td>\n",
       "      <td>5.0</td>\n",
       "      <td>2.0</td>\n",
       "      <td>6.0</td>\n",
       "      <td>2.0</td>\n",
       "      <td>7.0</td>\n",
       "      <td>2.0</td>\n",
       "      <td>52.0</td>\n",
       "      <td>17.0</td>\n",
       "      <td>125</td>\n",
       "      <td>38.0</td>\n",
       "    </tr>\n",
       "    <tr>\n",
       "      <th>1</th>\n",
       "      <td>Brad M</td>\n",
       "      <td>2022</td>\n",
       "      <td>3</td>\n",
       "      <td>6.0</td>\n",
       "      <td>1.0</td>\n",
       "      <td>7.0</td>\n",
       "      <td>2.0</td>\n",
       "      <td>5.0</td>\n",
       "      <td>2.0</td>\n",
       "      <td>7.0</td>\n",
       "      <td>...</td>\n",
       "      <td>3.0</td>\n",
       "      <td>2.0</td>\n",
       "      <td>4.0</td>\n",
       "      <td>2.0</td>\n",
       "      <td>6.0</td>\n",
       "      <td>1.0</td>\n",
       "      <td>47.0</td>\n",
       "      <td>14.0</td>\n",
       "      <td>101</td>\n",
       "      <td>30.0</td>\n",
       "    </tr>\n",
       "    <tr>\n",
       "      <th>2</th>\n",
       "      <td>EBS</td>\n",
       "      <td>2022</td>\n",
       "      <td>2</td>\n",
       "      <td>6.0</td>\n",
       "      <td>2.0</td>\n",
       "      <td>5.0</td>\n",
       "      <td>1.0</td>\n",
       "      <td>3.0</td>\n",
       "      <td>1.0</td>\n",
       "      <td>6.0</td>\n",
       "      <td>...</td>\n",
       "      <td>4.0</td>\n",
       "      <td>2.0</td>\n",
       "      <td>2.0</td>\n",
       "      <td>1.0</td>\n",
       "      <td>4.0</td>\n",
       "      <td>2.0</td>\n",
       "      <td>39.0</td>\n",
       "      <td>14.0</td>\n",
       "      <td>81</td>\n",
       "      <td>29.0</td>\n",
       "    </tr>\n",
       "    <tr>\n",
       "      <th>3</th>\n",
       "      <td>Edward J</td>\n",
       "      <td>2022</td>\n",
       "      <td>1</td>\n",
       "      <td>7.0</td>\n",
       "      <td>2.0</td>\n",
       "      <td>8.0</td>\n",
       "      <td>3.0</td>\n",
       "      <td>5.0</td>\n",
       "      <td>2.0</td>\n",
       "      <td>5.0</td>\n",
       "      <td>...</td>\n",
       "      <td>5.0</td>\n",
       "      <td>1.0</td>\n",
       "      <td>4.0</td>\n",
       "      <td>1.0</td>\n",
       "      <td>6.0</td>\n",
       "      <td>3.0</td>\n",
       "      <td>43.0</td>\n",
       "      <td>14.0</td>\n",
       "      <td>95</td>\n",
       "      <td>31.0</td>\n",
       "    </tr>\n",
       "    <tr>\n",
       "      <th>4</th>\n",
       "      <td>Hurrican Lu</td>\n",
       "      <td>2022</td>\n",
       "      <td>3</td>\n",
       "      <td>5.0</td>\n",
       "      <td>2.0</td>\n",
       "      <td>6.0</td>\n",
       "      <td>2.0</td>\n",
       "      <td>5.0</td>\n",
       "      <td>2.0</td>\n",
       "      <td>7.0</td>\n",
       "      <td>...</td>\n",
       "      <td>3.0</td>\n",
       "      <td>1.0</td>\n",
       "      <td>5.0</td>\n",
       "      <td>2.0</td>\n",
       "      <td>6.0</td>\n",
       "      <td>1.0</td>\n",
       "      <td>49.0</td>\n",
       "      <td>17.0</td>\n",
       "      <td>101</td>\n",
       "      <td>36.0</td>\n",
       "    </tr>\n",
       "  </tbody>\n",
       "</table>\n",
       "<p>5 rows × 45 columns</p>\n",
       "</div>"
      ],
      "text/plain": [
       "          Name  Year  Group  Score 1  Putts 1  Score 2  Putts 2  Score 3  \\\n",
       "0           94  2022      2      8.0      2.0      8.0      1.0      4.0   \n",
       "1       Brad M  2022      3      6.0      1.0      7.0      2.0      5.0   \n",
       "2          EBS  2022      2      6.0      2.0      5.0      1.0      3.0   \n",
       "3     Edward J  2022      1      7.0      2.0      8.0      3.0      5.0   \n",
       "4  Hurrican Lu  2022      3      5.0      2.0      6.0      2.0      5.0   \n",
       "\n",
       "   Putts 3  Score 4  ...  Score 16  Putts 16  Score 17  Putts 17  Score 18  \\\n",
       "0      2.0      9.0  ...       5.0       2.0       6.0       2.0       7.0   \n",
       "1      2.0      7.0  ...       3.0       2.0       4.0       2.0       6.0   \n",
       "2      1.0      6.0  ...       4.0       2.0       2.0       1.0       4.0   \n",
       "3      2.0      5.0  ...       5.0       1.0       4.0       1.0       6.0   \n",
       "4      2.0      7.0  ...       3.0       1.0       5.0       2.0       6.0   \n",
       "\n",
       "   Putts 18  Back 9 Score  Back 9 Putts  Total Score  Total Putts  \n",
       "0       2.0          52.0          17.0          125         38.0  \n",
       "1       1.0          47.0          14.0          101         30.0  \n",
       "2       2.0          39.0          14.0           81         29.0  \n",
       "3       3.0          43.0          14.0           95         31.0  \n",
       "4       1.0          49.0          17.0          101         36.0  \n",
       "\n",
       "[5 rows x 45 columns]"
      ]
     },
     "execution_count": 3,
     "metadata": {},
     "output_type": "execute_result"
    }
   ],
   "source": [
    "raw_tpo_df.head()"
   ]
  },
  {
   "cell_type": "code",
   "execution_count": 4,
   "id": "d5f881c1",
   "metadata": {
    "execution": {
     "iopub.execute_input": "2024-01-30T05:15:16.629470Z",
     "iopub.status.busy": "2024-01-30T05:15:16.628509Z",
     "iopub.status.idle": "2024-01-30T05:15:16.637266Z",
     "shell.execute_reply": "2024-01-30T05:15:16.636421Z"
    },
    "papermill": {
     "duration": 0.028849,
     "end_time": "2024-01-30T05:15:16.639256",
     "exception": false,
     "start_time": "2024-01-30T05:15:16.610407",
     "status": "completed"
    },
    "tags": []
   },
   "outputs": [
    {
     "data": {
      "text/html": [
       "<div>\n",
       "<style scoped>\n",
       "    .dataframe tbody tr th:only-of-type {\n",
       "        vertical-align: middle;\n",
       "    }\n",
       "\n",
       "    .dataframe tbody tr th {\n",
       "        vertical-align: top;\n",
       "    }\n",
       "\n",
       "    .dataframe thead th {\n",
       "        text-align: right;\n",
       "    }\n",
       "</style>\n",
       "<table border=\"1\" class=\"dataframe\">\n",
       "  <thead>\n",
       "    <tr style=\"text-align: right;\">\n",
       "      <th></th>\n",
       "      <th>Hole Number</th>\n",
       "      <th>Par</th>\n",
       "      <th>Yardage</th>\n",
       "    </tr>\n",
       "  </thead>\n",
       "  <tbody>\n",
       "    <tr>\n",
       "      <th>0</th>\n",
       "      <td>1</td>\n",
       "      <td>4</td>\n",
       "      <td>305</td>\n",
       "    </tr>\n",
       "    <tr>\n",
       "      <th>1</th>\n",
       "      <td>2</td>\n",
       "      <td>4</td>\n",
       "      <td>325</td>\n",
       "    </tr>\n",
       "    <tr>\n",
       "      <th>2</th>\n",
       "      <td>3</td>\n",
       "      <td>3</td>\n",
       "      <td>152</td>\n",
       "    </tr>\n",
       "    <tr>\n",
       "      <th>3</th>\n",
       "      <td>4</td>\n",
       "      <td>5</td>\n",
       "      <td>437</td>\n",
       "    </tr>\n",
       "    <tr>\n",
       "      <th>4</th>\n",
       "      <td>5</td>\n",
       "      <td>3</td>\n",
       "      <td>200</td>\n",
       "    </tr>\n",
       "    <tr>\n",
       "      <th>5</th>\n",
       "      <td>6</td>\n",
       "      <td>4</td>\n",
       "      <td>329</td>\n",
       "    </tr>\n",
       "    <tr>\n",
       "      <th>6</th>\n",
       "      <td>7</td>\n",
       "      <td>4</td>\n",
       "      <td>310</td>\n",
       "    </tr>\n",
       "    <tr>\n",
       "      <th>7</th>\n",
       "      <td>8</td>\n",
       "      <td>4</td>\n",
       "      <td>315</td>\n",
       "    </tr>\n",
       "    <tr>\n",
       "      <th>8</th>\n",
       "      <td>9</td>\n",
       "      <td>3</td>\n",
       "      <td>162</td>\n",
       "    </tr>\n",
       "    <tr>\n",
       "      <th>9</th>\n",
       "      <td>10</td>\n",
       "      <td>4</td>\n",
       "      <td>369</td>\n",
       "    </tr>\n",
       "    <tr>\n",
       "      <th>10</th>\n",
       "      <td>11</td>\n",
       "      <td>3</td>\n",
       "      <td>161</td>\n",
       "    </tr>\n",
       "    <tr>\n",
       "      <th>11</th>\n",
       "      <td>12</td>\n",
       "      <td>4</td>\n",
       "      <td>288</td>\n",
       "    </tr>\n",
       "    <tr>\n",
       "      <th>12</th>\n",
       "      <td>13</td>\n",
       "      <td>4</td>\n",
       "      <td>230</td>\n",
       "    </tr>\n",
       "    <tr>\n",
       "      <th>13</th>\n",
       "      <td>14</td>\n",
       "      <td>3</td>\n",
       "      <td>113</td>\n",
       "    </tr>\n",
       "    <tr>\n",
       "      <th>14</th>\n",
       "      <td>15</td>\n",
       "      <td>4</td>\n",
       "      <td>270</td>\n",
       "    </tr>\n",
       "    <tr>\n",
       "      <th>15</th>\n",
       "      <td>16</td>\n",
       "      <td>3</td>\n",
       "      <td>146</td>\n",
       "    </tr>\n",
       "    <tr>\n",
       "      <th>16</th>\n",
       "      <td>17</td>\n",
       "      <td>3</td>\n",
       "      <td>189</td>\n",
       "    </tr>\n",
       "    <tr>\n",
       "      <th>17</th>\n",
       "      <td>18</td>\n",
       "      <td>4</td>\n",
       "      <td>304</td>\n",
       "    </tr>\n",
       "  </tbody>\n",
       "</table>\n",
       "</div>"
      ],
      "text/plain": [
       "    Hole Number  Par  Yardage\n",
       "0             1    4      305\n",
       "1             2    4      325\n",
       "2             3    3      152\n",
       "3             4    5      437\n",
       "4             5    3      200\n",
       "5             6    4      329\n",
       "6             7    4      310\n",
       "7             8    4      315\n",
       "8             9    3      162\n",
       "9            10    4      369\n",
       "10           11    3      161\n",
       "11           12    4      288\n",
       "12           13    4      230\n",
       "13           14    3      113\n",
       "14           15    4      270\n",
       "15           16    3      146\n",
       "16           17    3      189\n",
       "17           18    4      304"
      ]
     },
     "execution_count": 4,
     "metadata": {},
     "output_type": "execute_result"
    }
   ],
   "source": [
    "hole_info_df"
   ]
  },
  {
   "cell_type": "markdown",
   "id": "ca8f6b04",
   "metadata": {
    "papermill": {
     "duration": 0.017556,
     "end_time": "2024-01-30T05:15:16.675181",
     "exception": false,
     "start_time": "2024-01-30T05:15:16.657625",
     "status": "completed"
    },
    "tags": []
   },
   "source": [
    "The hole number makes sense to be the index for the \"Hole Info\" Dataframe. Let's change that."
   ]
  },
  {
   "cell_type": "code",
   "execution_count": 5,
   "id": "f70405e0",
   "metadata": {
    "execution": {
     "iopub.execute_input": "2024-01-30T05:15:16.712868Z",
     "iopub.status.busy": "2024-01-30T05:15:16.712016Z",
     "iopub.status.idle": "2024-01-30T05:15:16.717818Z",
     "shell.execute_reply": "2024-01-30T05:15:16.717024Z"
    },
    "papermill": {
     "duration": 0.026826,
     "end_time": "2024-01-30T05:15:16.719807",
     "exception": false,
     "start_time": "2024-01-30T05:15:16.692981",
     "status": "completed"
    },
    "tags": []
   },
   "outputs": [],
   "source": [
    "hole_info_df=hole_info_df.set_index('Hole Number')"
   ]
  },
  {
   "cell_type": "code",
   "execution_count": 6,
   "id": "5259f5dd",
   "metadata": {
    "execution": {
     "iopub.execute_input": "2024-01-30T05:15:16.757155Z",
     "iopub.status.busy": "2024-01-30T05:15:16.756812Z",
     "iopub.status.idle": "2024-01-30T05:15:16.764689Z",
     "shell.execute_reply": "2024-01-30T05:15:16.763790Z"
    },
    "papermill": {
     "duration": 0.028808,
     "end_time": "2024-01-30T05:15:16.766689",
     "exception": false,
     "start_time": "2024-01-30T05:15:16.737881",
     "status": "completed"
    },
    "tags": []
   },
   "outputs": [
    {
     "data": {
      "text/html": [
       "<div>\n",
       "<style scoped>\n",
       "    .dataframe tbody tr th:only-of-type {\n",
       "        vertical-align: middle;\n",
       "    }\n",
       "\n",
       "    .dataframe tbody tr th {\n",
       "        vertical-align: top;\n",
       "    }\n",
       "\n",
       "    .dataframe thead th {\n",
       "        text-align: right;\n",
       "    }\n",
       "</style>\n",
       "<table border=\"1\" class=\"dataframe\">\n",
       "  <thead>\n",
       "    <tr style=\"text-align: right;\">\n",
       "      <th></th>\n",
       "      <th>Par</th>\n",
       "      <th>Yardage</th>\n",
       "    </tr>\n",
       "    <tr>\n",
       "      <th>Hole Number</th>\n",
       "      <th></th>\n",
       "      <th></th>\n",
       "    </tr>\n",
       "  </thead>\n",
       "  <tbody>\n",
       "    <tr>\n",
       "      <th>1</th>\n",
       "      <td>4</td>\n",
       "      <td>305</td>\n",
       "    </tr>\n",
       "    <tr>\n",
       "      <th>2</th>\n",
       "      <td>4</td>\n",
       "      <td>325</td>\n",
       "    </tr>\n",
       "    <tr>\n",
       "      <th>3</th>\n",
       "      <td>3</td>\n",
       "      <td>152</td>\n",
       "    </tr>\n",
       "    <tr>\n",
       "      <th>4</th>\n",
       "      <td>5</td>\n",
       "      <td>437</td>\n",
       "    </tr>\n",
       "    <tr>\n",
       "      <th>5</th>\n",
       "      <td>3</td>\n",
       "      <td>200</td>\n",
       "    </tr>\n",
       "  </tbody>\n",
       "</table>\n",
       "</div>"
      ],
      "text/plain": [
       "             Par  Yardage\n",
       "Hole Number              \n",
       "1              4      305\n",
       "2              4      325\n",
       "3              3      152\n",
       "4              5      437\n",
       "5              3      200"
      ]
     },
     "execution_count": 6,
     "metadata": {},
     "output_type": "execute_result"
    }
   ],
   "source": [
    "hole_info_df.head()"
   ]
  },
  {
   "cell_type": "markdown",
   "id": "7fe1ff14",
   "metadata": {
    "papermill": {
     "duration": 0.017547,
     "end_time": "2024-01-30T05:15:16.802383",
     "exception": false,
     "start_time": "2024-01-30T05:15:16.784836",
     "status": "completed"
    },
    "tags": []
   },
   "source": [
    "# Raw TPO Dataframe"
   ]
  },
  {
   "cell_type": "markdown",
   "id": "0f8f8841",
   "metadata": {
    "papermill": {
     "duration": 0.017251,
     "end_time": "2024-01-30T05:15:16.837484",
     "exception": false,
     "start_time": "2024-01-30T05:15:16.820233",
     "status": "completed"
    },
    "tags": []
   },
   "source": [
    "We see above that the columns in this dataframe have spaces in them. Let's replace them with underscores."
   ]
  },
  {
   "cell_type": "code",
   "execution_count": 7,
   "id": "3cc4bfbf",
   "metadata": {
    "execution": {
     "iopub.execute_input": "2024-01-30T05:15:16.874180Z",
     "iopub.status.busy": "2024-01-30T05:15:16.873721Z",
     "iopub.status.idle": "2024-01-30T05:15:16.877959Z",
     "shell.execute_reply": "2024-01-30T05:15:16.876863Z"
    },
    "papermill": {
     "duration": 0.024751,
     "end_time": "2024-01-30T05:15:16.879712",
     "exception": false,
     "start_time": "2024-01-30T05:15:16.854961",
     "status": "completed"
    },
    "tags": []
   },
   "outputs": [],
   "source": [
    "raw_tpo_df.columns = raw_tpo_df.columns.str.replace(\" \", \"_\")"
   ]
  },
  {
   "cell_type": "code",
   "execution_count": 8,
   "id": "cad37ab8",
   "metadata": {
    "execution": {
     "iopub.execute_input": "2024-01-30T05:15:16.915768Z",
     "iopub.status.busy": "2024-01-30T05:15:16.915434Z",
     "iopub.status.idle": "2024-01-30T05:15:16.939322Z",
     "shell.execute_reply": "2024-01-30T05:15:16.938553Z"
    },
    "papermill": {
     "duration": 0.044176,
     "end_time": "2024-01-30T05:15:16.941279",
     "exception": false,
     "start_time": "2024-01-30T05:15:16.897103",
     "status": "completed"
    },
    "tags": []
   },
   "outputs": [
    {
     "data": {
      "text/html": [
       "<div>\n",
       "<style scoped>\n",
       "    .dataframe tbody tr th:only-of-type {\n",
       "        vertical-align: middle;\n",
       "    }\n",
       "\n",
       "    .dataframe tbody tr th {\n",
       "        vertical-align: top;\n",
       "    }\n",
       "\n",
       "    .dataframe thead th {\n",
       "        text-align: right;\n",
       "    }\n",
       "</style>\n",
       "<table border=\"1\" class=\"dataframe\">\n",
       "  <thead>\n",
       "    <tr style=\"text-align: right;\">\n",
       "      <th></th>\n",
       "      <th>Name</th>\n",
       "      <th>Year</th>\n",
       "      <th>Group</th>\n",
       "      <th>Score_1</th>\n",
       "      <th>Putts_1</th>\n",
       "      <th>Score_2</th>\n",
       "      <th>Putts_2</th>\n",
       "      <th>Score_3</th>\n",
       "      <th>Putts_3</th>\n",
       "      <th>Score_4</th>\n",
       "      <th>...</th>\n",
       "      <th>Score_16</th>\n",
       "      <th>Putts_16</th>\n",
       "      <th>Score_17</th>\n",
       "      <th>Putts_17</th>\n",
       "      <th>Score_18</th>\n",
       "      <th>Putts_18</th>\n",
       "      <th>Back_9_Score</th>\n",
       "      <th>Back_9_Putts</th>\n",
       "      <th>Total_Score</th>\n",
       "      <th>Total_Putts</th>\n",
       "    </tr>\n",
       "  </thead>\n",
       "  <tbody>\n",
       "    <tr>\n",
       "      <th>0</th>\n",
       "      <td>94</td>\n",
       "      <td>2022</td>\n",
       "      <td>2</td>\n",
       "      <td>8.0</td>\n",
       "      <td>2.0</td>\n",
       "      <td>8.0</td>\n",
       "      <td>1.0</td>\n",
       "      <td>4.0</td>\n",
       "      <td>2.0</td>\n",
       "      <td>9.0</td>\n",
       "      <td>...</td>\n",
       "      <td>5.0</td>\n",
       "      <td>2.0</td>\n",
       "      <td>6.0</td>\n",
       "      <td>2.0</td>\n",
       "      <td>7.0</td>\n",
       "      <td>2.0</td>\n",
       "      <td>52.0</td>\n",
       "      <td>17.0</td>\n",
       "      <td>125</td>\n",
       "      <td>38.0</td>\n",
       "    </tr>\n",
       "    <tr>\n",
       "      <th>1</th>\n",
       "      <td>Brad M</td>\n",
       "      <td>2022</td>\n",
       "      <td>3</td>\n",
       "      <td>6.0</td>\n",
       "      <td>1.0</td>\n",
       "      <td>7.0</td>\n",
       "      <td>2.0</td>\n",
       "      <td>5.0</td>\n",
       "      <td>2.0</td>\n",
       "      <td>7.0</td>\n",
       "      <td>...</td>\n",
       "      <td>3.0</td>\n",
       "      <td>2.0</td>\n",
       "      <td>4.0</td>\n",
       "      <td>2.0</td>\n",
       "      <td>6.0</td>\n",
       "      <td>1.0</td>\n",
       "      <td>47.0</td>\n",
       "      <td>14.0</td>\n",
       "      <td>101</td>\n",
       "      <td>30.0</td>\n",
       "    </tr>\n",
       "    <tr>\n",
       "      <th>2</th>\n",
       "      <td>EBS</td>\n",
       "      <td>2022</td>\n",
       "      <td>2</td>\n",
       "      <td>6.0</td>\n",
       "      <td>2.0</td>\n",
       "      <td>5.0</td>\n",
       "      <td>1.0</td>\n",
       "      <td>3.0</td>\n",
       "      <td>1.0</td>\n",
       "      <td>6.0</td>\n",
       "      <td>...</td>\n",
       "      <td>4.0</td>\n",
       "      <td>2.0</td>\n",
       "      <td>2.0</td>\n",
       "      <td>1.0</td>\n",
       "      <td>4.0</td>\n",
       "      <td>2.0</td>\n",
       "      <td>39.0</td>\n",
       "      <td>14.0</td>\n",
       "      <td>81</td>\n",
       "      <td>29.0</td>\n",
       "    </tr>\n",
       "    <tr>\n",
       "      <th>3</th>\n",
       "      <td>Edward J</td>\n",
       "      <td>2022</td>\n",
       "      <td>1</td>\n",
       "      <td>7.0</td>\n",
       "      <td>2.0</td>\n",
       "      <td>8.0</td>\n",
       "      <td>3.0</td>\n",
       "      <td>5.0</td>\n",
       "      <td>2.0</td>\n",
       "      <td>5.0</td>\n",
       "      <td>...</td>\n",
       "      <td>5.0</td>\n",
       "      <td>1.0</td>\n",
       "      <td>4.0</td>\n",
       "      <td>1.0</td>\n",
       "      <td>6.0</td>\n",
       "      <td>3.0</td>\n",
       "      <td>43.0</td>\n",
       "      <td>14.0</td>\n",
       "      <td>95</td>\n",
       "      <td>31.0</td>\n",
       "    </tr>\n",
       "    <tr>\n",
       "      <th>4</th>\n",
       "      <td>Hurrican Lu</td>\n",
       "      <td>2022</td>\n",
       "      <td>3</td>\n",
       "      <td>5.0</td>\n",
       "      <td>2.0</td>\n",
       "      <td>6.0</td>\n",
       "      <td>2.0</td>\n",
       "      <td>5.0</td>\n",
       "      <td>2.0</td>\n",
       "      <td>7.0</td>\n",
       "      <td>...</td>\n",
       "      <td>3.0</td>\n",
       "      <td>1.0</td>\n",
       "      <td>5.0</td>\n",
       "      <td>2.0</td>\n",
       "      <td>6.0</td>\n",
       "      <td>1.0</td>\n",
       "      <td>49.0</td>\n",
       "      <td>17.0</td>\n",
       "      <td>101</td>\n",
       "      <td>36.0</td>\n",
       "    </tr>\n",
       "  </tbody>\n",
       "</table>\n",
       "<p>5 rows × 45 columns</p>\n",
       "</div>"
      ],
      "text/plain": [
       "          Name  Year  Group  Score_1  Putts_1  Score_2  Putts_2  Score_3  \\\n",
       "0           94  2022      2      8.0      2.0      8.0      1.0      4.0   \n",
       "1       Brad M  2022      3      6.0      1.0      7.0      2.0      5.0   \n",
       "2          EBS  2022      2      6.0      2.0      5.0      1.0      3.0   \n",
       "3     Edward J  2022      1      7.0      2.0      8.0      3.0      5.0   \n",
       "4  Hurrican Lu  2022      3      5.0      2.0      6.0      2.0      5.0   \n",
       "\n",
       "   Putts_3  Score_4  ...  Score_16  Putts_16  Score_17  Putts_17  Score_18  \\\n",
       "0      2.0      9.0  ...       5.0       2.0       6.0       2.0       7.0   \n",
       "1      2.0      7.0  ...       3.0       2.0       4.0       2.0       6.0   \n",
       "2      1.0      6.0  ...       4.0       2.0       2.0       1.0       4.0   \n",
       "3      2.0      5.0  ...       5.0       1.0       4.0       1.0       6.0   \n",
       "4      2.0      7.0  ...       3.0       1.0       5.0       2.0       6.0   \n",
       "\n",
       "   Putts_18  Back_9_Score  Back_9_Putts  Total_Score  Total_Putts  \n",
       "0       2.0          52.0          17.0          125         38.0  \n",
       "1       1.0          47.0          14.0          101         30.0  \n",
       "2       2.0          39.0          14.0           81         29.0  \n",
       "3       3.0          43.0          14.0           95         31.0  \n",
       "4       1.0          49.0          17.0          101         36.0  \n",
       "\n",
       "[5 rows x 45 columns]"
      ]
     },
     "execution_count": 8,
     "metadata": {},
     "output_type": "execute_result"
    }
   ],
   "source": [
    "raw_tpo_df.head()"
   ]
  },
  {
   "cell_type": "markdown",
   "id": "b31b9db4",
   "metadata": {
    "papermill": {
     "duration": 0.017379,
     "end_time": "2024-01-30T05:15:16.977157",
     "exception": false,
     "start_time": "2024-01-30T05:15:16.959778",
     "status": "completed"
    },
    "tags": []
   },
   "source": [
    "Now let's get a sense of the data types in this dataframe."
   ]
  },
  {
   "cell_type": "code",
   "execution_count": 9,
   "id": "4b96fe2a",
   "metadata": {
    "execution": {
     "iopub.execute_input": "2024-01-30T05:15:17.014248Z",
     "iopub.status.busy": "2024-01-30T05:15:17.013798Z",
     "iopub.status.idle": "2024-01-30T05:15:17.020664Z",
     "shell.execute_reply": "2024-01-30T05:15:17.019870Z"
    },
    "papermill": {
     "duration": 0.027383,
     "end_time": "2024-01-30T05:15:17.022216",
     "exception": false,
     "start_time": "2024-01-30T05:15:16.994833",
     "status": "completed"
    },
    "tags": []
   },
   "outputs": [
    {
     "data": {
      "text/plain": [
       "Name              object\n",
       "Year               int64\n",
       "Group              int64\n",
       "Score_1          float64\n",
       "Putts_1          float64\n",
       "Score_2          float64\n",
       "Putts_2          float64\n",
       "Score_3          float64\n",
       "Putts_3          float64\n",
       "Score_4          float64\n",
       "Putts_4          float64\n",
       "Score_5          float64\n",
       "Putts_5          float64\n",
       "Score_6          float64\n",
       "Putts_6          float64\n",
       "Score_7          float64\n",
       "Putts_7          float64\n",
       "Score_8          float64\n",
       "Putts_8          float64\n",
       "Score_9          float64\n",
       "Putts_9          float64\n",
       "Front_9_Score      int64\n",
       "Front_9_Putts      int64\n",
       "Score_10         float64\n",
       "Putts_10         float64\n",
       "Score_11         float64\n",
       "Putts_11         float64\n",
       "Score_12         float64\n",
       "Putts_12         float64\n",
       "Score_13         float64\n",
       "Putts_13         float64\n",
       "Score_14         float64\n",
       "Putts_14         float64\n",
       "Score_15         float64\n",
       "Putts_15         float64\n",
       "Score_16         float64\n",
       "Putts_16         float64\n",
       "Score_17         float64\n",
       "Putts_17         float64\n",
       "Score_18         float64\n",
       "Putts_18         float64\n",
       "Back_9_Score     float64\n",
       "Back_9_Putts     float64\n",
       "Total_Score        int64\n",
       "Total_Putts      float64\n",
       "dtype: object"
      ]
     },
     "execution_count": 9,
     "metadata": {},
     "output_type": "execute_result"
    }
   ],
   "source": [
    "raw_tpo_df.dtypes"
   ]
  },
  {
   "cell_type": "markdown",
   "id": "ffbd3826",
   "metadata": {
    "papermill": {
     "duration": 0.018871,
     "end_time": "2024-01-30T05:15:17.059205",
     "exception": false,
     "start_time": "2024-01-30T05:15:17.040334",
     "status": "completed"
    },
    "tags": []
   },
   "source": [
    "I'd like to inspect the Names column and make sure there are no issues with duplicates, spelling etc."
   ]
  },
  {
   "cell_type": "code",
   "execution_count": 10,
   "id": "603dcc90",
   "metadata": {
    "execution": {
     "iopub.execute_input": "2024-01-30T05:15:17.096325Z",
     "iopub.status.busy": "2024-01-30T05:15:17.096023Z",
     "iopub.status.idle": "2024-01-30T05:15:17.104125Z",
     "shell.execute_reply": "2024-01-30T05:15:17.102771Z"
    },
    "papermill": {
     "duration": 0.028908,
     "end_time": "2024-01-30T05:15:17.106200",
     "exception": false,
     "start_time": "2024-01-30T05:15:17.077292",
     "status": "completed"
    },
    "tags": []
   },
   "outputs": [
    {
     "name": "stdout",
     "output_type": "stream",
     "text": [
      "[94 'Brad M' 'EBS' 'Edward J' 'Hurrican Lu' 'James B' 'Jim C' 'JWS' 'Re'\n",
      " 'Sir Ian' 'Zimmy' 'General' 'GWS' 'Jeremy D' 'Jimmy R' 'John B' 'Marc C'\n",
      " 'Matty G' 'Pedro' 'Pinball' 'Wild Bill' 'Young Dave' 'BCS' 'Kevo' 'Kevy'\n",
      " 'Mark K' 'Sam' 'Scott M' 'White Rat' 'Jimmy C' 'Carmen' 'Jeremy Max'\n",
      " 'Tommy S' 'Terry W' 'Pedro II' 'Kent M' '94 II' '94 III' 'Jim Paw'\n",
      " 'Chris K' 'Mark C' 'Dave K' 'Mike C' 'Russ Kee' 'Duane S' 'Mike W' 'Leo']\n"
     ]
    }
   ],
   "source": [
    "print(raw_tpo_df['Name'].unique())"
   ]
  },
  {
   "cell_type": "markdown",
   "id": "6e8fb276",
   "metadata": {
    "papermill": {
     "duration": 0.019276,
     "end_time": "2024-01-30T05:15:17.143871",
     "exception": false,
     "start_time": "2024-01-30T05:15:17.124595",
     "status": "completed"
    },
    "tags": []
   },
   "source": [
    "Appears we have some duplicate names, \"Pedro, Pedro II\", \"94, 94 II, 94 III\" are all one person.\n",
    "\n",
    "There is also a typo - \"Hurrican Lu\" should be \"Hurricane Lu\".\n",
    "\n",
    "Lastly, there is a data type issue - 94 should be a string as it is a nickname."
   ]
  },
  {
   "cell_type": "markdown",
   "id": "e168ffc7",
   "metadata": {
    "papermill": {
     "duration": 0.023209,
     "end_time": "2024-01-30T05:15:17.192191",
     "exception": false,
     "start_time": "2024-01-30T05:15:17.168982",
     "status": "completed"
    },
    "tags": []
   },
   "source": [
    "Let's make sure all names are strings."
   ]
  },
  {
   "cell_type": "code",
   "execution_count": 11,
   "id": "19ba7eb6",
   "metadata": {
    "execution": {
     "iopub.execute_input": "2024-01-30T05:15:17.239469Z",
     "iopub.status.busy": "2024-01-30T05:15:17.238146Z",
     "iopub.status.idle": "2024-01-30T05:15:17.243662Z",
     "shell.execute_reply": "2024-01-30T05:15:17.243002Z"
    },
    "papermill": {
     "duration": 0.029187,
     "end_time": "2024-01-30T05:15:17.245366",
     "exception": false,
     "start_time": "2024-01-30T05:15:17.216179",
     "status": "completed"
    },
    "tags": []
   },
   "outputs": [],
   "source": [
    "raw_tpo_df['Name']=[str(name) for name in raw_tpo_df['Name']]"
   ]
  },
  {
   "cell_type": "markdown",
   "id": "422de0b4",
   "metadata": {
    "papermill": {
     "duration": 0.018433,
     "end_time": "2024-01-30T05:15:17.283309",
     "exception": false,
     "start_time": "2024-01-30T05:15:17.264876",
     "status": "completed"
    },
    "tags": []
   },
   "source": [
    "Lets see how many names we start with. 47"
   ]
  },
  {
   "cell_type": "code",
   "execution_count": 12,
   "id": "ff234336",
   "metadata": {
    "execution": {
     "iopub.execute_input": "2024-01-30T05:15:17.322838Z",
     "iopub.status.busy": "2024-01-30T05:15:17.322222Z",
     "iopub.status.idle": "2024-01-30T05:15:17.331604Z",
     "shell.execute_reply": "2024-01-30T05:15:17.330705Z"
    },
    "papermill": {
     "duration": 0.031971,
     "end_time": "2024-01-30T05:15:17.333984",
     "exception": false,
     "start_time": "2024-01-30T05:15:17.302013",
     "status": "completed"
    },
    "tags": []
   },
   "outputs": [
    {
     "data": {
      "text/plain": [
       "47"
      ]
     },
     "execution_count": 12,
     "metadata": {},
     "output_type": "execute_result"
    }
   ],
   "source": [
    "raw_tpo_df['Name'].nunique()"
   ]
  },
  {
   "cell_type": "markdown",
   "id": "d140efea",
   "metadata": {
    "papermill": {
     "duration": 0.01849,
     "end_time": "2024-01-30T05:15:17.371322",
     "exception": false,
     "start_time": "2024-01-30T05:15:17.352832",
     "status": "completed"
    },
    "tags": []
   },
   "source": [
    "Here we are changing a typo and replacing the naming issues we saw above."
   ]
  },
  {
   "cell_type": "code",
   "execution_count": 13,
   "id": "cefc8a1e",
   "metadata": {
    "execution": {
     "iopub.execute_input": "2024-01-30T05:15:17.412863Z",
     "iopub.status.busy": "2024-01-30T05:15:17.412106Z",
     "iopub.status.idle": "2024-01-30T05:15:17.419043Z",
     "shell.execute_reply": "2024-01-30T05:15:17.418352Z"
    },
    "papermill": {
     "duration": 0.030744,
     "end_time": "2024-01-30T05:15:17.420860",
     "exception": false,
     "start_time": "2024-01-30T05:15:17.390116",
     "status": "completed"
    },
    "tags": []
   },
   "outputs": [],
   "source": [
    "raw_tpo_df['Name'] = raw_tpo_df['Name'].replace(['Hurrican Lu'], 'Hurricane Lu')\n",
    "raw_tpo_df['Name'] = raw_tpo_df['Name'].replace(['Pedro II'], 'Pedro')\n",
    "raw_tpo_df['Name'] = raw_tpo_df['Name'].replace(['94 II'], '94')\n",
    "raw_tpo_df['Name'] = raw_tpo_df['Name'].replace(['94 III'], '94')"
   ]
  },
  {
   "cell_type": "markdown",
   "id": "e00f130e",
   "metadata": {
    "papermill": {
     "duration": 0.0215,
     "end_time": "2024-01-30T05:15:17.463549",
     "exception": false,
     "start_time": "2024-01-30T05:15:17.442049",
     "status": "completed"
    },
    "tags": []
   },
   "source": [
    "We are now down to 44 unique names."
   ]
  },
  {
   "cell_type": "code",
   "execution_count": 14,
   "id": "89f1df2a",
   "metadata": {
    "execution": {
     "iopub.execute_input": "2024-01-30T05:15:17.507429Z",
     "iopub.status.busy": "2024-01-30T05:15:17.507138Z",
     "iopub.status.idle": "2024-01-30T05:15:17.512702Z",
     "shell.execute_reply": "2024-01-30T05:15:17.512055Z"
    },
    "papermill": {
     "duration": 0.027971,
     "end_time": "2024-01-30T05:15:17.514348",
     "exception": false,
     "start_time": "2024-01-30T05:15:17.486377",
     "status": "completed"
    },
    "tags": []
   },
   "outputs": [
    {
     "data": {
      "text/plain": [
       "44"
      ]
     },
     "execution_count": 14,
     "metadata": {},
     "output_type": "execute_result"
    }
   ],
   "source": [
    "raw_tpo_df['Name'].nunique()"
   ]
  },
  {
   "cell_type": "markdown",
   "id": "443a7323",
   "metadata": {
    "papermill": {
     "duration": 0.018466,
     "end_time": "2024-01-30T05:15:17.551630",
     "exception": false,
     "start_time": "2024-01-30T05:15:17.533164",
     "status": "completed"
    },
    "tags": []
   },
   "source": [
    "# Checking For Nulls and 0s\n",
    "\n",
    "* Now lets inspect that dataframe for nulls and 0s where they shouldnt be."
   ]
  },
  {
   "cell_type": "code",
   "execution_count": 15,
   "id": "39542d08",
   "metadata": {
    "execution": {
     "iopub.execute_input": "2024-01-30T05:15:17.591273Z",
     "iopub.status.busy": "2024-01-30T05:15:17.590219Z",
     "iopub.status.idle": "2024-01-30T05:15:17.609197Z",
     "shell.execute_reply": "2024-01-30T05:15:17.607847Z"
    },
    "papermill": {
     "duration": 0.040817,
     "end_time": "2024-01-30T05:15:17.611302",
     "exception": false,
     "start_time": "2024-01-30T05:15:17.570485",
     "status": "completed"
    },
    "tags": []
   },
   "outputs": [
    {
     "name": "stdout",
     "output_type": "stream",
     "text": [
      "<class 'pandas.core.frame.DataFrame'>\n",
      "RangeIndex: 416 entries, 0 to 415\n",
      "Data columns (total 45 columns):\n",
      " #   Column         Non-Null Count  Dtype  \n",
      "---  ------         --------------  -----  \n",
      " 0   Name           416 non-null    object \n",
      " 1   Year           416 non-null    int64  \n",
      " 2   Group          416 non-null    int64  \n",
      " 3   Score_1        412 non-null    float64\n",
      " 4   Putts_1        411 non-null    float64\n",
      " 5   Score_2        412 non-null    float64\n",
      " 6   Putts_2        412 non-null    float64\n",
      " 7   Score_3        412 non-null    float64\n",
      " 8   Putts_3        412 non-null    float64\n",
      " 9   Score_4        412 non-null    float64\n",
      " 10  Putts_4        412 non-null    float64\n",
      " 11  Score_5        413 non-null    float64\n",
      " 12  Putts_5        413 non-null    float64\n",
      " 13  Score_6        412 non-null    float64\n",
      " 14  Putts_6        412 non-null    float64\n",
      " 15  Score_7        412 non-null    float64\n",
      " 16  Putts_7        412 non-null    float64\n",
      " 17  Score_8        412 non-null    float64\n",
      " 18  Putts_8        412 non-null    float64\n",
      " 19  Score_9        412 non-null    float64\n",
      " 20  Putts_9        412 non-null    float64\n",
      " 21  Front_9_Score  416 non-null    int64  \n",
      " 22  Front_9_Putts  416 non-null    int64  \n",
      " 23  Score_10       405 non-null    float64\n",
      " 24  Putts_10       405 non-null    float64\n",
      " 25  Score_11       405 non-null    float64\n",
      " 26  Putts_11       405 non-null    float64\n",
      " 27  Score_12       402 non-null    float64\n",
      " 28  Putts_12       402 non-null    float64\n",
      " 29  Score_13       401 non-null    float64\n",
      " 30  Putts_13       401 non-null    float64\n",
      " 31  Score_14       401 non-null    float64\n",
      " 32  Putts_14       401 non-null    float64\n",
      " 33  Score_15       401 non-null    float64\n",
      " 34  Putts_15       400 non-null    float64\n",
      " 35  Score_16       401 non-null    float64\n",
      " 36  Putts_16       401 non-null    float64\n",
      " 37  Score_17       401 non-null    float64\n",
      " 38  Putts_17       401 non-null    float64\n",
      " 39  Score_18       401 non-null    float64\n",
      " 40  Putts_18       401 non-null    float64\n",
      " 41  Back_9_Score   408 non-null    float64\n",
      " 42  Back_9_Putts   408 non-null    float64\n",
      " 43  Total_Score    416 non-null    int64  \n",
      " 44  Total_Putts    408 non-null    float64\n",
      "dtypes: float64(39), int64(5), object(1)\n",
      "memory usage: 146.4+ KB\n"
     ]
    }
   ],
   "source": [
    "raw_tpo_df.info()"
   ]
  },
  {
   "cell_type": "markdown",
   "id": "4a6be5cf",
   "metadata": {
    "papermill": {
     "duration": 0.018664,
     "end_time": "2024-01-30T05:15:17.649125",
     "exception": false,
     "start_time": "2024-01-30T05:15:17.630461",
     "status": "completed"
    },
    "tags": []
   },
   "source": [
    "We see we have nulls for some of our numerical columns scores and putts.\n",
    "* Let us go ahead and insert the average score / putt for each hole that has a null.\n",
    "* Below we see what the average score was, and we insert that score into the column if there was an NA value.\n"
   ]
  },
  {
   "cell_type": "code",
   "execution_count": 16,
   "id": "cf4922e4",
   "metadata": {
    "execution": {
     "iopub.execute_input": "2024-01-30T05:15:17.688110Z",
     "iopub.status.busy": "2024-01-30T05:15:17.687818Z",
     "iopub.status.idle": "2024-01-30T05:15:17.711289Z",
     "shell.execute_reply": "2024-01-30T05:15:17.709961Z"
    },
    "papermill": {
     "duration": 0.044776,
     "end_time": "2024-01-30T05:15:17.712867",
     "exception": false,
     "start_time": "2024-01-30T05:15:17.668091",
     "status": "completed"
    },
    "tags": []
   },
   "outputs": [
    {
     "name": "stdout",
     "output_type": "stream",
     "text": [
      "Average for Score_1 was: 6\n",
      "Average for Putts_1 was: 2\n",
      "Average for Score_2 was: 6\n",
      "Average for Putts_2 was: 2\n",
      "Average for Score_3 was: 5\n",
      "Average for Putts_3 was: 2\n",
      "Average for Score_4 was: 7\n",
      "Average for Putts_4 was: 2\n",
      "Average for Score_5 was: 5\n",
      "Average for Putts_5 was: 2\n",
      "Average for Score_6 was: 6\n",
      "Average for Putts_6 was: 2\n",
      "Average for Score_7 was: 6\n",
      "Average for Putts_7 was: 2\n",
      "Average for Score_8 was: 6\n",
      "Average for Putts_8 was: 2\n",
      "Average for Score_9 was: 5\n",
      "Average for Putts_9 was: 2\n",
      "Average for Front_9_Score was: 52\n",
      "Average for Front_9_Putts was: 18\n",
      "Average for Score_10 was: 7\n",
      "Average for Putts_10 was: 2\n",
      "Average for Score_11 was: 5\n",
      "Average for Putts_11 was: 2\n",
      "Average for Score_12 was: 5\n",
      "Average for Putts_12 was: 2\n",
      "Average for Score_13 was: 5\n",
      "Average for Putts_13 was: 2\n",
      "Average for Score_14 was: 4\n",
      "Average for Putts_14 was: 2\n",
      "Average for Score_15 was: 5\n",
      "Average for Putts_15 was: 2\n",
      "Average for Score_16 was: 4\n",
      "Average for Putts_16 was: 2\n",
      "Average for Score_17 was: 5\n",
      "Average for Putts_17 was: 2\n",
      "Average for Score_18 was: 6\n",
      "Average for Putts_18 was: 2\n",
      "Average for Back_9_Score was: 46\n",
      "Average for Back_9_Putts was: 17\n",
      "Average for Total_Score was: 97\n",
      "Average for Total_Putts was: 35\n"
     ]
    }
   ],
   "source": [
    "for column in raw_tpo_df.columns[3:]:\n",
    "    average_score = round(raw_tpo_df[f'{column}'].mean())\n",
    "    print(f\"Average for {column} was: {average_score}\")\n",
    "    raw_tpo_df[f'{column}'] = raw_tpo_df[f'{column}'].fillna(average_score)"
   ]
  },
  {
   "cell_type": "markdown",
   "id": "11ba2b91",
   "metadata": {
    "papermill": {
     "duration": 0.01903,
     "end_time": "2024-01-30T05:15:17.753806",
     "exception": false,
     "start_time": "2024-01-30T05:15:17.734776",
     "status": "completed"
    },
    "tags": []
   },
   "source": [
    "# Making Sure Putts and Scores arent 0"
   ]
  },
  {
   "cell_type": "markdown",
   "id": "dbeff4e6",
   "metadata": {
    "papermill": {
     "duration": 0.019166,
     "end_time": "2024-01-30T05:15:17.793747",
     "exception": false,
     "start_time": "2024-01-30T05:15:17.774581",
     "status": "completed"
    },
    "tags": []
   },
   "source": [
    "Here we want to ensure that there are no 0s in the Total Score or Total Putts column."
   ]
  },
  {
   "cell_type": "code",
   "execution_count": 17,
   "id": "6c9c18f0",
   "metadata": {
    "execution": {
     "iopub.execute_input": "2024-01-30T05:15:17.832888Z",
     "iopub.status.busy": "2024-01-30T05:15:17.832560Z",
     "iopub.status.idle": "2024-01-30T05:15:17.854700Z",
     "shell.execute_reply": "2024-01-30T05:15:17.854111Z"
    },
    "papermill": {
     "duration": 0.043177,
     "end_time": "2024-01-30T05:15:17.856109",
     "exception": false,
     "start_time": "2024-01-30T05:15:17.812932",
     "status": "completed"
    },
    "tags": []
   },
   "outputs": [
    {
     "data": {
      "text/html": [
       "<div>\n",
       "<style scoped>\n",
       "    .dataframe tbody tr th:only-of-type {\n",
       "        vertical-align: middle;\n",
       "    }\n",
       "\n",
       "    .dataframe tbody tr th {\n",
       "        vertical-align: top;\n",
       "    }\n",
       "\n",
       "    .dataframe thead th {\n",
       "        text-align: right;\n",
       "    }\n",
       "</style>\n",
       "<table border=\"1\" class=\"dataframe\">\n",
       "  <thead>\n",
       "    <tr style=\"text-align: right;\">\n",
       "      <th></th>\n",
       "      <th>Name</th>\n",
       "      <th>Year</th>\n",
       "      <th>Group</th>\n",
       "      <th>Score_1</th>\n",
       "      <th>Putts_1</th>\n",
       "      <th>Score_2</th>\n",
       "      <th>Putts_2</th>\n",
       "      <th>Score_3</th>\n",
       "      <th>Putts_3</th>\n",
       "      <th>Score_4</th>\n",
       "      <th>...</th>\n",
       "      <th>Score_16</th>\n",
       "      <th>Putts_16</th>\n",
       "      <th>Score_17</th>\n",
       "      <th>Putts_17</th>\n",
       "      <th>Score_18</th>\n",
       "      <th>Putts_18</th>\n",
       "      <th>Back_9_Score</th>\n",
       "      <th>Back_9_Putts</th>\n",
       "      <th>Total_Score</th>\n",
       "      <th>Total_Putts</th>\n",
       "    </tr>\n",
       "  </thead>\n",
       "  <tbody>\n",
       "    <tr>\n",
       "      <th>27</th>\n",
       "      <td>Sir Ian</td>\n",
       "      <td>2020</td>\n",
       "      <td>5</td>\n",
       "      <td>6.0</td>\n",
       "      <td>2.0</td>\n",
       "      <td>6.0</td>\n",
       "      <td>2.0</td>\n",
       "      <td>5.0</td>\n",
       "      <td>2.0</td>\n",
       "      <td>7.0</td>\n",
       "      <td>...</td>\n",
       "      <td>4.0</td>\n",
       "      <td>2.0</td>\n",
       "      <td>5.0</td>\n",
       "      <td>2.0</td>\n",
       "      <td>6.0</td>\n",
       "      <td>2.0</td>\n",
       "      <td>0.0</td>\n",
       "      <td>0.0</td>\n",
       "      <td>0</td>\n",
       "      <td>0.0</td>\n",
       "    </tr>\n",
       "    <tr>\n",
       "      <th>100</th>\n",
       "      <td>Re</td>\n",
       "      <td>2016</td>\n",
       "      <td>4</td>\n",
       "      <td>6.0</td>\n",
       "      <td>2.0</td>\n",
       "      <td>6.0</td>\n",
       "      <td>2.0</td>\n",
       "      <td>5.0</td>\n",
       "      <td>2.0</td>\n",
       "      <td>7.0</td>\n",
       "      <td>...</td>\n",
       "      <td>4.0</td>\n",
       "      <td>2.0</td>\n",
       "      <td>5.0</td>\n",
       "      <td>2.0</td>\n",
       "      <td>6.0</td>\n",
       "      <td>2.0</td>\n",
       "      <td>0.0</td>\n",
       "      <td>0.0</td>\n",
       "      <td>63</td>\n",
       "      <td>0.0</td>\n",
       "    </tr>\n",
       "  </tbody>\n",
       "</table>\n",
       "<p>2 rows × 45 columns</p>\n",
       "</div>"
      ],
      "text/plain": [
       "        Name  Year  Group  Score_1  Putts_1  Score_2  Putts_2  Score_3  \\\n",
       "27   Sir Ian  2020      5      6.0      2.0      6.0      2.0      5.0   \n",
       "100       Re  2016      4      6.0      2.0      6.0      2.0      5.0   \n",
       "\n",
       "     Putts_3  Score_4  ...  Score_16  Putts_16  Score_17  Putts_17  Score_18  \\\n",
       "27       2.0      7.0  ...       4.0       2.0       5.0       2.0       6.0   \n",
       "100      2.0      7.0  ...       4.0       2.0       5.0       2.0       6.0   \n",
       "\n",
       "     Putts_18  Back_9_Score  Back_9_Putts  Total_Score  Total_Putts  \n",
       "27        2.0           0.0           0.0            0          0.0  \n",
       "100       2.0           0.0           0.0           63          0.0  \n",
       "\n",
       "[2 rows x 45 columns]"
      ]
     },
     "execution_count": 17,
     "metadata": {},
     "output_type": "execute_result"
    }
   ],
   "source": [
    "raw_tpo_df[raw_tpo_df['Total_Score']==0]\n",
    "raw_tpo_df[raw_tpo_df['Total_Putts']==0]"
   ]
  },
  {
   "cell_type": "markdown",
   "id": "baa781ef",
   "metadata": {
    "papermill": {
     "duration": 0.018464,
     "end_time": "2024-01-30T05:15:17.893537",
     "exception": false,
     "start_time": "2024-01-30T05:15:17.875073",
     "status": "completed"
    },
    "tags": []
   },
   "source": [
    "We see we have two - I know this first hand that both of these rows represent withdrawals so I will drop them from our scores database. These scores were likely filled in with average scores so we will drop them from our dataframe entirely. "
   ]
  },
  {
   "cell_type": "code",
   "execution_count": 18,
   "id": "df866d97",
   "metadata": {
    "execution": {
     "iopub.execute_input": "2024-01-30T05:15:17.933678Z",
     "iopub.status.busy": "2024-01-30T05:15:17.933106Z",
     "iopub.status.idle": "2024-01-30T05:15:17.940156Z",
     "shell.execute_reply": "2024-01-30T05:15:17.939381Z"
    },
    "papermill": {
     "duration": 0.02983,
     "end_time": "2024-01-30T05:15:17.942008",
     "exception": false,
     "start_time": "2024-01-30T05:15:17.912178",
     "status": "completed"
    },
    "tags": []
   },
   "outputs": [],
   "source": [
    "raw_tpo_df=raw_tpo_df.drop(27)\n",
    "raw_tpo_df=raw_tpo_df.drop(100)"
   ]
  },
  {
   "cell_type": "markdown",
   "id": "a11d566e",
   "metadata": {
    "papermill": {
     "duration": 0.018293,
     "end_time": "2024-01-30T05:15:17.980152",
     "exception": false,
     "start_time": "2024-01-30T05:15:17.961859",
     "status": "completed"
    },
    "tags": []
   },
   "source": [
    "We also want to make sure our back 9 putss and front 9 putts columns are adding correctly"
   ]
  },
  {
   "cell_type": "code",
   "execution_count": 19,
   "id": "5dd5d7b8",
   "metadata": {
    "execution": {
     "iopub.execute_input": "2024-01-30T05:15:18.018643Z",
     "iopub.status.busy": "2024-01-30T05:15:18.017903Z",
     "iopub.status.idle": "2024-01-30T05:15:18.040892Z",
     "shell.execute_reply": "2024-01-30T05:15:18.039976Z"
    },
    "papermill": {
     "duration": 0.044066,
     "end_time": "2024-01-30T05:15:18.042529",
     "exception": false,
     "start_time": "2024-01-30T05:15:17.998463",
     "status": "completed"
    },
    "tags": []
   },
   "outputs": [
    {
     "data": {
      "text/html": [
       "<div>\n",
       "<style scoped>\n",
       "    .dataframe tbody tr th:only-of-type {\n",
       "        vertical-align: middle;\n",
       "    }\n",
       "\n",
       "    .dataframe tbody tr th {\n",
       "        vertical-align: top;\n",
       "    }\n",
       "\n",
       "    .dataframe thead th {\n",
       "        text-align: right;\n",
       "    }\n",
       "</style>\n",
       "<table border=\"1\" class=\"dataframe\">\n",
       "  <thead>\n",
       "    <tr style=\"text-align: right;\">\n",
       "      <th></th>\n",
       "      <th>Name</th>\n",
       "      <th>Year</th>\n",
       "      <th>Group</th>\n",
       "      <th>Score_1</th>\n",
       "      <th>Putts_1</th>\n",
       "      <th>Score_2</th>\n",
       "      <th>Putts_2</th>\n",
       "      <th>Score_3</th>\n",
       "      <th>Putts_3</th>\n",
       "      <th>Score_4</th>\n",
       "      <th>...</th>\n",
       "      <th>Score_16</th>\n",
       "      <th>Putts_16</th>\n",
       "      <th>Score_17</th>\n",
       "      <th>Putts_17</th>\n",
       "      <th>Score_18</th>\n",
       "      <th>Putts_18</th>\n",
       "      <th>Back_9_Score</th>\n",
       "      <th>Back_9_Putts</th>\n",
       "      <th>Total_Score</th>\n",
       "      <th>Total_Putts</th>\n",
       "    </tr>\n",
       "  </thead>\n",
       "  <tbody>\n",
       "    <tr>\n",
       "      <th>90</th>\n",
       "      <td>Edward J</td>\n",
       "      <td>2016</td>\n",
       "      <td>4</td>\n",
       "      <td>6.0</td>\n",
       "      <td>2.0</td>\n",
       "      <td>6.0</td>\n",
       "      <td>2.0</td>\n",
       "      <td>5.0</td>\n",
       "      <td>2.0</td>\n",
       "      <td>7.0</td>\n",
       "      <td>...</td>\n",
       "      <td>4.0</td>\n",
       "      <td>2.0</td>\n",
       "      <td>3.0</td>\n",
       "      <td>1.0</td>\n",
       "      <td>4.0</td>\n",
       "      <td>2.0</td>\n",
       "      <td>38.0</td>\n",
       "      <td>17.0</td>\n",
       "      <td>84</td>\n",
       "      <td>17.0</td>\n",
       "    </tr>\n",
       "    <tr>\n",
       "      <th>101</th>\n",
       "      <td>Sam</td>\n",
       "      <td>2016</td>\n",
       "      <td>4</td>\n",
       "      <td>6.0</td>\n",
       "      <td>2.0</td>\n",
       "      <td>6.0</td>\n",
       "      <td>2.0</td>\n",
       "      <td>5.0</td>\n",
       "      <td>2.0</td>\n",
       "      <td>7.0</td>\n",
       "      <td>...</td>\n",
       "      <td>5.0</td>\n",
       "      <td>2.0</td>\n",
       "      <td>6.0</td>\n",
       "      <td>2.0</td>\n",
       "      <td>7.0</td>\n",
       "      <td>2.0</td>\n",
       "      <td>58.0</td>\n",
       "      <td>20.0</td>\n",
       "      <td>116</td>\n",
       "      <td>20.0</td>\n",
       "    </tr>\n",
       "  </tbody>\n",
       "</table>\n",
       "<p>2 rows × 45 columns</p>\n",
       "</div>"
      ],
      "text/plain": [
       "         Name  Year  Group  Score_1  Putts_1  Score_2  Putts_2  Score_3  \\\n",
       "90   Edward J  2016      4      6.0      2.0      6.0      2.0      5.0   \n",
       "101       Sam  2016      4      6.0      2.0      6.0      2.0      5.0   \n",
       "\n",
       "     Putts_3  Score_4  ...  Score_16  Putts_16  Score_17  Putts_17  Score_18  \\\n",
       "90       2.0      7.0  ...       4.0       2.0       3.0       1.0       4.0   \n",
       "101      2.0      7.0  ...       5.0       2.0       6.0       2.0       7.0   \n",
       "\n",
       "     Putts_18  Back_9_Score  Back_9_Putts  Total_Score  Total_Putts  \n",
       "90        2.0          38.0          17.0           84         17.0  \n",
       "101       2.0          58.0          20.0          116         20.0  \n",
       "\n",
       "[2 rows x 45 columns]"
      ]
     },
     "execution_count": 19,
     "metadata": {},
     "output_type": "execute_result"
    }
   ],
   "source": [
    "raw_tpo_df[raw_tpo_df['Back_9_Putts']==0]\n",
    "raw_tpo_df[raw_tpo_df['Front_9_Putts']==0]"
   ]
  },
  {
   "cell_type": "markdown",
   "id": "bcaf201b",
   "metadata": {
    "papermill": {
     "duration": 0.01834,
     "end_time": "2024-01-30T05:15:18.080472",
     "exception": false,
     "start_time": "2024-01-30T05:15:18.062132",
     "status": "completed"
    },
    "tags": []
   },
   "source": [
    "Theres two instances where they arent adding up so lets create a way to add all the putts together then insert the correct column."
   ]
  },
  {
   "cell_type": "markdown",
   "id": "94ba96a0",
   "metadata": {
    "papermill": {
     "duration": 0.018601,
     "end_time": "2024-01-30T05:15:18.118028",
     "exception": false,
     "start_time": "2024-01-30T05:15:18.099427",
     "status": "completed"
    },
    "tags": []
   },
   "source": [
    "First, lets get a dataframe of all the putting scores."
   ]
  },
  {
   "cell_type": "code",
   "execution_count": 20,
   "id": "a6d08039",
   "metadata": {
    "execution": {
     "iopub.execute_input": "2024-01-30T05:15:18.158945Z",
     "iopub.status.busy": "2024-01-30T05:15:18.158412Z",
     "iopub.status.idle": "2024-01-30T05:15:18.164022Z",
     "shell.execute_reply": "2024-01-30T05:15:18.163407Z"
    },
    "papermill": {
     "duration": 0.02857,
     "end_time": "2024-01-30T05:15:18.165608",
     "exception": false,
     "start_time": "2024-01-30T05:15:18.137038",
     "status": "completed"
    },
    "tags": []
   },
   "outputs": [
    {
     "data": {
      "text/plain": [
       "['Putts_1',\n",
       " 'Putts_2',\n",
       " 'Putts_3',\n",
       " 'Putts_4',\n",
       " 'Putts_5',\n",
       " 'Putts_6',\n",
       " 'Putts_7',\n",
       " 'Putts_8',\n",
       " 'Putts_9',\n",
       " 'Putts_10',\n",
       " 'Putts_11',\n",
       " 'Putts_12',\n",
       " 'Putts_13',\n",
       " 'Putts_14',\n",
       " 'Putts_15',\n",
       " 'Putts_16',\n",
       " 'Putts_17',\n",
       " 'Putts_18']"
      ]
     },
     "execution_count": 20,
     "metadata": {},
     "output_type": "execute_result"
    }
   ],
   "source": [
    "putt_cols = [col for col in raw_tpo_df if col.startswith('Putts')]\n",
    "putt_cols"
   ]
  },
  {
   "cell_type": "markdown",
   "id": "c57463e9",
   "metadata": {
    "papermill": {
     "duration": 0.018701,
     "end_time": "2024-01-30T05:15:18.203985",
     "exception": false,
     "start_time": "2024-01-30T05:15:18.185284",
     "status": "completed"
    },
    "tags": []
   },
   "source": [
    "Here we create a new df called putts_df that shows just the scores that we will loop through to get the average.\n",
    "\n",
    "We also create two seperate dfs that will store the front 9 putting scores and the back 9 putting scores. We will add a column to these two dataframes that sum the rows in them. \n",
    "\n",
    "Lastly, we create a new column called Total Putts that sums all the rows within putts df."
   ]
  },
  {
   "cell_type": "code",
   "execution_count": 21,
   "id": "78f3db4e",
   "metadata": {
    "execution": {
     "iopub.execute_input": "2024-01-30T05:15:18.244343Z",
     "iopub.status.busy": "2024-01-30T05:15:18.244061Z",
     "iopub.status.idle": "2024-01-30T05:15:18.249967Z",
     "shell.execute_reply": "2024-01-30T05:15:18.249112Z"
    },
    "papermill": {
     "duration": 0.028214,
     "end_time": "2024-01-30T05:15:18.251588",
     "exception": false,
     "start_time": "2024-01-30T05:15:18.223374",
     "status": "completed"
    },
    "tags": []
   },
   "outputs": [],
   "source": [
    "putts_df=raw_tpo_df[putt_cols]"
   ]
  },
  {
   "cell_type": "markdown",
   "id": "d0cfc78c",
   "metadata": {
    "papermill": {
     "duration": 0.019095,
     "end_time": "2024-01-30T05:15:18.289898",
     "exception": false,
     "start_time": "2024-01-30T05:15:18.270803",
     "status": "completed"
    },
    "tags": []
   },
   "source": [
    "Inspecting putts_df"
   ]
  },
  {
   "cell_type": "code",
   "execution_count": 22,
   "id": "68d75b88",
   "metadata": {
    "execution": {
     "iopub.execute_input": "2024-01-30T05:15:18.330229Z",
     "iopub.status.busy": "2024-01-30T05:15:18.329315Z",
     "iopub.status.idle": "2024-01-30T05:15:18.350427Z",
     "shell.execute_reply": "2024-01-30T05:15:18.349596Z"
    },
    "papermill": {
     "duration": 0.043197,
     "end_time": "2024-01-30T05:15:18.352117",
     "exception": false,
     "start_time": "2024-01-30T05:15:18.308920",
     "status": "completed"
    },
    "tags": []
   },
   "outputs": [
    {
     "data": {
      "text/html": [
       "<div>\n",
       "<style scoped>\n",
       "    .dataframe tbody tr th:only-of-type {\n",
       "        vertical-align: middle;\n",
       "    }\n",
       "\n",
       "    .dataframe tbody tr th {\n",
       "        vertical-align: top;\n",
       "    }\n",
       "\n",
       "    .dataframe thead th {\n",
       "        text-align: right;\n",
       "    }\n",
       "</style>\n",
       "<table border=\"1\" class=\"dataframe\">\n",
       "  <thead>\n",
       "    <tr style=\"text-align: right;\">\n",
       "      <th></th>\n",
       "      <th>Putts_1</th>\n",
       "      <th>Putts_2</th>\n",
       "      <th>Putts_3</th>\n",
       "      <th>Putts_4</th>\n",
       "      <th>Putts_5</th>\n",
       "      <th>Putts_6</th>\n",
       "      <th>Putts_7</th>\n",
       "      <th>Putts_8</th>\n",
       "      <th>Putts_9</th>\n",
       "      <th>Putts_10</th>\n",
       "      <th>Putts_11</th>\n",
       "      <th>Putts_12</th>\n",
       "      <th>Putts_13</th>\n",
       "      <th>Putts_14</th>\n",
       "      <th>Putts_15</th>\n",
       "      <th>Putts_16</th>\n",
       "      <th>Putts_17</th>\n",
       "      <th>Putts_18</th>\n",
       "    </tr>\n",
       "  </thead>\n",
       "  <tbody>\n",
       "    <tr>\n",
       "      <th>0</th>\n",
       "      <td>2.0</td>\n",
       "      <td>1.0</td>\n",
       "      <td>2.0</td>\n",
       "      <td>3.0</td>\n",
       "      <td>2.0</td>\n",
       "      <td>3.0</td>\n",
       "      <td>3.0</td>\n",
       "      <td>3.0</td>\n",
       "      <td>2.0</td>\n",
       "      <td>2.0</td>\n",
       "      <td>2.0</td>\n",
       "      <td>2.0</td>\n",
       "      <td>2.0</td>\n",
       "      <td>1.0</td>\n",
       "      <td>2.0</td>\n",
       "      <td>2.0</td>\n",
       "      <td>2.0</td>\n",
       "      <td>2.0</td>\n",
       "    </tr>\n",
       "    <tr>\n",
       "      <th>1</th>\n",
       "      <td>1.0</td>\n",
       "      <td>2.0</td>\n",
       "      <td>2.0</td>\n",
       "      <td>2.0</td>\n",
       "      <td>2.0</td>\n",
       "      <td>2.0</td>\n",
       "      <td>2.0</td>\n",
       "      <td>1.0</td>\n",
       "      <td>2.0</td>\n",
       "      <td>2.0</td>\n",
       "      <td>1.0</td>\n",
       "      <td>1.0</td>\n",
       "      <td>1.0</td>\n",
       "      <td>3.0</td>\n",
       "      <td>1.0</td>\n",
       "      <td>2.0</td>\n",
       "      <td>2.0</td>\n",
       "      <td>1.0</td>\n",
       "    </tr>\n",
       "    <tr>\n",
       "      <th>2</th>\n",
       "      <td>2.0</td>\n",
       "      <td>1.0</td>\n",
       "      <td>1.0</td>\n",
       "      <td>2.0</td>\n",
       "      <td>2.0</td>\n",
       "      <td>1.0</td>\n",
       "      <td>2.0</td>\n",
       "      <td>2.0</td>\n",
       "      <td>2.0</td>\n",
       "      <td>2.0</td>\n",
       "      <td>1.0</td>\n",
       "      <td>2.0</td>\n",
       "      <td>1.0</td>\n",
       "      <td>2.0</td>\n",
       "      <td>1.0</td>\n",
       "      <td>2.0</td>\n",
       "      <td>1.0</td>\n",
       "      <td>2.0</td>\n",
       "    </tr>\n",
       "    <tr>\n",
       "      <th>3</th>\n",
       "      <td>2.0</td>\n",
       "      <td>3.0</td>\n",
       "      <td>2.0</td>\n",
       "      <td>2.0</td>\n",
       "      <td>1.0</td>\n",
       "      <td>1.0</td>\n",
       "      <td>2.0</td>\n",
       "      <td>2.0</td>\n",
       "      <td>2.0</td>\n",
       "      <td>1.0</td>\n",
       "      <td>2.0</td>\n",
       "      <td>1.0</td>\n",
       "      <td>1.0</td>\n",
       "      <td>3.0</td>\n",
       "      <td>1.0</td>\n",
       "      <td>1.0</td>\n",
       "      <td>1.0</td>\n",
       "      <td>3.0</td>\n",
       "    </tr>\n",
       "    <tr>\n",
       "      <th>4</th>\n",
       "      <td>2.0</td>\n",
       "      <td>2.0</td>\n",
       "      <td>2.0</td>\n",
       "      <td>2.0</td>\n",
       "      <td>3.0</td>\n",
       "      <td>3.0</td>\n",
       "      <td>1.0</td>\n",
       "      <td>2.0</td>\n",
       "      <td>2.0</td>\n",
       "      <td>3.0</td>\n",
       "      <td>2.0</td>\n",
       "      <td>2.0</td>\n",
       "      <td>2.0</td>\n",
       "      <td>2.0</td>\n",
       "      <td>2.0</td>\n",
       "      <td>1.0</td>\n",
       "      <td>2.0</td>\n",
       "      <td>1.0</td>\n",
       "    </tr>\n",
       "  </tbody>\n",
       "</table>\n",
       "</div>"
      ],
      "text/plain": [
       "   Putts_1  Putts_2  Putts_3  Putts_4  Putts_5  Putts_6  Putts_7  Putts_8  \\\n",
       "0      2.0      1.0      2.0      3.0      2.0      3.0      3.0      3.0   \n",
       "1      1.0      2.0      2.0      2.0      2.0      2.0      2.0      1.0   \n",
       "2      2.0      1.0      1.0      2.0      2.0      1.0      2.0      2.0   \n",
       "3      2.0      3.0      2.0      2.0      1.0      1.0      2.0      2.0   \n",
       "4      2.0      2.0      2.0      2.0      3.0      3.0      1.0      2.0   \n",
       "\n",
       "   Putts_9  Putts_10  Putts_11  Putts_12  Putts_13  Putts_14  Putts_15  \\\n",
       "0      2.0       2.0       2.0       2.0       2.0       1.0       2.0   \n",
       "1      2.0       2.0       1.0       1.0       1.0       3.0       1.0   \n",
       "2      2.0       2.0       1.0       2.0       1.0       2.0       1.0   \n",
       "3      2.0       1.0       2.0       1.0       1.0       3.0       1.0   \n",
       "4      2.0       3.0       2.0       2.0       2.0       2.0       2.0   \n",
       "\n",
       "   Putts_16  Putts_17  Putts_18  \n",
       "0       2.0       2.0       2.0  \n",
       "1       2.0       2.0       1.0  \n",
       "2       2.0       1.0       2.0  \n",
       "3       1.0       1.0       3.0  \n",
       "4       1.0       2.0       1.0  "
      ]
     },
     "execution_count": 22,
     "metadata": {},
     "output_type": "execute_result"
    }
   ],
   "source": [
    "putts_df.head()"
   ]
  },
  {
   "cell_type": "code",
   "execution_count": 23,
   "id": "aa2e31d9",
   "metadata": {
    "execution": {
     "iopub.execute_input": "2024-01-30T05:15:18.392934Z",
     "iopub.status.busy": "2024-01-30T05:15:18.392481Z",
     "iopub.status.idle": "2024-01-30T05:15:18.487235Z",
     "shell.execute_reply": "2024-01-30T05:15:18.486407Z"
    },
    "papermill": {
     "duration": 0.117358,
     "end_time": "2024-01-30T05:15:18.489136",
     "exception": false,
     "start_time": "2024-01-30T05:15:18.371778",
     "status": "completed"
    },
    "tags": []
   },
   "outputs": [
    {
     "name": "stderr",
     "output_type": "stream",
     "text": [
      "/tmp/ipykernel_18/4228412292.py:4: SettingWithCopyWarning: \n",
      "A value is trying to be set on a copy of a slice from a DataFrame.\n",
      "Try using .loc[row_indexer,col_indexer] = value instead\n",
      "\n",
      "See the caveats in the documentation: https://pandas.pydata.org/pandas-docs/stable/user_guide/indexing.html#returning-a-view-versus-a-copy\n",
      "  putts_df_front[\"Front_9_Putts\"] = putts_df_front.apply(np.sum, axis=1)\n",
      "/tmp/ipykernel_18/4228412292.py:9: SettingWithCopyWarning: \n",
      "A value is trying to be set on a copy of a slice from a DataFrame.\n",
      "Try using .loc[row_indexer,col_indexer] = value instead\n",
      "\n",
      "See the caveats in the documentation: https://pandas.pydata.org/pandas-docs/stable/user_guide/indexing.html#returning-a-view-versus-a-copy\n",
      "  putts_df_back[\"Back_9_Putts\"] = putts_df_back.apply(np.sum, axis=1)\n",
      "/tmp/ipykernel_18/4228412292.py:12: SettingWithCopyWarning: \n",
      "A value is trying to be set on a copy of a slice from a DataFrame.\n",
      "Try using .loc[row_indexer,col_indexer] = value instead\n",
      "\n",
      "See the caveats in the documentation: https://pandas.pydata.org/pandas-docs/stable/user_guide/indexing.html#returning-a-view-versus-a-copy\n",
      "  putts_df['Total_Putts'] = putts_df.apply(np.sum, axis=1)\n"
     ]
    }
   ],
   "source": [
    "#front dataframe of putts\n",
    "putts_df_front = putts_df.iloc[:,[0,1,2,3,4,5,6,7,8]]\n",
    "#adding a new column that adds it all together\n",
    "putts_df_front[\"Front_9_Putts\"] = putts_df_front.apply(np.sum, axis=1)\n",
    "\n",
    "#back dataframe of putts\n",
    "putts_df_back = putts_df.iloc[:,[9,10,11,12,13,14,15,16,17]]\n",
    "#adding a new column that adds it all together\n",
    "putts_df_back[\"Back_9_Putts\"] = putts_df_back.apply(np.sum, axis=1)\n",
    "\n",
    "#now creating a total putts column so we can add that to our cleaned tpo dataframe\n",
    "putts_df['Total_Putts'] = putts_df.apply(np.sum, axis=1)"
   ]
  },
  {
   "cell_type": "markdown",
   "id": "85606e8d",
   "metadata": {
    "papermill": {
     "duration": 0.019788,
     "end_time": "2024-01-30T05:15:18.528492",
     "exception": false,
     "start_time": "2024-01-30T05:15:18.508704",
     "status": "completed"
    },
    "tags": []
   },
   "source": [
    "Inspecting Putts DF Again"
   ]
  },
  {
   "cell_type": "code",
   "execution_count": 24,
   "id": "a2a795c1",
   "metadata": {
    "execution": {
     "iopub.execute_input": "2024-01-30T05:15:18.569559Z",
     "iopub.status.busy": "2024-01-30T05:15:18.569102Z",
     "iopub.status.idle": "2024-01-30T05:15:18.590863Z",
     "shell.execute_reply": "2024-01-30T05:15:18.589991Z"
    },
    "papermill": {
     "duration": 0.044965,
     "end_time": "2024-01-30T05:15:18.593210",
     "exception": false,
     "start_time": "2024-01-30T05:15:18.548245",
     "status": "completed"
    },
    "tags": []
   },
   "outputs": [
    {
     "data": {
      "text/html": [
       "<div>\n",
       "<style scoped>\n",
       "    .dataframe tbody tr th:only-of-type {\n",
       "        vertical-align: middle;\n",
       "    }\n",
       "\n",
       "    .dataframe tbody tr th {\n",
       "        vertical-align: top;\n",
       "    }\n",
       "\n",
       "    .dataframe thead th {\n",
       "        text-align: right;\n",
       "    }\n",
       "</style>\n",
       "<table border=\"1\" class=\"dataframe\">\n",
       "  <thead>\n",
       "    <tr style=\"text-align: right;\">\n",
       "      <th></th>\n",
       "      <th>Putts_1</th>\n",
       "      <th>Putts_2</th>\n",
       "      <th>Putts_3</th>\n",
       "      <th>Putts_4</th>\n",
       "      <th>Putts_5</th>\n",
       "      <th>Putts_6</th>\n",
       "      <th>Putts_7</th>\n",
       "      <th>Putts_8</th>\n",
       "      <th>Putts_9</th>\n",
       "      <th>Putts_10</th>\n",
       "      <th>Putts_11</th>\n",
       "      <th>Putts_12</th>\n",
       "      <th>Putts_13</th>\n",
       "      <th>Putts_14</th>\n",
       "      <th>Putts_15</th>\n",
       "      <th>Putts_16</th>\n",
       "      <th>Putts_17</th>\n",
       "      <th>Putts_18</th>\n",
       "      <th>Total_Putts</th>\n",
       "    </tr>\n",
       "  </thead>\n",
       "  <tbody>\n",
       "    <tr>\n",
       "      <th>0</th>\n",
       "      <td>2.0</td>\n",
       "      <td>1.0</td>\n",
       "      <td>2.0</td>\n",
       "      <td>3.0</td>\n",
       "      <td>2.0</td>\n",
       "      <td>3.0</td>\n",
       "      <td>3.0</td>\n",
       "      <td>3.0</td>\n",
       "      <td>2.0</td>\n",
       "      <td>2.0</td>\n",
       "      <td>2.0</td>\n",
       "      <td>2.0</td>\n",
       "      <td>2.0</td>\n",
       "      <td>1.0</td>\n",
       "      <td>2.0</td>\n",
       "      <td>2.0</td>\n",
       "      <td>2.0</td>\n",
       "      <td>2.0</td>\n",
       "      <td>38.0</td>\n",
       "    </tr>\n",
       "    <tr>\n",
       "      <th>1</th>\n",
       "      <td>1.0</td>\n",
       "      <td>2.0</td>\n",
       "      <td>2.0</td>\n",
       "      <td>2.0</td>\n",
       "      <td>2.0</td>\n",
       "      <td>2.0</td>\n",
       "      <td>2.0</td>\n",
       "      <td>1.0</td>\n",
       "      <td>2.0</td>\n",
       "      <td>2.0</td>\n",
       "      <td>1.0</td>\n",
       "      <td>1.0</td>\n",
       "      <td>1.0</td>\n",
       "      <td>3.0</td>\n",
       "      <td>1.0</td>\n",
       "      <td>2.0</td>\n",
       "      <td>2.0</td>\n",
       "      <td>1.0</td>\n",
       "      <td>30.0</td>\n",
       "    </tr>\n",
       "    <tr>\n",
       "      <th>2</th>\n",
       "      <td>2.0</td>\n",
       "      <td>1.0</td>\n",
       "      <td>1.0</td>\n",
       "      <td>2.0</td>\n",
       "      <td>2.0</td>\n",
       "      <td>1.0</td>\n",
       "      <td>2.0</td>\n",
       "      <td>2.0</td>\n",
       "      <td>2.0</td>\n",
       "      <td>2.0</td>\n",
       "      <td>1.0</td>\n",
       "      <td>2.0</td>\n",
       "      <td>1.0</td>\n",
       "      <td>2.0</td>\n",
       "      <td>1.0</td>\n",
       "      <td>2.0</td>\n",
       "      <td>1.0</td>\n",
       "      <td>2.0</td>\n",
       "      <td>29.0</td>\n",
       "    </tr>\n",
       "    <tr>\n",
       "      <th>3</th>\n",
       "      <td>2.0</td>\n",
       "      <td>3.0</td>\n",
       "      <td>2.0</td>\n",
       "      <td>2.0</td>\n",
       "      <td>1.0</td>\n",
       "      <td>1.0</td>\n",
       "      <td>2.0</td>\n",
       "      <td>2.0</td>\n",
       "      <td>2.0</td>\n",
       "      <td>1.0</td>\n",
       "      <td>2.0</td>\n",
       "      <td>1.0</td>\n",
       "      <td>1.0</td>\n",
       "      <td>3.0</td>\n",
       "      <td>1.0</td>\n",
       "      <td>1.0</td>\n",
       "      <td>1.0</td>\n",
       "      <td>3.0</td>\n",
       "      <td>31.0</td>\n",
       "    </tr>\n",
       "    <tr>\n",
       "      <th>4</th>\n",
       "      <td>2.0</td>\n",
       "      <td>2.0</td>\n",
       "      <td>2.0</td>\n",
       "      <td>2.0</td>\n",
       "      <td>3.0</td>\n",
       "      <td>3.0</td>\n",
       "      <td>1.0</td>\n",
       "      <td>2.0</td>\n",
       "      <td>2.0</td>\n",
       "      <td>3.0</td>\n",
       "      <td>2.0</td>\n",
       "      <td>2.0</td>\n",
       "      <td>2.0</td>\n",
       "      <td>2.0</td>\n",
       "      <td>2.0</td>\n",
       "      <td>1.0</td>\n",
       "      <td>2.0</td>\n",
       "      <td>1.0</td>\n",
       "      <td>36.0</td>\n",
       "    </tr>\n",
       "  </tbody>\n",
       "</table>\n",
       "</div>"
      ],
      "text/plain": [
       "   Putts_1  Putts_2  Putts_3  Putts_4  Putts_5  Putts_6  Putts_7  Putts_8  \\\n",
       "0      2.0      1.0      2.0      3.0      2.0      3.0      3.0      3.0   \n",
       "1      1.0      2.0      2.0      2.0      2.0      2.0      2.0      1.0   \n",
       "2      2.0      1.0      1.0      2.0      2.0      1.0      2.0      2.0   \n",
       "3      2.0      3.0      2.0      2.0      1.0      1.0      2.0      2.0   \n",
       "4      2.0      2.0      2.0      2.0      3.0      3.0      1.0      2.0   \n",
       "\n",
       "   Putts_9  Putts_10  Putts_11  Putts_12  Putts_13  Putts_14  Putts_15  \\\n",
       "0      2.0       2.0       2.0       2.0       2.0       1.0       2.0   \n",
       "1      2.0       2.0       1.0       1.0       1.0       3.0       1.0   \n",
       "2      2.0       2.0       1.0       2.0       1.0       2.0       1.0   \n",
       "3      2.0       1.0       2.0       1.0       1.0       3.0       1.0   \n",
       "4      2.0       3.0       2.0       2.0       2.0       2.0       2.0   \n",
       "\n",
       "   Putts_16  Putts_17  Putts_18  Total_Putts  \n",
       "0       2.0       2.0       2.0         38.0  \n",
       "1       2.0       2.0       1.0         30.0  \n",
       "2       2.0       1.0       2.0         29.0  \n",
       "3       1.0       1.0       3.0         31.0  \n",
       "4       1.0       2.0       1.0         36.0  "
      ]
     },
     "execution_count": 24,
     "metadata": {},
     "output_type": "execute_result"
    }
   ],
   "source": [
    "putts_df.head()"
   ]
  },
  {
   "cell_type": "markdown",
   "id": "9b7c301a",
   "metadata": {
    "papermill": {
     "duration": 0.01995,
     "end_time": "2024-01-30T05:15:18.633634",
     "exception": false,
     "start_time": "2024-01-30T05:15:18.613684",
     "status": "completed"
    },
    "tags": []
   },
   "source": [
    "Inspecting our two subdataframes as well."
   ]
  },
  {
   "cell_type": "code",
   "execution_count": 25,
   "id": "4a6a54a0",
   "metadata": {
    "execution": {
     "iopub.execute_input": "2024-01-30T05:15:18.676314Z",
     "iopub.status.busy": "2024-01-30T05:15:18.676018Z",
     "iopub.status.idle": "2024-01-30T05:15:18.691503Z",
     "shell.execute_reply": "2024-01-30T05:15:18.690699Z"
    },
    "papermill": {
     "duration": 0.038529,
     "end_time": "2024-01-30T05:15:18.693047",
     "exception": false,
     "start_time": "2024-01-30T05:15:18.654518",
     "status": "completed"
    },
    "tags": []
   },
   "outputs": [
    {
     "data": {
      "text/html": [
       "<div>\n",
       "<style scoped>\n",
       "    .dataframe tbody tr th:only-of-type {\n",
       "        vertical-align: middle;\n",
       "    }\n",
       "\n",
       "    .dataframe tbody tr th {\n",
       "        vertical-align: top;\n",
       "    }\n",
       "\n",
       "    .dataframe thead th {\n",
       "        text-align: right;\n",
       "    }\n",
       "</style>\n",
       "<table border=\"1\" class=\"dataframe\">\n",
       "  <thead>\n",
       "    <tr style=\"text-align: right;\">\n",
       "      <th></th>\n",
       "      <th>Putts_1</th>\n",
       "      <th>Putts_2</th>\n",
       "      <th>Putts_3</th>\n",
       "      <th>Putts_4</th>\n",
       "      <th>Putts_5</th>\n",
       "      <th>Putts_6</th>\n",
       "      <th>Putts_7</th>\n",
       "      <th>Putts_8</th>\n",
       "      <th>Putts_9</th>\n",
       "      <th>Front_9_Putts</th>\n",
       "    </tr>\n",
       "  </thead>\n",
       "  <tbody>\n",
       "    <tr>\n",
       "      <th>0</th>\n",
       "      <td>2.0</td>\n",
       "      <td>1.0</td>\n",
       "      <td>2.0</td>\n",
       "      <td>3.0</td>\n",
       "      <td>2.0</td>\n",
       "      <td>3.0</td>\n",
       "      <td>3.0</td>\n",
       "      <td>3.0</td>\n",
       "      <td>2.0</td>\n",
       "      <td>21.0</td>\n",
       "    </tr>\n",
       "    <tr>\n",
       "      <th>1</th>\n",
       "      <td>1.0</td>\n",
       "      <td>2.0</td>\n",
       "      <td>2.0</td>\n",
       "      <td>2.0</td>\n",
       "      <td>2.0</td>\n",
       "      <td>2.0</td>\n",
       "      <td>2.0</td>\n",
       "      <td>1.0</td>\n",
       "      <td>2.0</td>\n",
       "      <td>16.0</td>\n",
       "    </tr>\n",
       "    <tr>\n",
       "      <th>2</th>\n",
       "      <td>2.0</td>\n",
       "      <td>1.0</td>\n",
       "      <td>1.0</td>\n",
       "      <td>2.0</td>\n",
       "      <td>2.0</td>\n",
       "      <td>1.0</td>\n",
       "      <td>2.0</td>\n",
       "      <td>2.0</td>\n",
       "      <td>2.0</td>\n",
       "      <td>15.0</td>\n",
       "    </tr>\n",
       "    <tr>\n",
       "      <th>3</th>\n",
       "      <td>2.0</td>\n",
       "      <td>3.0</td>\n",
       "      <td>2.0</td>\n",
       "      <td>2.0</td>\n",
       "      <td>1.0</td>\n",
       "      <td>1.0</td>\n",
       "      <td>2.0</td>\n",
       "      <td>2.0</td>\n",
       "      <td>2.0</td>\n",
       "      <td>17.0</td>\n",
       "    </tr>\n",
       "    <tr>\n",
       "      <th>4</th>\n",
       "      <td>2.0</td>\n",
       "      <td>2.0</td>\n",
       "      <td>2.0</td>\n",
       "      <td>2.0</td>\n",
       "      <td>3.0</td>\n",
       "      <td>3.0</td>\n",
       "      <td>1.0</td>\n",
       "      <td>2.0</td>\n",
       "      <td>2.0</td>\n",
       "      <td>19.0</td>\n",
       "    </tr>\n",
       "  </tbody>\n",
       "</table>\n",
       "</div>"
      ],
      "text/plain": [
       "   Putts_1  Putts_2  Putts_3  Putts_4  Putts_5  Putts_6  Putts_7  Putts_8  \\\n",
       "0      2.0      1.0      2.0      3.0      2.0      3.0      3.0      3.0   \n",
       "1      1.0      2.0      2.0      2.0      2.0      2.0      2.0      1.0   \n",
       "2      2.0      1.0      1.0      2.0      2.0      1.0      2.0      2.0   \n",
       "3      2.0      3.0      2.0      2.0      1.0      1.0      2.0      2.0   \n",
       "4      2.0      2.0      2.0      2.0      3.0      3.0      1.0      2.0   \n",
       "\n",
       "   Putts_9  Front_9_Putts  \n",
       "0      2.0           21.0  \n",
       "1      2.0           16.0  \n",
       "2      2.0           15.0  \n",
       "3      2.0           17.0  \n",
       "4      2.0           19.0  "
      ]
     },
     "execution_count": 25,
     "metadata": {},
     "output_type": "execute_result"
    }
   ],
   "source": [
    "putts_df_front.head()"
   ]
  },
  {
   "cell_type": "code",
   "execution_count": 26,
   "id": "3417c80f",
   "metadata": {
    "execution": {
     "iopub.execute_input": "2024-01-30T05:15:18.735213Z",
     "iopub.status.busy": "2024-01-30T05:15:18.734342Z",
     "iopub.status.idle": "2024-01-30T05:15:18.748602Z",
     "shell.execute_reply": "2024-01-30T05:15:18.747809Z"
    },
    "papermill": {
     "duration": 0.036974,
     "end_time": "2024-01-30T05:15:18.750541",
     "exception": false,
     "start_time": "2024-01-30T05:15:18.713567",
     "status": "completed"
    },
    "tags": []
   },
   "outputs": [
    {
     "data": {
      "text/html": [
       "<div>\n",
       "<style scoped>\n",
       "    .dataframe tbody tr th:only-of-type {\n",
       "        vertical-align: middle;\n",
       "    }\n",
       "\n",
       "    .dataframe tbody tr th {\n",
       "        vertical-align: top;\n",
       "    }\n",
       "\n",
       "    .dataframe thead th {\n",
       "        text-align: right;\n",
       "    }\n",
       "</style>\n",
       "<table border=\"1\" class=\"dataframe\">\n",
       "  <thead>\n",
       "    <tr style=\"text-align: right;\">\n",
       "      <th></th>\n",
       "      <th>Putts_10</th>\n",
       "      <th>Putts_11</th>\n",
       "      <th>Putts_12</th>\n",
       "      <th>Putts_13</th>\n",
       "      <th>Putts_14</th>\n",
       "      <th>Putts_15</th>\n",
       "      <th>Putts_16</th>\n",
       "      <th>Putts_17</th>\n",
       "      <th>Putts_18</th>\n",
       "      <th>Back_9_Putts</th>\n",
       "    </tr>\n",
       "  </thead>\n",
       "  <tbody>\n",
       "    <tr>\n",
       "      <th>0</th>\n",
       "      <td>2.0</td>\n",
       "      <td>2.0</td>\n",
       "      <td>2.0</td>\n",
       "      <td>2.0</td>\n",
       "      <td>1.0</td>\n",
       "      <td>2.0</td>\n",
       "      <td>2.0</td>\n",
       "      <td>2.0</td>\n",
       "      <td>2.0</td>\n",
       "      <td>17.0</td>\n",
       "    </tr>\n",
       "    <tr>\n",
       "      <th>1</th>\n",
       "      <td>2.0</td>\n",
       "      <td>1.0</td>\n",
       "      <td>1.0</td>\n",
       "      <td>1.0</td>\n",
       "      <td>3.0</td>\n",
       "      <td>1.0</td>\n",
       "      <td>2.0</td>\n",
       "      <td>2.0</td>\n",
       "      <td>1.0</td>\n",
       "      <td>14.0</td>\n",
       "    </tr>\n",
       "    <tr>\n",
       "      <th>2</th>\n",
       "      <td>2.0</td>\n",
       "      <td>1.0</td>\n",
       "      <td>2.0</td>\n",
       "      <td>1.0</td>\n",
       "      <td>2.0</td>\n",
       "      <td>1.0</td>\n",
       "      <td>2.0</td>\n",
       "      <td>1.0</td>\n",
       "      <td>2.0</td>\n",
       "      <td>14.0</td>\n",
       "    </tr>\n",
       "    <tr>\n",
       "      <th>3</th>\n",
       "      <td>1.0</td>\n",
       "      <td>2.0</td>\n",
       "      <td>1.0</td>\n",
       "      <td>1.0</td>\n",
       "      <td>3.0</td>\n",
       "      <td>1.0</td>\n",
       "      <td>1.0</td>\n",
       "      <td>1.0</td>\n",
       "      <td>3.0</td>\n",
       "      <td>14.0</td>\n",
       "    </tr>\n",
       "    <tr>\n",
       "      <th>4</th>\n",
       "      <td>3.0</td>\n",
       "      <td>2.0</td>\n",
       "      <td>2.0</td>\n",
       "      <td>2.0</td>\n",
       "      <td>2.0</td>\n",
       "      <td>2.0</td>\n",
       "      <td>1.0</td>\n",
       "      <td>2.0</td>\n",
       "      <td>1.0</td>\n",
       "      <td>17.0</td>\n",
       "    </tr>\n",
       "  </tbody>\n",
       "</table>\n",
       "</div>"
      ],
      "text/plain": [
       "   Putts_10  Putts_11  Putts_12  Putts_13  Putts_14  Putts_15  Putts_16  \\\n",
       "0       2.0       2.0       2.0       2.0       1.0       2.0       2.0   \n",
       "1       2.0       1.0       1.0       1.0       3.0       1.0       2.0   \n",
       "2       2.0       1.0       2.0       1.0       2.0       1.0       2.0   \n",
       "3       1.0       2.0       1.0       1.0       3.0       1.0       1.0   \n",
       "4       3.0       2.0       2.0       2.0       2.0       2.0       1.0   \n",
       "\n",
       "   Putts_17  Putts_18  Back_9_Putts  \n",
       "0       2.0       2.0          17.0  \n",
       "1       2.0       1.0          14.0  \n",
       "2       1.0       2.0          14.0  \n",
       "3       1.0       3.0          14.0  \n",
       "4       2.0       1.0          17.0  "
      ]
     },
     "execution_count": 26,
     "metadata": {},
     "output_type": "execute_result"
    }
   ],
   "source": [
    "putts_df_back.head()"
   ]
  },
  {
   "cell_type": "markdown",
   "id": "a5951022",
   "metadata": {
    "papermill": {
     "duration": 0.020092,
     "end_time": "2024-01-30T05:15:18.790994",
     "exception": false,
     "start_time": "2024-01-30T05:15:18.770902",
     "status": "completed"
    },
    "tags": []
   },
   "source": [
    "Inserting the columns we need back into our main dataframe."
   ]
  },
  {
   "cell_type": "code",
   "execution_count": 27,
   "id": "34093307",
   "metadata": {
    "execution": {
     "iopub.execute_input": "2024-01-30T05:15:18.833886Z",
     "iopub.status.busy": "2024-01-30T05:15:18.833571Z",
     "iopub.status.idle": "2024-01-30T05:15:18.838037Z",
     "shell.execute_reply": "2024-01-30T05:15:18.837092Z"
    },
    "papermill": {
     "duration": 0.02856,
     "end_time": "2024-01-30T05:15:18.840544",
     "exception": false,
     "start_time": "2024-01-30T05:15:18.811984",
     "status": "completed"
    },
    "tags": []
   },
   "outputs": [],
   "source": [
    "raw_tpo_df[\"Front_9_Putts\"]=putts_df_front[\"Front_9_Putts\"]\n",
    "raw_tpo_df[\"Back_9_Putts\"]=putts_df_back[\"Back_9_Putts\"]"
   ]
  },
  {
   "cell_type": "code",
   "execution_count": 28,
   "id": "ed05b16b",
   "metadata": {
    "execution": {
     "iopub.execute_input": "2024-01-30T05:15:18.882032Z",
     "iopub.status.busy": "2024-01-30T05:15:18.881737Z",
     "iopub.status.idle": "2024-01-30T05:15:18.895545Z",
     "shell.execute_reply": "2024-01-30T05:15:18.894704Z"
    },
    "papermill": {
     "duration": 0.036327,
     "end_time": "2024-01-30T05:15:18.897291",
     "exception": false,
     "start_time": "2024-01-30T05:15:18.860964",
     "status": "completed"
    },
    "tags": []
   },
   "outputs": [
    {
     "data": {
      "text/html": [
       "<div>\n",
       "<style scoped>\n",
       "    .dataframe tbody tr th:only-of-type {\n",
       "        vertical-align: middle;\n",
       "    }\n",
       "\n",
       "    .dataframe tbody tr th {\n",
       "        vertical-align: top;\n",
       "    }\n",
       "\n",
       "    .dataframe thead th {\n",
       "        text-align: right;\n",
       "    }\n",
       "</style>\n",
       "<table border=\"1\" class=\"dataframe\">\n",
       "  <thead>\n",
       "    <tr style=\"text-align: right;\">\n",
       "      <th></th>\n",
       "      <th>Name</th>\n",
       "      <th>Year</th>\n",
       "      <th>Group</th>\n",
       "      <th>Score_1</th>\n",
       "      <th>Putts_1</th>\n",
       "      <th>Score_2</th>\n",
       "      <th>Putts_2</th>\n",
       "      <th>Score_3</th>\n",
       "      <th>Putts_3</th>\n",
       "      <th>Score_4</th>\n",
       "      <th>...</th>\n",
       "      <th>Score_16</th>\n",
       "      <th>Putts_16</th>\n",
       "      <th>Score_17</th>\n",
       "      <th>Putts_17</th>\n",
       "      <th>Score_18</th>\n",
       "      <th>Putts_18</th>\n",
       "      <th>Back_9_Score</th>\n",
       "      <th>Back_9_Putts</th>\n",
       "      <th>Total_Score</th>\n",
       "      <th>Total_Putts</th>\n",
       "    </tr>\n",
       "  </thead>\n",
       "  <tbody>\n",
       "  </tbody>\n",
       "</table>\n",
       "<p>0 rows × 45 columns</p>\n",
       "</div>"
      ],
      "text/plain": [
       "Empty DataFrame\n",
       "Columns: [Name, Year, Group, Score_1, Putts_1, Score_2, Putts_2, Score_3, Putts_3, Score_4, Putts_4, Score_5, Putts_5, Score_6, Putts_6, Score_7, Putts_7, Score_8, Putts_8, Score_9, Putts_9, Front_9_Score, Front_9_Putts, Score_10, Putts_10, Score_11, Putts_11, Score_12, Putts_12, Score_13, Putts_13, Score_14, Putts_14, Score_15, Putts_15, Score_16, Putts_16, Score_17, Putts_17, Score_18, Putts_18, Back_9_Score, Back_9_Putts, Total_Score, Total_Putts]\n",
       "Index: []\n",
       "\n",
       "[0 rows x 45 columns]"
      ]
     },
     "execution_count": 28,
     "metadata": {},
     "output_type": "execute_result"
    }
   ],
   "source": [
    "#No more instances where Putts are blank\n",
    "raw_tpo_df[raw_tpo_df['Back_9_Putts']==0]\n",
    "raw_tpo_df[raw_tpo_df['Front_9_Putts']==0]"
   ]
  },
  {
   "cell_type": "markdown",
   "id": "c70cc100",
   "metadata": {
    "papermill": {
     "duration": 0.019903,
     "end_time": "2024-01-30T05:15:18.937379",
     "exception": false,
     "start_time": "2024-01-30T05:15:18.917476",
     "status": "completed"
    },
    "tags": []
   },
   "source": [
    "Quick sniff test .. looks good."
   ]
  },
  {
   "cell_type": "code",
   "execution_count": 29,
   "id": "bb3ea512",
   "metadata": {
    "execution": {
     "iopub.execute_input": "2024-01-30T05:15:18.978994Z",
     "iopub.status.busy": "2024-01-30T05:15:18.978707Z",
     "iopub.status.idle": "2024-01-30T05:15:18.985410Z",
     "shell.execute_reply": "2024-01-30T05:15:18.984565Z"
    },
    "papermill": {
     "duration": 0.029459,
     "end_time": "2024-01-30T05:15:18.986844",
     "exception": false,
     "start_time": "2024-01-30T05:15:18.957385",
     "status": "completed"
    },
    "tags": []
   },
   "outputs": [
    {
     "data": {
      "text/plain": [
       "0      21.0\n",
       "1      16.0\n",
       "2      15.0\n",
       "3      17.0\n",
       "4      19.0\n",
       "       ... \n",
       "411    19.0\n",
       "412    18.0\n",
       "413    17.0\n",
       "414    18.0\n",
       "415    17.0\n",
       "Name: Front_9_Putts, Length: 414, dtype: float64"
      ]
     },
     "execution_count": 29,
     "metadata": {},
     "output_type": "execute_result"
    }
   ],
   "source": [
    "raw_tpo_df[\"Front_9_Putts\"]"
   ]
  },
  {
   "cell_type": "markdown",
   "id": "83c8407d",
   "metadata": {
    "papermill": {
     "duration": 0.019884,
     "end_time": "2024-01-30T05:15:19.027254",
     "exception": false,
     "start_time": "2024-01-30T05:15:19.007370",
     "status": "completed"
    },
    "tags": []
   },
   "source": [
    "Quick check for NAs - all good"
   ]
  },
  {
   "cell_type": "code",
   "execution_count": 30,
   "id": "545bfe1d",
   "metadata": {
    "execution": {
     "iopub.execute_input": "2024-01-30T05:15:19.069065Z",
     "iopub.status.busy": "2024-01-30T05:15:19.068751Z",
     "iopub.status.idle": "2024-01-30T05:15:19.083055Z",
     "shell.execute_reply": "2024-01-30T05:15:19.082282Z"
    },
    "papermill": {
     "duration": 0.037425,
     "end_time": "2024-01-30T05:15:19.084662",
     "exception": false,
     "start_time": "2024-01-30T05:15:19.047237",
     "status": "completed"
    },
    "tags": []
   },
   "outputs": [
    {
     "name": "stdout",
     "output_type": "stream",
     "text": [
      "<class 'pandas.core.frame.DataFrame'>\n",
      "Index: 414 entries, 0 to 415\n",
      "Data columns (total 45 columns):\n",
      " #   Column         Non-Null Count  Dtype  \n",
      "---  ------         --------------  -----  \n",
      " 0   Name           414 non-null    object \n",
      " 1   Year           414 non-null    int64  \n",
      " 2   Group          414 non-null    int64  \n",
      " 3   Score_1        414 non-null    float64\n",
      " 4   Putts_1        414 non-null    float64\n",
      " 5   Score_2        414 non-null    float64\n",
      " 6   Putts_2        414 non-null    float64\n",
      " 7   Score_3        414 non-null    float64\n",
      " 8   Putts_3        414 non-null    float64\n",
      " 9   Score_4        414 non-null    float64\n",
      " 10  Putts_4        414 non-null    float64\n",
      " 11  Score_5        414 non-null    float64\n",
      " 12  Putts_5        414 non-null    float64\n",
      " 13  Score_6        414 non-null    float64\n",
      " 14  Putts_6        414 non-null    float64\n",
      " 15  Score_7        414 non-null    float64\n",
      " 16  Putts_7        414 non-null    float64\n",
      " 17  Score_8        414 non-null    float64\n",
      " 18  Putts_8        414 non-null    float64\n",
      " 19  Score_9        414 non-null    float64\n",
      " 20  Putts_9        414 non-null    float64\n",
      " 21  Front_9_Score  414 non-null    int64  \n",
      " 22  Front_9_Putts  414 non-null    float64\n",
      " 23  Score_10       414 non-null    float64\n",
      " 24  Putts_10       414 non-null    float64\n",
      " 25  Score_11       414 non-null    float64\n",
      " 26  Putts_11       414 non-null    float64\n",
      " 27  Score_12       414 non-null    float64\n",
      " 28  Putts_12       414 non-null    float64\n",
      " 29  Score_13       414 non-null    float64\n",
      " 30  Putts_13       414 non-null    float64\n",
      " 31  Score_14       414 non-null    float64\n",
      " 32  Putts_14       414 non-null    float64\n",
      " 33  Score_15       414 non-null    float64\n",
      " 34  Putts_15       414 non-null    float64\n",
      " 35  Score_16       414 non-null    float64\n",
      " 36  Putts_16       414 non-null    float64\n",
      " 37  Score_17       414 non-null    float64\n",
      " 38  Putts_17       414 non-null    float64\n",
      " 39  Score_18       414 non-null    float64\n",
      " 40  Putts_18       414 non-null    float64\n",
      " 41  Back_9_Score   414 non-null    float64\n",
      " 42  Back_9_Putts   414 non-null    float64\n",
      " 43  Total_Score    414 non-null    int64  \n",
      " 44  Total_Putts    414 non-null    float64\n",
      "dtypes: float64(40), int64(4), object(1)\n",
      "memory usage: 148.8+ KB\n"
     ]
    }
   ],
   "source": [
    "raw_tpo_df.info()"
   ]
  },
  {
   "cell_type": "code",
   "execution_count": 31,
   "id": "c157be42",
   "metadata": {
    "execution": {
     "iopub.execute_input": "2024-01-30T05:15:19.127202Z",
     "iopub.status.busy": "2024-01-30T05:15:19.126903Z",
     "iopub.status.idle": "2024-01-30T05:15:19.159267Z",
     "shell.execute_reply": "2024-01-30T05:15:19.158462Z"
    },
    "papermill": {
     "duration": 0.05555,
     "end_time": "2024-01-30T05:15:19.160989",
     "exception": false,
     "start_time": "2024-01-30T05:15:19.105439",
     "status": "completed"
    },
    "tags": []
   },
   "outputs": [
    {
     "data": {
      "text/html": [
       "<div>\n",
       "<style scoped>\n",
       "    .dataframe tbody tr th:only-of-type {\n",
       "        vertical-align: middle;\n",
       "    }\n",
       "\n",
       "    .dataframe tbody tr th {\n",
       "        vertical-align: top;\n",
       "    }\n",
       "\n",
       "    .dataframe thead th {\n",
       "        text-align: right;\n",
       "    }\n",
       "</style>\n",
       "<table border=\"1\" class=\"dataframe\">\n",
       "  <thead>\n",
       "    <tr style=\"text-align: right;\">\n",
       "      <th></th>\n",
       "      <th>Name</th>\n",
       "      <th>Year</th>\n",
       "      <th>Group</th>\n",
       "      <th>Score_1</th>\n",
       "      <th>Putts_1</th>\n",
       "      <th>Score_2</th>\n",
       "      <th>Putts_2</th>\n",
       "      <th>Score_3</th>\n",
       "      <th>Putts_3</th>\n",
       "      <th>Score_4</th>\n",
       "      <th>...</th>\n",
       "      <th>Score_16</th>\n",
       "      <th>Putts_16</th>\n",
       "      <th>Score_17</th>\n",
       "      <th>Putts_17</th>\n",
       "      <th>Score_18</th>\n",
       "      <th>Putts_18</th>\n",
       "      <th>Back_9_Score</th>\n",
       "      <th>Back_9_Putts</th>\n",
       "      <th>Total_Score</th>\n",
       "      <th>Total_Putts</th>\n",
       "    </tr>\n",
       "  </thead>\n",
       "  <tbody>\n",
       "    <tr>\n",
       "      <th>0</th>\n",
       "      <td>94</td>\n",
       "      <td>2022</td>\n",
       "      <td>2</td>\n",
       "      <td>8.0</td>\n",
       "      <td>2.0</td>\n",
       "      <td>8.0</td>\n",
       "      <td>1.0</td>\n",
       "      <td>4.0</td>\n",
       "      <td>2.0</td>\n",
       "      <td>9.0</td>\n",
       "      <td>...</td>\n",
       "      <td>5.0</td>\n",
       "      <td>2.0</td>\n",
       "      <td>6.0</td>\n",
       "      <td>2.0</td>\n",
       "      <td>7.0</td>\n",
       "      <td>2.0</td>\n",
       "      <td>52.0</td>\n",
       "      <td>17.0</td>\n",
       "      <td>125</td>\n",
       "      <td>38.0</td>\n",
       "    </tr>\n",
       "    <tr>\n",
       "      <th>1</th>\n",
       "      <td>Brad M</td>\n",
       "      <td>2022</td>\n",
       "      <td>3</td>\n",
       "      <td>6.0</td>\n",
       "      <td>1.0</td>\n",
       "      <td>7.0</td>\n",
       "      <td>2.0</td>\n",
       "      <td>5.0</td>\n",
       "      <td>2.0</td>\n",
       "      <td>7.0</td>\n",
       "      <td>...</td>\n",
       "      <td>3.0</td>\n",
       "      <td>2.0</td>\n",
       "      <td>4.0</td>\n",
       "      <td>2.0</td>\n",
       "      <td>6.0</td>\n",
       "      <td>1.0</td>\n",
       "      <td>47.0</td>\n",
       "      <td>14.0</td>\n",
       "      <td>101</td>\n",
       "      <td>30.0</td>\n",
       "    </tr>\n",
       "    <tr>\n",
       "      <th>2</th>\n",
       "      <td>EBS</td>\n",
       "      <td>2022</td>\n",
       "      <td>2</td>\n",
       "      <td>6.0</td>\n",
       "      <td>2.0</td>\n",
       "      <td>5.0</td>\n",
       "      <td>1.0</td>\n",
       "      <td>3.0</td>\n",
       "      <td>1.0</td>\n",
       "      <td>6.0</td>\n",
       "      <td>...</td>\n",
       "      <td>4.0</td>\n",
       "      <td>2.0</td>\n",
       "      <td>2.0</td>\n",
       "      <td>1.0</td>\n",
       "      <td>4.0</td>\n",
       "      <td>2.0</td>\n",
       "      <td>39.0</td>\n",
       "      <td>14.0</td>\n",
       "      <td>81</td>\n",
       "      <td>29.0</td>\n",
       "    </tr>\n",
       "    <tr>\n",
       "      <th>3</th>\n",
       "      <td>Edward J</td>\n",
       "      <td>2022</td>\n",
       "      <td>1</td>\n",
       "      <td>7.0</td>\n",
       "      <td>2.0</td>\n",
       "      <td>8.0</td>\n",
       "      <td>3.0</td>\n",
       "      <td>5.0</td>\n",
       "      <td>2.0</td>\n",
       "      <td>5.0</td>\n",
       "      <td>...</td>\n",
       "      <td>5.0</td>\n",
       "      <td>1.0</td>\n",
       "      <td>4.0</td>\n",
       "      <td>1.0</td>\n",
       "      <td>6.0</td>\n",
       "      <td>3.0</td>\n",
       "      <td>43.0</td>\n",
       "      <td>14.0</td>\n",
       "      <td>95</td>\n",
       "      <td>31.0</td>\n",
       "    </tr>\n",
       "    <tr>\n",
       "      <th>4</th>\n",
       "      <td>Hurricane Lu</td>\n",
       "      <td>2022</td>\n",
       "      <td>3</td>\n",
       "      <td>5.0</td>\n",
       "      <td>2.0</td>\n",
       "      <td>6.0</td>\n",
       "      <td>2.0</td>\n",
       "      <td>5.0</td>\n",
       "      <td>2.0</td>\n",
       "      <td>7.0</td>\n",
       "      <td>...</td>\n",
       "      <td>3.0</td>\n",
       "      <td>1.0</td>\n",
       "      <td>5.0</td>\n",
       "      <td>2.0</td>\n",
       "      <td>6.0</td>\n",
       "      <td>1.0</td>\n",
       "      <td>49.0</td>\n",
       "      <td>17.0</td>\n",
       "      <td>101</td>\n",
       "      <td>36.0</td>\n",
       "    </tr>\n",
       "    <tr>\n",
       "      <th>...</th>\n",
       "      <td>...</td>\n",
       "      <td>...</td>\n",
       "      <td>...</td>\n",
       "      <td>...</td>\n",
       "      <td>...</td>\n",
       "      <td>...</td>\n",
       "      <td>...</td>\n",
       "      <td>...</td>\n",
       "      <td>...</td>\n",
       "      <td>...</td>\n",
       "      <td>...</td>\n",
       "      <td>...</td>\n",
       "      <td>...</td>\n",
       "      <td>...</td>\n",
       "      <td>...</td>\n",
       "      <td>...</td>\n",
       "      <td>...</td>\n",
       "      <td>...</td>\n",
       "      <td>...</td>\n",
       "      <td>...</td>\n",
       "      <td>...</td>\n",
       "    </tr>\n",
       "    <tr>\n",
       "      <th>411</th>\n",
       "      <td>JWS</td>\n",
       "      <td>1995</td>\n",
       "      <td>2</td>\n",
       "      <td>4.0</td>\n",
       "      <td>3.0</td>\n",
       "      <td>5.0</td>\n",
       "      <td>2.0</td>\n",
       "      <td>4.0</td>\n",
       "      <td>2.0</td>\n",
       "      <td>6.0</td>\n",
       "      <td>...</td>\n",
       "      <td>4.0</td>\n",
       "      <td>1.0</td>\n",
       "      <td>6.0</td>\n",
       "      <td>2.0</td>\n",
       "      <td>6.0</td>\n",
       "      <td>3.0</td>\n",
       "      <td>46.0</td>\n",
       "      <td>20.0</td>\n",
       "      <td>92</td>\n",
       "      <td>39.0</td>\n",
       "    </tr>\n",
       "    <tr>\n",
       "      <th>412</th>\n",
       "      <td>Pedro</td>\n",
       "      <td>1995</td>\n",
       "      <td>2</td>\n",
       "      <td>6.0</td>\n",
       "      <td>2.0</td>\n",
       "      <td>6.0</td>\n",
       "      <td>2.0</td>\n",
       "      <td>4.0</td>\n",
       "      <td>2.0</td>\n",
       "      <td>6.0</td>\n",
       "      <td>...</td>\n",
       "      <td>4.0</td>\n",
       "      <td>2.0</td>\n",
       "      <td>6.0</td>\n",
       "      <td>3.0</td>\n",
       "      <td>6.0</td>\n",
       "      <td>2.0</td>\n",
       "      <td>53.0</td>\n",
       "      <td>17.0</td>\n",
       "      <td>102</td>\n",
       "      <td>35.0</td>\n",
       "    </tr>\n",
       "    <tr>\n",
       "      <th>413</th>\n",
       "      <td>Russ Kee</td>\n",
       "      <td>1995</td>\n",
       "      <td>1</td>\n",
       "      <td>8.0</td>\n",
       "      <td>1.0</td>\n",
       "      <td>4.0</td>\n",
       "      <td>2.0</td>\n",
       "      <td>6.0</td>\n",
       "      <td>2.0</td>\n",
       "      <td>9.0</td>\n",
       "      <td>...</td>\n",
       "      <td>5.0</td>\n",
       "      <td>1.0</td>\n",
       "      <td>6.0</td>\n",
       "      <td>1.0</td>\n",
       "      <td>7.0</td>\n",
       "      <td>3.0</td>\n",
       "      <td>53.0</td>\n",
       "      <td>20.0</td>\n",
       "      <td>114</td>\n",
       "      <td>37.0</td>\n",
       "    </tr>\n",
       "    <tr>\n",
       "      <th>414</th>\n",
       "      <td>Sir Ian</td>\n",
       "      <td>1995</td>\n",
       "      <td>3</td>\n",
       "      <td>13.0</td>\n",
       "      <td>2.0</td>\n",
       "      <td>7.0</td>\n",
       "      <td>2.0</td>\n",
       "      <td>6.0</td>\n",
       "      <td>2.0</td>\n",
       "      <td>7.0</td>\n",
       "      <td>...</td>\n",
       "      <td>4.0</td>\n",
       "      <td>2.0</td>\n",
       "      <td>6.0</td>\n",
       "      <td>1.0</td>\n",
       "      <td>10.0</td>\n",
       "      <td>1.0</td>\n",
       "      <td>57.0</td>\n",
       "      <td>19.0</td>\n",
       "      <td>133</td>\n",
       "      <td>37.0</td>\n",
       "    </tr>\n",
       "    <tr>\n",
       "      <th>415</th>\n",
       "      <td>Wild Bill</td>\n",
       "      <td>1995</td>\n",
       "      <td>3</td>\n",
       "      <td>11.0</td>\n",
       "      <td>1.0</td>\n",
       "      <td>6.0</td>\n",
       "      <td>2.0</td>\n",
       "      <td>4.0</td>\n",
       "      <td>2.0</td>\n",
       "      <td>5.0</td>\n",
       "      <td>...</td>\n",
       "      <td>5.0</td>\n",
       "      <td>2.0</td>\n",
       "      <td>4.0</td>\n",
       "      <td>2.0</td>\n",
       "      <td>5.0</td>\n",
       "      <td>1.0</td>\n",
       "      <td>43.0</td>\n",
       "      <td>16.0</td>\n",
       "      <td>95</td>\n",
       "      <td>33.0</td>\n",
       "    </tr>\n",
       "  </tbody>\n",
       "</table>\n",
       "<p>414 rows × 45 columns</p>\n",
       "</div>"
      ],
      "text/plain": [
       "             Name  Year  Group  Score_1  Putts_1  Score_2  Putts_2  Score_3  \\\n",
       "0              94  2022      2      8.0      2.0      8.0      1.0      4.0   \n",
       "1          Brad M  2022      3      6.0      1.0      7.0      2.0      5.0   \n",
       "2             EBS  2022      2      6.0      2.0      5.0      1.0      3.0   \n",
       "3        Edward J  2022      1      7.0      2.0      8.0      3.0      5.0   \n",
       "4    Hurricane Lu  2022      3      5.0      2.0      6.0      2.0      5.0   \n",
       "..            ...   ...    ...      ...      ...      ...      ...      ...   \n",
       "411           JWS  1995      2      4.0      3.0      5.0      2.0      4.0   \n",
       "412         Pedro  1995      2      6.0      2.0      6.0      2.0      4.0   \n",
       "413      Russ Kee  1995      1      8.0      1.0      4.0      2.0      6.0   \n",
       "414       Sir Ian  1995      3     13.0      2.0      7.0      2.0      6.0   \n",
       "415     Wild Bill  1995      3     11.0      1.0      6.0      2.0      4.0   \n",
       "\n",
       "     Putts_3  Score_4  ...  Score_16  Putts_16  Score_17  Putts_17  Score_18  \\\n",
       "0        2.0      9.0  ...       5.0       2.0       6.0       2.0       7.0   \n",
       "1        2.0      7.0  ...       3.0       2.0       4.0       2.0       6.0   \n",
       "2        1.0      6.0  ...       4.0       2.0       2.0       1.0       4.0   \n",
       "3        2.0      5.0  ...       5.0       1.0       4.0       1.0       6.0   \n",
       "4        2.0      7.0  ...       3.0       1.0       5.0       2.0       6.0   \n",
       "..       ...      ...  ...       ...       ...       ...       ...       ...   \n",
       "411      2.0      6.0  ...       4.0       1.0       6.0       2.0       6.0   \n",
       "412      2.0      6.0  ...       4.0       2.0       6.0       3.0       6.0   \n",
       "413      2.0      9.0  ...       5.0       1.0       6.0       1.0       7.0   \n",
       "414      2.0      7.0  ...       4.0       2.0       6.0       1.0      10.0   \n",
       "415      2.0      5.0  ...       5.0       2.0       4.0       2.0       5.0   \n",
       "\n",
       "     Putts_18  Back_9_Score  Back_9_Putts  Total_Score  Total_Putts  \n",
       "0         2.0          52.0          17.0          125         38.0  \n",
       "1         1.0          47.0          14.0          101         30.0  \n",
       "2         2.0          39.0          14.0           81         29.0  \n",
       "3         3.0          43.0          14.0           95         31.0  \n",
       "4         1.0          49.0          17.0          101         36.0  \n",
       "..        ...           ...           ...          ...          ...  \n",
       "411       3.0          46.0          20.0           92         39.0  \n",
       "412       2.0          53.0          17.0          102         35.0  \n",
       "413       3.0          53.0          20.0          114         37.0  \n",
       "414       1.0          57.0          19.0          133         37.0  \n",
       "415       1.0          43.0          16.0           95         33.0  \n",
       "\n",
       "[414 rows x 45 columns]"
      ]
     },
     "execution_count": 31,
     "metadata": {},
     "output_type": "execute_result"
    }
   ],
   "source": [
    "#changing our dataframe name to cleaned_tpo_df\n",
    "cleaned_tpo_df=raw_tpo_df\n",
    "cleaned_tpo_df"
   ]
  },
  {
   "cell_type": "markdown",
   "id": "95f07f25",
   "metadata": {
    "papermill": {
     "duration": 0.021306,
     "end_time": "2024-01-30T05:15:19.205361",
     "exception": false,
     "start_time": "2024-01-30T05:15:19.184055",
     "status": "completed"
    },
    "tags": []
   },
   "source": [
    "# Now that our dataset is clean we can do some analysis and get insights from the dataset."
   ]
  },
  {
   "cell_type": "markdown",
   "id": "8eb83b67",
   "metadata": {
    "papermill": {
     "duration": 0.019776,
     "end_time": "2024-01-30T05:15:19.245842",
     "exception": false,
     "start_time": "2024-01-30T05:15:19.226066",
     "status": "completed"
    },
    "tags": []
   },
   "source": [
    "# Insights\n",
    "\n",
    "Let's use some statistical analysis techniques to get a better sense of the dataset by completing the tasks below:\n",
    "\n",
    "1. Create a box plot to generate quartiles for the scoring on each hole.\n",
    "\n",
    "2. Answer statistcal questions like:\n",
    "    * What was the average score when looking at average score of holes?\n",
    "    * What was the maximum and minimum average scores for this course?\n",
    "    * What is the correlation between hole length and average score? (Prediction: Should be very close to 1.)\n",
    "    \n",
    "    \n",
    "3. How does Scoring change as players get older? Show this graphically.\n",
    "    \n",
    "4. How does my putting and \"shots over par\" (new created column) correlate vs the entire groups putting vs shots over par?\n",
    "\n",
    "5. Plot each hole and the distributions of the scores on each hole. "
   ]
  },
  {
   "cell_type": "markdown",
   "id": "4a99f835",
   "metadata": {
    "papermill": {
     "duration": 0.019837,
     "end_time": "2024-01-30T05:15:19.285968",
     "exception": false,
     "start_time": "2024-01-30T05:15:19.266131",
     "status": "completed"
    },
    "tags": []
   },
   "source": [
    "# Insight #1: Box Plot"
   ]
  },
  {
   "cell_type": "markdown",
   "id": "a23534e6",
   "metadata": {
    "papermill": {
     "duration": 0.020523,
     "end_time": "2024-01-30T05:15:19.328436",
     "exception": false,
     "start_time": "2024-01-30T05:15:19.307913",
     "status": "completed"
    },
    "tags": []
   },
   "source": [
    "# Scores Dataframe"
   ]
  },
  {
   "cell_type": "markdown",
   "id": "912e4006",
   "metadata": {
    "papermill": {
     "duration": 0.022067,
     "end_time": "2024-01-30T05:15:19.371258",
     "exception": false,
     "start_time": "2024-01-30T05:15:19.349191",
     "status": "completed"
    },
    "tags": []
   },
   "source": [
    "Importing the visualization package matplotlib"
   ]
  },
  {
   "cell_type": "code",
   "execution_count": 32,
   "id": "ef571425",
   "metadata": {
    "execution": {
     "iopub.execute_input": "2024-01-30T05:15:19.415563Z",
     "iopub.status.busy": "2024-01-30T05:15:19.415259Z",
     "iopub.status.idle": "2024-01-30T05:15:19.418986Z",
     "shell.execute_reply": "2024-01-30T05:15:19.418186Z"
    },
    "papermill": {
     "duration": 0.027876,
     "end_time": "2024-01-30T05:15:19.420593",
     "exception": false,
     "start_time": "2024-01-30T05:15:19.392717",
     "status": "completed"
    },
    "tags": []
   },
   "outputs": [],
   "source": [
    "from matplotlib import pyplot as plt"
   ]
  },
  {
   "cell_type": "markdown",
   "id": "63574e22",
   "metadata": {
    "papermill": {
     "duration": 0.021125,
     "end_time": "2024-01-30T05:15:19.463264",
     "exception": false,
     "start_time": "2024-01-30T05:15:19.442139",
     "status": "completed"
    },
    "tags": []
   },
   "source": [
    "Let's create a new dataframe called score_cols that will hold all of the score columns in our cleaned dataframe."
   ]
  },
  {
   "cell_type": "code",
   "execution_count": 33,
   "id": "a38f50c1",
   "metadata": {
    "execution": {
     "iopub.execute_input": "2024-01-30T05:15:19.508527Z",
     "iopub.status.busy": "2024-01-30T05:15:19.507941Z",
     "iopub.status.idle": "2024-01-30T05:15:19.537741Z",
     "shell.execute_reply": "2024-01-30T05:15:19.536883Z"
    },
    "papermill": {
     "duration": 0.054503,
     "end_time": "2024-01-30T05:15:19.539370",
     "exception": false,
     "start_time": "2024-01-30T05:15:19.484867",
     "status": "completed"
    },
    "tags": []
   },
   "outputs": [
    {
     "data": {
      "text/html": [
       "<div>\n",
       "<style scoped>\n",
       "    .dataframe tbody tr th:only-of-type {\n",
       "        vertical-align: middle;\n",
       "    }\n",
       "\n",
       "    .dataframe tbody tr th {\n",
       "        vertical-align: top;\n",
       "    }\n",
       "\n",
       "    .dataframe thead th {\n",
       "        text-align: right;\n",
       "    }\n",
       "</style>\n",
       "<table border=\"1\" class=\"dataframe\">\n",
       "  <thead>\n",
       "    <tr style=\"text-align: right;\">\n",
       "      <th></th>\n",
       "      <th>Score_1</th>\n",
       "      <th>Score_2</th>\n",
       "      <th>Score_3</th>\n",
       "      <th>Score_4</th>\n",
       "      <th>Score_5</th>\n",
       "      <th>Score_6</th>\n",
       "      <th>Score_7</th>\n",
       "      <th>Score_8</th>\n",
       "      <th>Score_9</th>\n",
       "      <th>Score_10</th>\n",
       "      <th>Score_11</th>\n",
       "      <th>Score_12</th>\n",
       "      <th>Score_13</th>\n",
       "      <th>Score_14</th>\n",
       "      <th>Score_15</th>\n",
       "      <th>Score_16</th>\n",
       "      <th>Score_17</th>\n",
       "      <th>Score_18</th>\n",
       "    </tr>\n",
       "  </thead>\n",
       "  <tbody>\n",
       "    <tr>\n",
       "      <th>0</th>\n",
       "      <td>8.0</td>\n",
       "      <td>8.0</td>\n",
       "      <td>4.0</td>\n",
       "      <td>9.0</td>\n",
       "      <td>7.0</td>\n",
       "      <td>9.0</td>\n",
       "      <td>10.0</td>\n",
       "      <td>10.0</td>\n",
       "      <td>8.0</td>\n",
       "      <td>7.0</td>\n",
       "      <td>4.0</td>\n",
       "      <td>7.0</td>\n",
       "      <td>7.0</td>\n",
       "      <td>3.0</td>\n",
       "      <td>6.0</td>\n",
       "      <td>5.0</td>\n",
       "      <td>6.0</td>\n",
       "      <td>7.0</td>\n",
       "    </tr>\n",
       "    <tr>\n",
       "      <th>1</th>\n",
       "      <td>6.0</td>\n",
       "      <td>7.0</td>\n",
       "      <td>5.0</td>\n",
       "      <td>7.0</td>\n",
       "      <td>6.0</td>\n",
       "      <td>6.0</td>\n",
       "      <td>6.0</td>\n",
       "      <td>5.0</td>\n",
       "      <td>6.0</td>\n",
       "      <td>8.0</td>\n",
       "      <td>4.0</td>\n",
       "      <td>5.0</td>\n",
       "      <td>6.0</td>\n",
       "      <td>5.0</td>\n",
       "      <td>6.0</td>\n",
       "      <td>3.0</td>\n",
       "      <td>4.0</td>\n",
       "      <td>6.0</td>\n",
       "    </tr>\n",
       "    <tr>\n",
       "      <th>2</th>\n",
       "      <td>6.0</td>\n",
       "      <td>5.0</td>\n",
       "      <td>3.0</td>\n",
       "      <td>6.0</td>\n",
       "      <td>6.0</td>\n",
       "      <td>3.0</td>\n",
       "      <td>5.0</td>\n",
       "      <td>4.0</td>\n",
       "      <td>4.0</td>\n",
       "      <td>6.0</td>\n",
       "      <td>3.0</td>\n",
       "      <td>7.0</td>\n",
       "      <td>5.0</td>\n",
       "      <td>4.0</td>\n",
       "      <td>4.0</td>\n",
       "      <td>4.0</td>\n",
       "      <td>2.0</td>\n",
       "      <td>4.0</td>\n",
       "    </tr>\n",
       "    <tr>\n",
       "      <th>3</th>\n",
       "      <td>7.0</td>\n",
       "      <td>8.0</td>\n",
       "      <td>5.0</td>\n",
       "      <td>5.0</td>\n",
       "      <td>4.0</td>\n",
       "      <td>4.0</td>\n",
       "      <td>6.0</td>\n",
       "      <td>8.0</td>\n",
       "      <td>5.0</td>\n",
       "      <td>6.0</td>\n",
       "      <td>5.0</td>\n",
       "      <td>4.0</td>\n",
       "      <td>4.0</td>\n",
       "      <td>5.0</td>\n",
       "      <td>4.0</td>\n",
       "      <td>5.0</td>\n",
       "      <td>4.0</td>\n",
       "      <td>6.0</td>\n",
       "    </tr>\n",
       "    <tr>\n",
       "      <th>4</th>\n",
       "      <td>5.0</td>\n",
       "      <td>6.0</td>\n",
       "      <td>5.0</td>\n",
       "      <td>7.0</td>\n",
       "      <td>7.0</td>\n",
       "      <td>6.0</td>\n",
       "      <td>5.0</td>\n",
       "      <td>6.0</td>\n",
       "      <td>5.0</td>\n",
       "      <td>10.0</td>\n",
       "      <td>5.0</td>\n",
       "      <td>6.0</td>\n",
       "      <td>5.0</td>\n",
       "      <td>4.0</td>\n",
       "      <td>5.0</td>\n",
       "      <td>3.0</td>\n",
       "      <td>5.0</td>\n",
       "      <td>6.0</td>\n",
       "    </tr>\n",
       "    <tr>\n",
       "      <th>...</th>\n",
       "      <td>...</td>\n",
       "      <td>...</td>\n",
       "      <td>...</td>\n",
       "      <td>...</td>\n",
       "      <td>...</td>\n",
       "      <td>...</td>\n",
       "      <td>...</td>\n",
       "      <td>...</td>\n",
       "      <td>...</td>\n",
       "      <td>...</td>\n",
       "      <td>...</td>\n",
       "      <td>...</td>\n",
       "      <td>...</td>\n",
       "      <td>...</td>\n",
       "      <td>...</td>\n",
       "      <td>...</td>\n",
       "      <td>...</td>\n",
       "      <td>...</td>\n",
       "    </tr>\n",
       "    <tr>\n",
       "      <th>411</th>\n",
       "      <td>4.0</td>\n",
       "      <td>5.0</td>\n",
       "      <td>4.0</td>\n",
       "      <td>6.0</td>\n",
       "      <td>7.0</td>\n",
       "      <td>5.0</td>\n",
       "      <td>5.0</td>\n",
       "      <td>5.0</td>\n",
       "      <td>5.0</td>\n",
       "      <td>4.0</td>\n",
       "      <td>5.0</td>\n",
       "      <td>7.0</td>\n",
       "      <td>4.0</td>\n",
       "      <td>3.0</td>\n",
       "      <td>7.0</td>\n",
       "      <td>4.0</td>\n",
       "      <td>6.0</td>\n",
       "      <td>6.0</td>\n",
       "    </tr>\n",
       "    <tr>\n",
       "      <th>412</th>\n",
       "      <td>6.0</td>\n",
       "      <td>6.0</td>\n",
       "      <td>4.0</td>\n",
       "      <td>6.0</td>\n",
       "      <td>5.0</td>\n",
       "      <td>6.0</td>\n",
       "      <td>6.0</td>\n",
       "      <td>6.0</td>\n",
       "      <td>4.0</td>\n",
       "      <td>7.0</td>\n",
       "      <td>8.0</td>\n",
       "      <td>6.0</td>\n",
       "      <td>6.0</td>\n",
       "      <td>4.0</td>\n",
       "      <td>6.0</td>\n",
       "      <td>4.0</td>\n",
       "      <td>6.0</td>\n",
       "      <td>6.0</td>\n",
       "    </tr>\n",
       "    <tr>\n",
       "      <th>413</th>\n",
       "      <td>8.0</td>\n",
       "      <td>4.0</td>\n",
       "      <td>6.0</td>\n",
       "      <td>9.0</td>\n",
       "      <td>6.0</td>\n",
       "      <td>8.0</td>\n",
       "      <td>7.0</td>\n",
       "      <td>5.0</td>\n",
       "      <td>8.0</td>\n",
       "      <td>10.0</td>\n",
       "      <td>5.0</td>\n",
       "      <td>5.0</td>\n",
       "      <td>5.0</td>\n",
       "      <td>5.0</td>\n",
       "      <td>5.0</td>\n",
       "      <td>5.0</td>\n",
       "      <td>6.0</td>\n",
       "      <td>7.0</td>\n",
       "    </tr>\n",
       "    <tr>\n",
       "      <th>414</th>\n",
       "      <td>13.0</td>\n",
       "      <td>7.0</td>\n",
       "      <td>6.0</td>\n",
       "      <td>7.0</td>\n",
       "      <td>5.0</td>\n",
       "      <td>16.0</td>\n",
       "      <td>8.0</td>\n",
       "      <td>8.0</td>\n",
       "      <td>6.0</td>\n",
       "      <td>9.0</td>\n",
       "      <td>7.0</td>\n",
       "      <td>6.0</td>\n",
       "      <td>5.0</td>\n",
       "      <td>5.0</td>\n",
       "      <td>5.0</td>\n",
       "      <td>4.0</td>\n",
       "      <td>6.0</td>\n",
       "      <td>10.0</td>\n",
       "    </tr>\n",
       "    <tr>\n",
       "      <th>415</th>\n",
       "      <td>11.0</td>\n",
       "      <td>6.0</td>\n",
       "      <td>4.0</td>\n",
       "      <td>5.0</td>\n",
       "      <td>5.0</td>\n",
       "      <td>4.0</td>\n",
       "      <td>7.0</td>\n",
       "      <td>5.0</td>\n",
       "      <td>5.0</td>\n",
       "      <td>4.0</td>\n",
       "      <td>6.0</td>\n",
       "      <td>5.0</td>\n",
       "      <td>5.0</td>\n",
       "      <td>4.0</td>\n",
       "      <td>5.0</td>\n",
       "      <td>5.0</td>\n",
       "      <td>4.0</td>\n",
       "      <td>5.0</td>\n",
       "    </tr>\n",
       "  </tbody>\n",
       "</table>\n",
       "<p>414 rows × 18 columns</p>\n",
       "</div>"
      ],
      "text/plain": [
       "     Score_1  Score_2  Score_3  Score_4  Score_5  Score_6  Score_7  Score_8  \\\n",
       "0        8.0      8.0      4.0      9.0      7.0      9.0     10.0     10.0   \n",
       "1        6.0      7.0      5.0      7.0      6.0      6.0      6.0      5.0   \n",
       "2        6.0      5.0      3.0      6.0      6.0      3.0      5.0      4.0   \n",
       "3        7.0      8.0      5.0      5.0      4.0      4.0      6.0      8.0   \n",
       "4        5.0      6.0      5.0      7.0      7.0      6.0      5.0      6.0   \n",
       "..       ...      ...      ...      ...      ...      ...      ...      ...   \n",
       "411      4.0      5.0      4.0      6.0      7.0      5.0      5.0      5.0   \n",
       "412      6.0      6.0      4.0      6.0      5.0      6.0      6.0      6.0   \n",
       "413      8.0      4.0      6.0      9.0      6.0      8.0      7.0      5.0   \n",
       "414     13.0      7.0      6.0      7.0      5.0     16.0      8.0      8.0   \n",
       "415     11.0      6.0      4.0      5.0      5.0      4.0      7.0      5.0   \n",
       "\n",
       "     Score_9  Score_10  Score_11  Score_12  Score_13  Score_14  Score_15  \\\n",
       "0        8.0       7.0       4.0       7.0       7.0       3.0       6.0   \n",
       "1        6.0       8.0       4.0       5.0       6.0       5.0       6.0   \n",
       "2        4.0       6.0       3.0       7.0       5.0       4.0       4.0   \n",
       "3        5.0       6.0       5.0       4.0       4.0       5.0       4.0   \n",
       "4        5.0      10.0       5.0       6.0       5.0       4.0       5.0   \n",
       "..       ...       ...       ...       ...       ...       ...       ...   \n",
       "411      5.0       4.0       5.0       7.0       4.0       3.0       7.0   \n",
       "412      4.0       7.0       8.0       6.0       6.0       4.0       6.0   \n",
       "413      8.0      10.0       5.0       5.0       5.0       5.0       5.0   \n",
       "414      6.0       9.0       7.0       6.0       5.0       5.0       5.0   \n",
       "415      5.0       4.0       6.0       5.0       5.0       4.0       5.0   \n",
       "\n",
       "     Score_16  Score_17  Score_18  \n",
       "0         5.0       6.0       7.0  \n",
       "1         3.0       4.0       6.0  \n",
       "2         4.0       2.0       4.0  \n",
       "3         5.0       4.0       6.0  \n",
       "4         3.0       5.0       6.0  \n",
       "..        ...       ...       ...  \n",
       "411       4.0       6.0       6.0  \n",
       "412       4.0       6.0       6.0  \n",
       "413       5.0       6.0       7.0  \n",
       "414       4.0       6.0      10.0  \n",
       "415       5.0       4.0       5.0  \n",
       "\n",
       "[414 rows x 18 columns]"
      ]
     },
     "execution_count": 33,
     "metadata": {},
     "output_type": "execute_result"
    }
   ],
   "source": [
    "score_cols = [col for col in cleaned_tpo_df if col.startswith('Score')]\n",
    "\n",
    "scores_df=cleaned_tpo_df[score_cols]\n",
    "\n",
    "scores_df"
   ]
  },
  {
   "cell_type": "markdown",
   "id": "c06c3728",
   "metadata": {
    "papermill": {
     "duration": 0.021128,
     "end_time": "2024-01-30T05:15:19.582197",
     "exception": false,
     "start_time": "2024-01-30T05:15:19.561069",
     "status": "completed"
    },
    "tags": []
   },
   "source": [
    "Now plot the box plot we need to get the quartiles of scores."
   ]
  },
  {
   "cell_type": "code",
   "execution_count": 34,
   "id": "5c5273fc",
   "metadata": {
    "execution": {
     "iopub.execute_input": "2024-01-30T05:15:19.626969Z",
     "iopub.status.busy": "2024-01-30T05:15:19.626384Z",
     "iopub.status.idle": "2024-01-30T05:15:20.162097Z",
     "shell.execute_reply": "2024-01-30T05:15:20.161108Z"
    },
    "papermill": {
     "duration": 0.560169,
     "end_time": "2024-01-30T05:15:20.163896",
     "exception": false,
     "start_time": "2024-01-30T05:15:19.603727",
     "status": "completed"
    },
    "tags": []
   },
   "outputs": [
    {
     "data": {
      "image/png": "[encoded data removed]",
      "text/plain": [
       "<Figure size 2000x1000 with 1 Axes>"
      ]
     },
     "metadata": {},
     "output_type": "display_data"
    }
   ],
   "source": [
    "plt.figure(figsize=(20,10))\n",
    "cleaned_tpo_df[score_cols].boxplot()\n",
    "plt.title(\"Score Quartiles For Each Hole in TPO Dataset\", fontsize=16)\n",
    "plt.show()"
   ]
  },
  {
   "cell_type": "markdown",
   "id": "74267ee4",
   "metadata": {
    "papermill": {
     "duration": 0.021467,
     "end_time": "2024-01-30T05:15:20.208433",
     "exception": false,
     "start_time": "2024-01-30T05:15:20.186966",
     "status": "completed"
    },
    "tags": []
   },
   "source": [
    "Above we see a box plot for each hole on the course. The box itself shows us the interquartile range, or the middle 50% of scores. The median score falls within the box, indicating that 50% of the scores were higher than this score and 50% were lower. So for the first hole, 75% of the scores were lower than a 7 - with the highest score being a 13 (which, to no surprise, is being recognized as an outlier!)\n",
    "\n",
    "We see the easiest hole being number 14, with 25% of golfers making par here, which is 3 shots. We also can tell that for this hole, a hole in one was recorded, because we see the minimum score was a 1! \n",
    "\n",
    "The widest boxes occur at holes 4 and 10, which tracks because these are the two longest holes on the course and therefore we are more likely to see higher and more spread out scores. \n",
    "\n",
    "Note, I don't want to remove the outliers - every stroke counts and its fun to see how high scores can go on each hole.\n",
    "\n"
   ]
  },
  {
   "cell_type": "markdown",
   "id": "d8dbe640",
   "metadata": {
    "papermill": {
     "duration": 0.021251,
     "end_time": "2024-01-30T05:15:20.251433",
     "exception": false,
     "start_time": "2024-01-30T05:15:20.230182",
     "status": "completed"
    },
    "tags": []
   },
   "source": [
    "# Insight #2 - Statistical Analysis"
   ]
  },
  {
   "cell_type": "markdown",
   "id": "e3059653",
   "metadata": {
    "papermill": {
     "duration": 0.021176,
     "end_time": "2024-01-30T05:15:20.293719",
     "exception": false,
     "start_time": "2024-01-30T05:15:20.272543",
     "status": "completed"
    },
    "tags": []
   },
   "source": [
    "# Let's examine the Hole Info Dataframe and do some manipulation there."
   ]
  },
  {
   "cell_type": "code",
   "execution_count": 35,
   "id": "3c112e08",
   "metadata": {
    "execution": {
     "iopub.execute_input": "2024-01-30T05:15:20.340313Z",
     "iopub.status.busy": "2024-01-30T05:15:20.339854Z",
     "iopub.status.idle": "2024-01-30T05:15:20.347932Z",
     "shell.execute_reply": "2024-01-30T05:15:20.347042Z"
    },
    "papermill": {
     "duration": 0.033695,
     "end_time": "2024-01-30T05:15:20.349514",
     "exception": false,
     "start_time": "2024-01-30T05:15:20.315819",
     "status": "completed"
    },
    "tags": []
   },
   "outputs": [
    {
     "data": {
      "text/html": [
       "<div>\n",
       "<style scoped>\n",
       "    .dataframe tbody tr th:only-of-type {\n",
       "        vertical-align: middle;\n",
       "    }\n",
       "\n",
       "    .dataframe tbody tr th {\n",
       "        vertical-align: top;\n",
       "    }\n",
       "\n",
       "    .dataframe thead th {\n",
       "        text-align: right;\n",
       "    }\n",
       "</style>\n",
       "<table border=\"1\" class=\"dataframe\">\n",
       "  <thead>\n",
       "    <tr style=\"text-align: right;\">\n",
       "      <th></th>\n",
       "      <th>Par</th>\n",
       "      <th>Yardage</th>\n",
       "    </tr>\n",
       "    <tr>\n",
       "      <th>Hole Number</th>\n",
       "      <th></th>\n",
       "      <th></th>\n",
       "    </tr>\n",
       "  </thead>\n",
       "  <tbody>\n",
       "    <tr>\n",
       "      <th>1</th>\n",
       "      <td>4</td>\n",
       "      <td>305</td>\n",
       "    </tr>\n",
       "    <tr>\n",
       "      <th>2</th>\n",
       "      <td>4</td>\n",
       "      <td>325</td>\n",
       "    </tr>\n",
       "    <tr>\n",
       "      <th>3</th>\n",
       "      <td>3</td>\n",
       "      <td>152</td>\n",
       "    </tr>\n",
       "    <tr>\n",
       "      <th>4</th>\n",
       "      <td>5</td>\n",
       "      <td>437</td>\n",
       "    </tr>\n",
       "    <tr>\n",
       "      <th>5</th>\n",
       "      <td>3</td>\n",
       "      <td>200</td>\n",
       "    </tr>\n",
       "    <tr>\n",
       "      <th>6</th>\n",
       "      <td>4</td>\n",
       "      <td>329</td>\n",
       "    </tr>\n",
       "    <tr>\n",
       "      <th>7</th>\n",
       "      <td>4</td>\n",
       "      <td>310</td>\n",
       "    </tr>\n",
       "    <tr>\n",
       "      <th>8</th>\n",
       "      <td>4</td>\n",
       "      <td>315</td>\n",
       "    </tr>\n",
       "    <tr>\n",
       "      <th>9</th>\n",
       "      <td>3</td>\n",
       "      <td>162</td>\n",
       "    </tr>\n",
       "    <tr>\n",
       "      <th>10</th>\n",
       "      <td>4</td>\n",
       "      <td>369</td>\n",
       "    </tr>\n",
       "    <tr>\n",
       "      <th>11</th>\n",
       "      <td>3</td>\n",
       "      <td>161</td>\n",
       "    </tr>\n",
       "    <tr>\n",
       "      <th>12</th>\n",
       "      <td>4</td>\n",
       "      <td>288</td>\n",
       "    </tr>\n",
       "    <tr>\n",
       "      <th>13</th>\n",
       "      <td>4</td>\n",
       "      <td>230</td>\n",
       "    </tr>\n",
       "    <tr>\n",
       "      <th>14</th>\n",
       "      <td>3</td>\n",
       "      <td>113</td>\n",
       "    </tr>\n",
       "    <tr>\n",
       "      <th>15</th>\n",
       "      <td>4</td>\n",
       "      <td>270</td>\n",
       "    </tr>\n",
       "    <tr>\n",
       "      <th>16</th>\n",
       "      <td>3</td>\n",
       "      <td>146</td>\n",
       "    </tr>\n",
       "    <tr>\n",
       "      <th>17</th>\n",
       "      <td>3</td>\n",
       "      <td>189</td>\n",
       "    </tr>\n",
       "    <tr>\n",
       "      <th>18</th>\n",
       "      <td>4</td>\n",
       "      <td>304</td>\n",
       "    </tr>\n",
       "  </tbody>\n",
       "</table>\n",
       "</div>"
      ],
      "text/plain": [
       "             Par  Yardage\n",
       "Hole Number              \n",
       "1              4      305\n",
       "2              4      325\n",
       "3              3      152\n",
       "4              5      437\n",
       "5              3      200\n",
       "6              4      329\n",
       "7              4      310\n",
       "8              4      315\n",
       "9              3      162\n",
       "10             4      369\n",
       "11             3      161\n",
       "12             4      288\n",
       "13             4      230\n",
       "14             3      113\n",
       "15             4      270\n",
       "16             3      146\n",
       "17             3      189\n",
       "18             4      304"
      ]
     },
     "execution_count": 35,
     "metadata": {},
     "output_type": "execute_result"
    }
   ],
   "source": [
    "hole_info_df"
   ]
  },
  {
   "cell_type": "markdown",
   "id": "be765581",
   "metadata": {
    "papermill": {
     "duration": 0.022147,
     "end_time": "2024-01-30T05:15:20.394722",
     "exception": false,
     "start_time": "2024-01-30T05:15:20.372575",
     "status": "completed"
    },
    "tags": []
   },
   "source": [
    "Let's find out what the par is (the average number of strokes it should take to play) and the total distance of the course."
   ]
  },
  {
   "cell_type": "code",
   "execution_count": 36,
   "id": "87af9bba",
   "metadata": {
    "execution": {
     "iopub.execute_input": "2024-01-30T05:15:20.440103Z",
     "iopub.status.busy": "2024-01-30T05:15:20.439788Z",
     "iopub.status.idle": "2024-01-30T05:15:20.445246Z",
     "shell.execute_reply": "2024-01-30T05:15:20.444277Z"
    },
    "papermill": {
     "duration": 0.030772,
     "end_time": "2024-01-30T05:15:20.447197",
     "exception": false,
     "start_time": "2024-01-30T05:15:20.416425",
     "status": "completed"
    },
    "tags": []
   },
   "outputs": [
    {
     "name": "stdout",
     "output_type": "stream",
     "text": [
      "The par for the course is: 66\n",
      "The length of the course is: 4605 yards long.\n"
     ]
    }
   ],
   "source": [
    "par_for_course=hole_info_df['Par'].sum()\n",
    "length_of_course=hole_info_df['Yardage'].sum()\n",
    "\n",
    "print(\"The par for the course is:\", par_for_course)\n",
    "print(\"The length of the course is:\",length_of_course, \"yards long.\")"
   ]
  },
  {
   "cell_type": "markdown",
   "id": "f6d40a9b",
   "metadata": {
    "papermill": {
     "duration": 0.021887,
     "end_time": "2024-01-30T05:15:20.491303",
     "exception": false,
     "start_time": "2024-01-30T05:15:20.469416",
     "status": "completed"
    },
    "tags": []
   },
   "source": [
    " We see par is 66, lower than a normal course because this course is a lot shorter than the average - only 4600 yards!"
   ]
  },
  {
   "cell_type": "markdown",
   "id": "807ed825",
   "metadata": {
    "papermill": {
     "duration": 0.02195,
     "end_time": "2024-01-30T05:15:20.535451",
     "exception": false,
     "start_time": "2024-01-30T05:15:20.513501",
     "status": "completed"
    },
    "tags": []
   },
   "source": [
    "Now lets add a new column to our dataframe, \"average score\" for each hole, and see how distance / par affects it."
   ]
  },
  {
   "cell_type": "code",
   "execution_count": 37,
   "id": "81e0cae2",
   "metadata": {
    "execution": {
     "iopub.execute_input": "2024-01-30T05:15:20.580555Z",
     "iopub.status.busy": "2024-01-30T05:15:20.580084Z",
     "iopub.status.idle": "2024-01-30T05:15:20.585400Z",
     "shell.execute_reply": "2024-01-30T05:15:20.584669Z"
    },
    "papermill": {
     "duration": 0.029847,
     "end_time": "2024-01-30T05:15:20.587078",
     "exception": false,
     "start_time": "2024-01-30T05:15:20.557231",
     "status": "completed"
    },
    "tags": []
   },
   "outputs": [],
   "source": [
    "average_scores=[]\n",
    "for col in scores_df:\n",
    "    avg=round(cleaned_tpo_df[col].mean())\n",
    "    average_scores.append(avg)"
   ]
  },
  {
   "cell_type": "code",
   "execution_count": 38,
   "id": "9d789dc7",
   "metadata": {
    "execution": {
     "iopub.execute_input": "2024-01-30T05:15:20.633929Z",
     "iopub.status.busy": "2024-01-30T05:15:20.633575Z",
     "iopub.status.idle": "2024-01-30T05:15:20.638368Z",
     "shell.execute_reply": "2024-01-30T05:15:20.637200Z"
    },
    "papermill": {
     "duration": 0.030461,
     "end_time": "2024-01-30T05:15:20.640152",
     "exception": false,
     "start_time": "2024-01-30T05:15:20.609691",
     "status": "completed"
    },
    "tags": []
   },
   "outputs": [],
   "source": [
    "hole_info_df[\"Average_Score\"]=average_scores"
   ]
  },
  {
   "cell_type": "code",
   "execution_count": 39,
   "id": "92cdb51b",
   "metadata": {
    "execution": {
     "iopub.execute_input": "2024-01-30T05:15:20.686831Z",
     "iopub.status.busy": "2024-01-30T05:15:20.686476Z",
     "iopub.status.idle": "2024-01-30T05:15:20.694820Z",
     "shell.execute_reply": "2024-01-30T05:15:20.694149Z"
    },
    "papermill": {
     "duration": 0.033234,
     "end_time": "2024-01-30T05:15:20.696326",
     "exception": false,
     "start_time": "2024-01-30T05:15:20.663092",
     "status": "completed"
    },
    "tags": []
   },
   "outputs": [
    {
     "data": {
      "text/html": [
       "<div>\n",
       "<style scoped>\n",
       "    .dataframe tbody tr th:only-of-type {\n",
       "        vertical-align: middle;\n",
       "    }\n",
       "\n",
       "    .dataframe tbody tr th {\n",
       "        vertical-align: top;\n",
       "    }\n",
       "\n",
       "    .dataframe thead th {\n",
       "        text-align: right;\n",
       "    }\n",
       "</style>\n",
       "<table border=\"1\" class=\"dataframe\">\n",
       "  <thead>\n",
       "    <tr style=\"text-align: right;\">\n",
       "      <th></th>\n",
       "      <th>Par</th>\n",
       "      <th>Yardage</th>\n",
       "      <th>Average_Score</th>\n",
       "    </tr>\n",
       "    <tr>\n",
       "      <th>Hole Number</th>\n",
       "      <th></th>\n",
       "      <th></th>\n",
       "      <th></th>\n",
       "    </tr>\n",
       "  </thead>\n",
       "  <tbody>\n",
       "    <tr>\n",
       "      <th>1</th>\n",
       "      <td>4</td>\n",
       "      <td>305</td>\n",
       "      <td>6</td>\n",
       "    </tr>\n",
       "    <tr>\n",
       "      <th>2</th>\n",
       "      <td>4</td>\n",
       "      <td>325</td>\n",
       "      <td>6</td>\n",
       "    </tr>\n",
       "    <tr>\n",
       "      <th>3</th>\n",
       "      <td>3</td>\n",
       "      <td>152</td>\n",
       "      <td>5</td>\n",
       "    </tr>\n",
       "    <tr>\n",
       "      <th>4</th>\n",
       "      <td>5</td>\n",
       "      <td>437</td>\n",
       "      <td>7</td>\n",
       "    </tr>\n",
       "    <tr>\n",
       "      <th>5</th>\n",
       "      <td>3</td>\n",
       "      <td>200</td>\n",
       "      <td>5</td>\n",
       "    </tr>\n",
       "    <tr>\n",
       "      <th>6</th>\n",
       "      <td>4</td>\n",
       "      <td>329</td>\n",
       "      <td>6</td>\n",
       "    </tr>\n",
       "    <tr>\n",
       "      <th>7</th>\n",
       "      <td>4</td>\n",
       "      <td>310</td>\n",
       "      <td>6</td>\n",
       "    </tr>\n",
       "    <tr>\n",
       "      <th>8</th>\n",
       "      <td>4</td>\n",
       "      <td>315</td>\n",
       "      <td>6</td>\n",
       "    </tr>\n",
       "    <tr>\n",
       "      <th>9</th>\n",
       "      <td>3</td>\n",
       "      <td>162</td>\n",
       "      <td>5</td>\n",
       "    </tr>\n",
       "    <tr>\n",
       "      <th>10</th>\n",
       "      <td>4</td>\n",
       "      <td>369</td>\n",
       "      <td>7</td>\n",
       "    </tr>\n",
       "    <tr>\n",
       "      <th>11</th>\n",
       "      <td>3</td>\n",
       "      <td>161</td>\n",
       "      <td>5</td>\n",
       "    </tr>\n",
       "    <tr>\n",
       "      <th>12</th>\n",
       "      <td>4</td>\n",
       "      <td>288</td>\n",
       "      <td>5</td>\n",
       "    </tr>\n",
       "    <tr>\n",
       "      <th>13</th>\n",
       "      <td>4</td>\n",
       "      <td>230</td>\n",
       "      <td>5</td>\n",
       "    </tr>\n",
       "    <tr>\n",
       "      <th>14</th>\n",
       "      <td>3</td>\n",
       "      <td>113</td>\n",
       "      <td>4</td>\n",
       "    </tr>\n",
       "    <tr>\n",
       "      <th>15</th>\n",
       "      <td>4</td>\n",
       "      <td>270</td>\n",
       "      <td>5</td>\n",
       "    </tr>\n",
       "    <tr>\n",
       "      <th>16</th>\n",
       "      <td>3</td>\n",
       "      <td>146</td>\n",
       "      <td>4</td>\n",
       "    </tr>\n",
       "    <tr>\n",
       "      <th>17</th>\n",
       "      <td>3</td>\n",
       "      <td>189</td>\n",
       "      <td>5</td>\n",
       "    </tr>\n",
       "    <tr>\n",
       "      <th>18</th>\n",
       "      <td>4</td>\n",
       "      <td>304</td>\n",
       "      <td>6</td>\n",
       "    </tr>\n",
       "  </tbody>\n",
       "</table>\n",
       "</div>"
      ],
      "text/plain": [
       "             Par  Yardage  Average_Score\n",
       "Hole Number                             \n",
       "1              4      305              6\n",
       "2              4      325              6\n",
       "3              3      152              5\n",
       "4              5      437              7\n",
       "5              3      200              5\n",
       "6              4      329              6\n",
       "7              4      310              6\n",
       "8              4      315              6\n",
       "9              3      162              5\n",
       "10             4      369              7\n",
       "11             3      161              5\n",
       "12             4      288              5\n",
       "13             4      230              5\n",
       "14             3      113              4\n",
       "15             4      270              5\n",
       "16             3      146              4\n",
       "17             3      189              5\n",
       "18             4      304              6"
      ]
     },
     "execution_count": 39,
     "metadata": {},
     "output_type": "execute_result"
    }
   ],
   "source": [
    "hole_info_df"
   ]
  },
  {
   "cell_type": "markdown",
   "id": "0e67442b",
   "metadata": {
    "papermill": {
     "duration": 0.022681,
     "end_time": "2024-01-30T05:15:20.741823",
     "exception": false,
     "start_time": "2024-01-30T05:15:20.719142",
     "status": "completed"
    },
    "tags": []
   },
   "source": [
    "First, lets get some initial statistical numbers about this data frame"
   ]
  },
  {
   "cell_type": "code",
   "execution_count": 40,
   "id": "652e47cb",
   "metadata": {
    "execution": {
     "iopub.execute_input": "2024-01-30T05:15:20.789014Z",
     "iopub.status.busy": "2024-01-30T05:15:20.788461Z",
     "iopub.status.idle": "2024-01-30T05:15:20.801708Z",
     "shell.execute_reply": "2024-01-30T05:15:20.801137Z"
    },
    "papermill": {
     "duration": 0.038637,
     "end_time": "2024-01-30T05:15:20.803197",
     "exception": false,
     "start_time": "2024-01-30T05:15:20.764560",
     "status": "completed"
    },
    "tags": []
   },
   "outputs": [
    {
     "data": {
      "text/html": [
       "<div>\n",
       "<style scoped>\n",
       "    .dataframe tbody tr th:only-of-type {\n",
       "        vertical-align: middle;\n",
       "    }\n",
       "\n",
       "    .dataframe tbody tr th {\n",
       "        vertical-align: top;\n",
       "    }\n",
       "\n",
       "    .dataframe thead th {\n",
       "        text-align: right;\n",
       "    }\n",
       "</style>\n",
       "<table border=\"1\" class=\"dataframe\">\n",
       "  <thead>\n",
       "    <tr style=\"text-align: right;\">\n",
       "      <th></th>\n",
       "      <th>Par</th>\n",
       "      <th>Yardage</th>\n",
       "      <th>Average_Score</th>\n",
       "    </tr>\n",
       "  </thead>\n",
       "  <tbody>\n",
       "    <tr>\n",
       "      <th>count</th>\n",
       "      <td>18.000000</td>\n",
       "      <td>18.000000</td>\n",
       "      <td>18.000000</td>\n",
       "    </tr>\n",
       "    <tr>\n",
       "      <th>mean</th>\n",
       "      <td>3.666667</td>\n",
       "      <td>255.833333</td>\n",
       "      <td>5.444444</td>\n",
       "    </tr>\n",
       "    <tr>\n",
       "      <th>std</th>\n",
       "      <td>0.594089</td>\n",
       "      <td>89.924315</td>\n",
       "      <td>0.855585</td>\n",
       "    </tr>\n",
       "    <tr>\n",
       "      <th>min</th>\n",
       "      <td>3.000000</td>\n",
       "      <td>113.000000</td>\n",
       "      <td>4.000000</td>\n",
       "    </tr>\n",
       "    <tr>\n",
       "      <th>25%</th>\n",
       "      <td>3.000000</td>\n",
       "      <td>168.750000</td>\n",
       "      <td>5.000000</td>\n",
       "    </tr>\n",
       "    <tr>\n",
       "      <th>50%</th>\n",
       "      <td>4.000000</td>\n",
       "      <td>279.000000</td>\n",
       "      <td>5.000000</td>\n",
       "    </tr>\n",
       "    <tr>\n",
       "      <th>75%</th>\n",
       "      <td>4.000000</td>\n",
       "      <td>313.750000</td>\n",
       "      <td>6.000000</td>\n",
       "    </tr>\n",
       "    <tr>\n",
       "      <th>max</th>\n",
       "      <td>5.000000</td>\n",
       "      <td>437.000000</td>\n",
       "      <td>7.000000</td>\n",
       "    </tr>\n",
       "  </tbody>\n",
       "</table>\n",
       "</div>"
      ],
      "text/plain": [
       "             Par     Yardage  Average_Score\n",
       "count  18.000000   18.000000      18.000000\n",
       "mean    3.666667  255.833333       5.444444\n",
       "std     0.594089   89.924315       0.855585\n",
       "min     3.000000  113.000000       4.000000\n",
       "25%     3.000000  168.750000       5.000000\n",
       "50%     4.000000  279.000000       5.000000\n",
       "75%     4.000000  313.750000       6.000000\n",
       "max     5.000000  437.000000       7.000000"
      ]
     },
     "execution_count": 40,
     "metadata": {},
     "output_type": "execute_result"
    }
   ],
   "source": [
    "hole_info_df.describe()"
   ]
  },
  {
   "cell_type": "markdown",
   "id": "5998cbd0",
   "metadata": {
    "papermill": {
     "duration": 0.021526,
     "end_time": "2024-01-30T05:15:20.846916",
     "exception": false,
     "start_time": "2024-01-30T05:15:20.825390",
     "status": "completed"
    },
    "tags": []
   },
   "source": [
    "* We see that the average of the average scores is right around 5.5 shots per hole\n",
    "* The minimum average score for a hole was 4.00, which occurred on the shortest hole on the course\n",
    "* The maximum average score was a whooping 7, which occurred on the only par 5 on the course, which is also the longest hole."
   ]
  },
  {
   "cell_type": "markdown",
   "id": "24aed9c2",
   "metadata": {
    "papermill": {
     "duration": 0.021702,
     "end_time": "2024-01-30T05:15:20.890335",
     "exception": false,
     "start_time": "2024-01-30T05:15:20.868633",
     "status": "completed"
    },
    "tags": []
   },
   "source": [
    "Correlation between yardage and score:"
   ]
  },
  {
   "cell_type": "code",
   "execution_count": 41,
   "id": "f33b0026",
   "metadata": {
    "execution": {
     "iopub.execute_input": "2024-01-30T05:15:20.936052Z",
     "iopub.status.busy": "2024-01-30T05:15:20.935510Z",
     "iopub.status.idle": "2024-01-30T05:15:20.942328Z",
     "shell.execute_reply": "2024-01-30T05:15:20.941786Z"
    },
    "papermill": {
     "duration": 0.031425,
     "end_time": "2024-01-30T05:15:20.943709",
     "exception": false,
     "start_time": "2024-01-30T05:15:20.912284",
     "status": "completed"
    },
    "tags": []
   },
   "outputs": [
    {
     "data": {
      "text/plain": [
       "0.913137545206855"
      ]
     },
     "execution_count": 41,
     "metadata": {},
     "output_type": "execute_result"
    }
   ],
   "source": [
    "hole_info_df['Yardage'].corr(hole_info_df['Average_Score'])"
   ]
  },
  {
   "cell_type": "markdown",
   "id": "c0edd5c2",
   "metadata": {
    "papermill": {
     "duration": 0.021909,
     "end_time": "2024-01-30T05:15:20.987764",
     "exception": false,
     "start_time": "2024-01-30T05:15:20.965855",
     "status": "completed"
    },
    "tags": []
   },
   "source": [
    "To be expected there is almost a perfect correlation between how long the hole is and the average score. So we can tell that the shorter holes on this course are pretty standard. We would not expect to see many tricky short holes that would take many shots to finish."
   ]
  },
  {
   "cell_type": "markdown",
   "id": "e61f361a",
   "metadata": {
    "papermill": {
     "duration": 0.021766,
     "end_time": "2024-01-30T05:15:21.031729",
     "exception": false,
     "start_time": "2024-01-30T05:15:21.009963",
     "status": "completed"
    },
    "tags": []
   },
   "source": [
    "# Insight #3: Aging vs Scoring\n",
    "For Players with over 22 tournaments played, lets see how their scores have done over the years. Have they improved with time or as aging hindered their scoring?"
   ]
  },
  {
   "cell_type": "markdown",
   "id": "937f95d4",
   "metadata": {
    "papermill": {
     "duration": 0.02286,
     "end_time": "2024-01-30T05:15:21.076755",
     "exception": false,
     "start_time": "2024-01-30T05:15:21.053895",
     "status": "completed"
    },
    "tags": []
   },
   "source": [
    "We will create a new dataframe that groups by the name, then looks and counts the time the name appears. It will return a dataframe of names of players that have been to the tournament 22 times or more."
   ]
  },
  {
   "cell_type": "code",
   "execution_count": 42,
   "id": "905ba022",
   "metadata": {
    "execution": {
     "iopub.execute_input": "2024-01-30T05:15:21.123483Z",
     "iopub.status.busy": "2024-01-30T05:15:21.122954Z",
     "iopub.status.idle": "2024-01-30T05:15:21.131716Z",
     "shell.execute_reply": "2024-01-30T05:15:21.130792Z"
    },
    "papermill": {
     "duration": 0.033585,
     "end_time": "2024-01-30T05:15:21.133322",
     "exception": false,
     "start_time": "2024-01-30T05:15:21.099737",
     "status": "completed"
    },
    "tags": []
   },
   "outputs": [
    {
     "name": "stdout",
     "output_type": "stream",
     "text": [
      "6 players have played in 22 tournaments or more over the 27 years of data.\n"
     ]
    }
   ],
   "source": [
    "many_tournaments=cleaned_tpo_df[cleaned_tpo_df.groupby('Name')['Name'].transform('size') > 22]\n",
    "\n",
    "num_of_players=many_tournaments['Name'].nunique()\n",
    "unique_years=many_tournaments['Year'].nunique()\n",
    "\n",
    "print(f\"{num_of_players} players have played in 22 tournaments or more over the {unique_years} years of data.\")\n"
   ]
  },
  {
   "cell_type": "markdown",
   "id": "7360b0e3",
   "metadata": {
    "papermill": {
     "duration": 0.023274,
     "end_time": "2024-01-30T05:15:21.179714",
     "exception": false,
     "start_time": "2024-01-30T05:15:21.156440",
     "status": "completed"
    },
    "tags": []
   },
   "source": [
    "Now, we are recreating the many tournaments dataframe to only pull in relevant columns."
   ]
  },
  {
   "cell_type": "code",
   "execution_count": 43,
   "id": "a1ed3267",
   "metadata": {
    "execution": {
     "iopub.execute_input": "2024-01-30T05:15:21.227283Z",
     "iopub.status.busy": "2024-01-30T05:15:21.226964Z",
     "iopub.status.idle": "2024-01-30T05:15:21.237085Z",
     "shell.execute_reply": "2024-01-30T05:15:21.236326Z"
    },
    "papermill": {
     "duration": 0.035675,
     "end_time": "2024-01-30T05:15:21.238597",
     "exception": false,
     "start_time": "2024-01-30T05:15:21.202922",
     "status": "completed"
    },
    "tags": []
   },
   "outputs": [
    {
     "data": {
      "text/html": [
       "<div>\n",
       "<style scoped>\n",
       "    .dataframe tbody tr th:only-of-type {\n",
       "        vertical-align: middle;\n",
       "    }\n",
       "\n",
       "    .dataframe tbody tr th {\n",
       "        vertical-align: top;\n",
       "    }\n",
       "\n",
       "    .dataframe thead th {\n",
       "        text-align: right;\n",
       "    }\n",
       "</style>\n",
       "<table border=\"1\" class=\"dataframe\">\n",
       "  <thead>\n",
       "    <tr style=\"text-align: right;\">\n",
       "      <th></th>\n",
       "      <th>Name</th>\n",
       "      <th>Year</th>\n",
       "      <th>Total_Score</th>\n",
       "    </tr>\n",
       "  </thead>\n",
       "  <tbody>\n",
       "    <tr>\n",
       "      <th>2</th>\n",
       "      <td>EBS</td>\n",
       "      <td>2022</td>\n",
       "      <td>81</td>\n",
       "    </tr>\n",
       "    <tr>\n",
       "      <th>3</th>\n",
       "      <td>Edward J</td>\n",
       "      <td>2022</td>\n",
       "      <td>95</td>\n",
       "    </tr>\n",
       "    <tr>\n",
       "      <th>6</th>\n",
       "      <td>Jim C</td>\n",
       "      <td>2022</td>\n",
       "      <td>122</td>\n",
       "    </tr>\n",
       "    <tr>\n",
       "      <th>7</th>\n",
       "      <td>JWS</td>\n",
       "      <td>2022</td>\n",
       "      <td>100</td>\n",
       "    </tr>\n",
       "    <tr>\n",
       "      <th>9</th>\n",
       "      <td>Sir Ian</td>\n",
       "      <td>2022</td>\n",
       "      <td>153</td>\n",
       "    </tr>\n",
       "    <tr>\n",
       "      <th>...</th>\n",
       "      <td>...</td>\n",
       "      <td>...</td>\n",
       "      <td>...</td>\n",
       "    </tr>\n",
       "    <tr>\n",
       "      <th>407</th>\n",
       "      <td>Edward J</td>\n",
       "      <td>1995</td>\n",
       "      <td>78</td>\n",
       "    </tr>\n",
       "    <tr>\n",
       "      <th>410</th>\n",
       "      <td>Jim C</td>\n",
       "      <td>1995</td>\n",
       "      <td>89</td>\n",
       "    </tr>\n",
       "    <tr>\n",
       "      <th>411</th>\n",
       "      <td>JWS</td>\n",
       "      <td>1995</td>\n",
       "      <td>92</td>\n",
       "    </tr>\n",
       "    <tr>\n",
       "      <th>414</th>\n",
       "      <td>Sir Ian</td>\n",
       "      <td>1995</td>\n",
       "      <td>133</td>\n",
       "    </tr>\n",
       "    <tr>\n",
       "      <th>415</th>\n",
       "      <td>Wild Bill</td>\n",
       "      <td>1995</td>\n",
       "      <td>95</td>\n",
       "    </tr>\n",
       "  </tbody>\n",
       "</table>\n",
       "<p>152 rows × 3 columns</p>\n",
       "</div>"
      ],
      "text/plain": [
       "          Name  Year  Total_Score\n",
       "2          EBS  2022           81\n",
       "3     Edward J  2022           95\n",
       "6        Jim C  2022          122\n",
       "7          JWS  2022          100\n",
       "9      Sir Ian  2022          153\n",
       "..         ...   ...          ...\n",
       "407   Edward J  1995           78\n",
       "410      Jim C  1995           89\n",
       "411        JWS  1995           92\n",
       "414    Sir Ian  1995          133\n",
       "415  Wild Bill  1995           95\n",
       "\n",
       "[152 rows x 3 columns]"
      ]
     },
     "execution_count": 43,
     "metadata": {},
     "output_type": "execute_result"
    }
   ],
   "source": [
    "many_tournaments=many_tournaments[[\"Name\",\"Year\",\"Total_Score\"]]\n",
    "many_tournaments"
   ]
  },
  {
   "cell_type": "markdown",
   "id": "3f6b186f",
   "metadata": {
    "papermill": {
     "duration": 0.02213,
     "end_time": "2024-01-30T05:15:21.283476",
     "exception": false,
     "start_time": "2024-01-30T05:15:21.261346",
     "status": "completed"
    },
    "tags": []
   },
   "source": [
    "Let's see what the names are."
   ]
  },
  {
   "cell_type": "code",
   "execution_count": 44,
   "id": "1cbcc18b",
   "metadata": {
    "execution": {
     "iopub.execute_input": "2024-01-30T05:15:21.329974Z",
     "iopub.status.busy": "2024-01-30T05:15:21.329633Z",
     "iopub.status.idle": "2024-01-30T05:15:21.335710Z",
     "shell.execute_reply": "2024-01-30T05:15:21.334540Z"
    },
    "papermill": {
     "duration": 0.031518,
     "end_time": "2024-01-30T05:15:21.337899",
     "exception": false,
     "start_time": "2024-01-30T05:15:21.306381",
     "status": "completed"
    },
    "tags": []
   },
   "outputs": [
    {
     "data": {
      "text/plain": [
       "array(['EBS', 'Edward J', 'Jim C', 'JWS', 'Sir Ian', 'Wild Bill'],\n",
       "      dtype=object)"
      ]
     },
     "execution_count": 44,
     "metadata": {},
     "output_type": "execute_result"
    }
   ],
   "source": [
    "many_tournaments[\"Name\"].unique()"
   ]
  },
  {
   "cell_type": "markdown",
   "id": "965cd06e",
   "metadata": {
    "papermill": {
     "duration": 0.023025,
     "end_time": "2024-01-30T05:15:21.384241",
     "exception": false,
     "start_time": "2024-01-30T05:15:21.361216",
     "status": "completed"
    },
    "tags": []
   },
   "source": [
    "# Graph 1: 6 Most Tenured Golfers"
   ]
  },
  {
   "cell_type": "markdown",
   "id": "9a46122e",
   "metadata": {
    "papermill": {
     "duration": 0.022628,
     "end_time": "2024-01-30T05:15:21.429877",
     "exception": false,
     "start_time": "2024-01-30T05:15:21.407249",
     "status": "completed"
    },
    "tags": []
   },
   "source": [
    "Looking at the 6 most tenured golfers, we will create some individual series that we will combine together to create a dataframe where the names are the columns.\n",
    "\n",
    "The final result will be a dataframe, where the names are the columns, records are total score, and a \"Year\" column, that holds the year where all 6 players were there at the tournament together.  "
   ]
  },
  {
   "cell_type": "code",
   "execution_count": 45,
   "id": "c77dc7da",
   "metadata": {
    "execution": {
     "iopub.execute_input": "2024-01-30T05:15:21.477479Z",
     "iopub.status.busy": "2024-01-30T05:15:21.477157Z",
     "iopub.status.idle": "2024-01-30T05:15:21.817416Z",
     "shell.execute_reply": "2024-01-30T05:15:21.816697Z"
    },
    "papermill": {
     "duration": 0.365916,
     "end_time": "2024-01-30T05:15:21.819008",
     "exception": false,
     "start_time": "2024-01-30T05:15:21.453092",
     "status": "completed"
    },
    "tags": []
   },
   "outputs": [
    {
     "data": {
      "text/plain": [
       "<matplotlib.legend.Legend at 0x77fe8695c430>"
      ]
     },
     "execution_count": 45,
     "metadata": {},
     "output_type": "execute_result"
    },
    {
     "data": {
      "image/png": "[encoded data removed]",
      "text/plain": [
       "<Figure size 640x480 with 1 Axes>"
      ]
     },
     "metadata": {},
     "output_type": "display_data"
    }
   ],
   "source": [
    "ebs_totals=many_tournaments[many_tournaments['Name']=='EBS']\n",
    "ed_totals=many_tournaments[many_tournaments['Name']=='Edward J']\n",
    "jws_totals=many_tournaments[many_tournaments['Name']=='JWS']\n",
    "jim_totals=many_tournaments[many_tournaments['Name']=='Jim C']\n",
    "ian_totals=many_tournaments[many_tournaments['Name']=='Sir Ian']\n",
    "bill_totals=many_tournaments[many_tournaments['Name']=='Wild Bill']\n",
    "\n",
    "d = {'Year': jws_totals[\"Year\"],'JWS': jws_totals[\"Total_Score\"]}\n",
    "df1 = pd.DataFrame(data=d)\n",
    "\n",
    "d2 = {'Year': ebs_totals[\"Year\"],'EBS': ebs_totals[\"Total_Score\"]}\n",
    "df2 = pd.DataFrame(data=d2)\n",
    "\n",
    "d3 = {'Year': jim_totals[\"Year\"],'Jim C': jim_totals[\"Total_Score\"]}\n",
    "df3 = pd.DataFrame(data=d3)\n",
    "\n",
    "d4 = {'Year': ed_totals[\"Year\"],'Edward J': ed_totals[\"Total_Score\"]}\n",
    "df4 = pd.DataFrame(data=d4)\n",
    "\n",
    "d5 = {'Year': ian_totals[\"Year\"],'Sir Ian': ian_totals[\"Total_Score\"]}\n",
    "df5 = pd.DataFrame(data=d5)\n",
    "\n",
    "d6 = {'Year': bill_totals[\"Year\"],'Wild Bill': bill_totals[\"Total_Score\"]}\n",
    "df6 = pd.DataFrame(data=d6)\n",
    "\n",
    "\n",
    "dfs = [df1, df2,df3,df4,df5,df6]\n",
    "\n",
    "import functools as ft\n",
    "df_final = ft.reduce(lambda left, right: pd.merge(left, right, on='Year'), dfs)\n",
    "df_final.plot(x=\"Year\", title=\"6 Golfers Scores Over 20 Years\")\n",
    "plt.legend(loc='center left', bbox_to_anchor=(1.0, 0.5))"
   ]
  },
  {
   "cell_type": "markdown",
   "id": "bf5b2803",
   "metadata": {
    "papermill": {
     "duration": 0.023946,
     "end_time": "2024-01-30T05:15:21.866780",
     "exception": false,
     "start_time": "2024-01-30T05:15:21.842834",
     "status": "completed"
    },
    "tags": []
   },
   "source": [
    "# Graph 2 - All Golfers"
   ]
  },
  {
   "cell_type": "markdown",
   "id": "df450af3",
   "metadata": {
    "papermill": {
     "duration": 0.023586,
     "end_time": "2024-01-30T05:15:21.914395",
     "exception": false,
     "start_time": "2024-01-30T05:15:21.890809",
     "status": "completed"
    },
    "tags": []
   },
   "source": [
    "Lets plot the same graph we did above, but with all of the golfers included and with different visuals."
   ]
  },
  {
   "cell_type": "code",
   "execution_count": 46,
   "id": "56d2e724",
   "metadata": {
    "execution": {
     "iopub.execute_input": "2024-01-30T05:15:21.963434Z",
     "iopub.status.busy": "2024-01-30T05:15:21.962921Z",
     "iopub.status.idle": "2024-01-30T05:15:22.634325Z",
     "shell.execute_reply": "2024-01-30T05:15:22.633478Z"
    },
    "papermill": {
     "duration": 0.69783,
     "end_time": "2024-01-30T05:15:22.636352",
     "exception": false,
     "start_time": "2024-01-30T05:15:21.938522",
     "status": "completed"
    },
    "tags": []
   },
   "outputs": [
    {
     "data": {
      "image/png": "[encoded data removed]",
      "text/plain": [
       "<Figure size 640x480 with 1 Axes>"
      ]
     },
     "metadata": {},
     "output_type": "display_data"
    }
   ],
   "source": [
    "fig, ax = plt.subplots()\n",
    "sns.lineplot(data=cleaned_tpo_df, x=\"Year\", y=\"Total_Score\", ax=ax).set(title='All Golfers Score Trends Over ~25 Years')\n",
    "plt.show()"
   ]
  },
  {
   "cell_type": "markdown",
   "id": "8c7648f4",
   "metadata": {
    "papermill": {
     "duration": 0.028716,
     "end_time": "2024-01-30T05:15:22.689416",
     "exception": false,
     "start_time": "2024-01-30T05:15:22.660700",
     "status": "completed"
    },
    "tags": []
   },
   "source": [
    "# Takeaways\n",
    "\n",
    "We see the that the for our 6 golfers, shown in graph 1, who have played in 22 tournaments or more there is a slight trend upwards.\n",
    "\n",
    "This upward slope gets magnified in graph 2, where we use the entire dataset. Althought there are some valleys, the trend is upwards, especially after the year 2010. \n",
    "\n",
    "This could mean that old age is making the players shoot higher scores. It could also point to the fact that many of these players are in there 40s, 50s, and 60s - the prime career years. Perhaps we will see a decline again as more and more golfers are retiring and will be able to play more golf."
   ]
  },
  {
   "cell_type": "markdown",
   "id": "b95b4dc1",
   "metadata": {
    "papermill": {
     "duration": 0.023823,
     "end_time": "2024-01-30T05:15:22.737695",
     "exception": false,
     "start_time": "2024-01-30T05:15:22.713872",
     "status": "completed"
    },
    "tags": []
   },
   "source": [
    "# Insight 4: Drive for show or putt for dough?"
   ]
  },
  {
   "cell_type": "markdown",
   "id": "e8314dc9",
   "metadata": {
    "papermill": {
     "duration": 0.024075,
     "end_time": "2024-01-30T05:15:22.786216",
     "exception": false,
     "start_time": "2024-01-30T05:15:22.762141",
     "status": "completed"
    },
    "tags": []
   },
   "source": [
    "Many people think that the best golfers are the ones who hit the ball the farthest off the tee. However, those who play the game know that normally, the best golfers are the ones that putt and chip the best. \n",
    "\n",
    "I want to see if my putting in a round was correlated with my shots over par."
   ]
  },
  {
   "cell_type": "markdown",
   "id": "fa2de03b",
   "metadata": {
    "papermill": {
     "duration": 0.02378,
     "end_time": "2024-01-30T05:15:22.834602",
     "exception": false,
     "start_time": "2024-01-30T05:15:22.810822",
     "status": "completed"
    },
    "tags": []
   },
   "source": [
    "# Adding Column \"Shots_Over_Par\"\n",
    "\n",
    "Now that we know the par for the course lets add in a new column called \"Shots_Over_Par\" that will tell us how many shots a golfer was from shooting even par."
   ]
  },
  {
   "cell_type": "code",
   "execution_count": 47,
   "id": "80f90e64",
   "metadata": {
    "execution": {
     "iopub.execute_input": "2024-01-30T05:15:22.886010Z",
     "iopub.status.busy": "2024-01-30T05:15:22.885528Z",
     "iopub.status.idle": "2024-01-30T05:15:22.916108Z",
     "shell.execute_reply": "2024-01-30T05:15:22.915219Z"
    },
    "papermill": {
     "duration": 0.05895,
     "end_time": "2024-01-30T05:15:22.917812",
     "exception": false,
     "start_time": "2024-01-30T05:15:22.858862",
     "status": "completed"
    },
    "tags": []
   },
   "outputs": [
    {
     "data": {
      "text/html": [
       "<div>\n",
       "<style scoped>\n",
       "    .dataframe tbody tr th:only-of-type {\n",
       "        vertical-align: middle;\n",
       "    }\n",
       "\n",
       "    .dataframe tbody tr th {\n",
       "        vertical-align: top;\n",
       "    }\n",
       "\n",
       "    .dataframe thead th {\n",
       "        text-align: right;\n",
       "    }\n",
       "</style>\n",
       "<table border=\"1\" class=\"dataframe\">\n",
       "  <thead>\n",
       "    <tr style=\"text-align: right;\">\n",
       "      <th></th>\n",
       "      <th>Name</th>\n",
       "      <th>Year</th>\n",
       "      <th>Group</th>\n",
       "      <th>Score_1</th>\n",
       "      <th>Putts_1</th>\n",
       "      <th>Score_2</th>\n",
       "      <th>Putts_2</th>\n",
       "      <th>Score_3</th>\n",
       "      <th>Putts_3</th>\n",
       "      <th>Score_4</th>\n",
       "      <th>...</th>\n",
       "      <th>Putts_16</th>\n",
       "      <th>Score_17</th>\n",
       "      <th>Putts_17</th>\n",
       "      <th>Score_18</th>\n",
       "      <th>Putts_18</th>\n",
       "      <th>Back_9_Score</th>\n",
       "      <th>Back_9_Putts</th>\n",
       "      <th>Total_Score</th>\n",
       "      <th>Total_Putts</th>\n",
       "      <th>Shots_Over_Par</th>\n",
       "    </tr>\n",
       "  </thead>\n",
       "  <tbody>\n",
       "    <tr>\n",
       "      <th>0</th>\n",
       "      <td>94</td>\n",
       "      <td>2022</td>\n",
       "      <td>2</td>\n",
       "      <td>8.0</td>\n",
       "      <td>2.0</td>\n",
       "      <td>8.0</td>\n",
       "      <td>1.0</td>\n",
       "      <td>4.0</td>\n",
       "      <td>2.0</td>\n",
       "      <td>9.0</td>\n",
       "      <td>...</td>\n",
       "      <td>2.0</td>\n",
       "      <td>6.0</td>\n",
       "      <td>2.0</td>\n",
       "      <td>7.0</td>\n",
       "      <td>2.0</td>\n",
       "      <td>52.0</td>\n",
       "      <td>17.0</td>\n",
       "      <td>125</td>\n",
       "      <td>38.0</td>\n",
       "      <td>59</td>\n",
       "    </tr>\n",
       "    <tr>\n",
       "      <th>1</th>\n",
       "      <td>Brad M</td>\n",
       "      <td>2022</td>\n",
       "      <td>3</td>\n",
       "      <td>6.0</td>\n",
       "      <td>1.0</td>\n",
       "      <td>7.0</td>\n",
       "      <td>2.0</td>\n",
       "      <td>5.0</td>\n",
       "      <td>2.0</td>\n",
       "      <td>7.0</td>\n",
       "      <td>...</td>\n",
       "      <td>2.0</td>\n",
       "      <td>4.0</td>\n",
       "      <td>2.0</td>\n",
       "      <td>6.0</td>\n",
       "      <td>1.0</td>\n",
       "      <td>47.0</td>\n",
       "      <td>14.0</td>\n",
       "      <td>101</td>\n",
       "      <td>30.0</td>\n",
       "      <td>35</td>\n",
       "    </tr>\n",
       "    <tr>\n",
       "      <th>2</th>\n",
       "      <td>EBS</td>\n",
       "      <td>2022</td>\n",
       "      <td>2</td>\n",
       "      <td>6.0</td>\n",
       "      <td>2.0</td>\n",
       "      <td>5.0</td>\n",
       "      <td>1.0</td>\n",
       "      <td>3.0</td>\n",
       "      <td>1.0</td>\n",
       "      <td>6.0</td>\n",
       "      <td>...</td>\n",
       "      <td>2.0</td>\n",
       "      <td>2.0</td>\n",
       "      <td>1.0</td>\n",
       "      <td>4.0</td>\n",
       "      <td>2.0</td>\n",
       "      <td>39.0</td>\n",
       "      <td>14.0</td>\n",
       "      <td>81</td>\n",
       "      <td>29.0</td>\n",
       "      <td>15</td>\n",
       "    </tr>\n",
       "    <tr>\n",
       "      <th>3</th>\n",
       "      <td>Edward J</td>\n",
       "      <td>2022</td>\n",
       "      <td>1</td>\n",
       "      <td>7.0</td>\n",
       "      <td>2.0</td>\n",
       "      <td>8.0</td>\n",
       "      <td>3.0</td>\n",
       "      <td>5.0</td>\n",
       "      <td>2.0</td>\n",
       "      <td>5.0</td>\n",
       "      <td>...</td>\n",
       "      <td>1.0</td>\n",
       "      <td>4.0</td>\n",
       "      <td>1.0</td>\n",
       "      <td>6.0</td>\n",
       "      <td>3.0</td>\n",
       "      <td>43.0</td>\n",
       "      <td>14.0</td>\n",
       "      <td>95</td>\n",
       "      <td>31.0</td>\n",
       "      <td>29</td>\n",
       "    </tr>\n",
       "    <tr>\n",
       "      <th>4</th>\n",
       "      <td>Hurricane Lu</td>\n",
       "      <td>2022</td>\n",
       "      <td>3</td>\n",
       "      <td>5.0</td>\n",
       "      <td>2.0</td>\n",
       "      <td>6.0</td>\n",
       "      <td>2.0</td>\n",
       "      <td>5.0</td>\n",
       "      <td>2.0</td>\n",
       "      <td>7.0</td>\n",
       "      <td>...</td>\n",
       "      <td>1.0</td>\n",
       "      <td>5.0</td>\n",
       "      <td>2.0</td>\n",
       "      <td>6.0</td>\n",
       "      <td>1.0</td>\n",
       "      <td>49.0</td>\n",
       "      <td>17.0</td>\n",
       "      <td>101</td>\n",
       "      <td>36.0</td>\n",
       "      <td>35</td>\n",
       "    </tr>\n",
       "    <tr>\n",
       "      <th>...</th>\n",
       "      <td>...</td>\n",
       "      <td>...</td>\n",
       "      <td>...</td>\n",
       "      <td>...</td>\n",
       "      <td>...</td>\n",
       "      <td>...</td>\n",
       "      <td>...</td>\n",
       "      <td>...</td>\n",
       "      <td>...</td>\n",
       "      <td>...</td>\n",
       "      <td>...</td>\n",
       "      <td>...</td>\n",
       "      <td>...</td>\n",
       "      <td>...</td>\n",
       "      <td>...</td>\n",
       "      <td>...</td>\n",
       "      <td>...</td>\n",
       "      <td>...</td>\n",
       "      <td>...</td>\n",
       "      <td>...</td>\n",
       "      <td>...</td>\n",
       "    </tr>\n",
       "    <tr>\n",
       "      <th>411</th>\n",
       "      <td>JWS</td>\n",
       "      <td>1995</td>\n",
       "      <td>2</td>\n",
       "      <td>4.0</td>\n",
       "      <td>3.0</td>\n",
       "      <td>5.0</td>\n",
       "      <td>2.0</td>\n",
       "      <td>4.0</td>\n",
       "      <td>2.0</td>\n",
       "      <td>6.0</td>\n",
       "      <td>...</td>\n",
       "      <td>1.0</td>\n",
       "      <td>6.0</td>\n",
       "      <td>2.0</td>\n",
       "      <td>6.0</td>\n",
       "      <td>3.0</td>\n",
       "      <td>46.0</td>\n",
       "      <td>20.0</td>\n",
       "      <td>92</td>\n",
       "      <td>39.0</td>\n",
       "      <td>26</td>\n",
       "    </tr>\n",
       "    <tr>\n",
       "      <th>412</th>\n",
       "      <td>Pedro</td>\n",
       "      <td>1995</td>\n",
       "      <td>2</td>\n",
       "      <td>6.0</td>\n",
       "      <td>2.0</td>\n",
       "      <td>6.0</td>\n",
       "      <td>2.0</td>\n",
       "      <td>4.0</td>\n",
       "      <td>2.0</td>\n",
       "      <td>6.0</td>\n",
       "      <td>...</td>\n",
       "      <td>2.0</td>\n",
       "      <td>6.0</td>\n",
       "      <td>3.0</td>\n",
       "      <td>6.0</td>\n",
       "      <td>2.0</td>\n",
       "      <td>53.0</td>\n",
       "      <td>17.0</td>\n",
       "      <td>102</td>\n",
       "      <td>35.0</td>\n",
       "      <td>36</td>\n",
       "    </tr>\n",
       "    <tr>\n",
       "      <th>413</th>\n",
       "      <td>Russ Kee</td>\n",
       "      <td>1995</td>\n",
       "      <td>1</td>\n",
       "      <td>8.0</td>\n",
       "      <td>1.0</td>\n",
       "      <td>4.0</td>\n",
       "      <td>2.0</td>\n",
       "      <td>6.0</td>\n",
       "      <td>2.0</td>\n",
       "      <td>9.0</td>\n",
       "      <td>...</td>\n",
       "      <td>1.0</td>\n",
       "      <td>6.0</td>\n",
       "      <td>1.0</td>\n",
       "      <td>7.0</td>\n",
       "      <td>3.0</td>\n",
       "      <td>53.0</td>\n",
       "      <td>20.0</td>\n",
       "      <td>114</td>\n",
       "      <td>37.0</td>\n",
       "      <td>48</td>\n",
       "    </tr>\n",
       "    <tr>\n",
       "      <th>414</th>\n",
       "      <td>Sir Ian</td>\n",
       "      <td>1995</td>\n",
       "      <td>3</td>\n",
       "      <td>13.0</td>\n",
       "      <td>2.0</td>\n",
       "      <td>7.0</td>\n",
       "      <td>2.0</td>\n",
       "      <td>6.0</td>\n",
       "      <td>2.0</td>\n",
       "      <td>7.0</td>\n",
       "      <td>...</td>\n",
       "      <td>2.0</td>\n",
       "      <td>6.0</td>\n",
       "      <td>1.0</td>\n",
       "      <td>10.0</td>\n",
       "      <td>1.0</td>\n",
       "      <td>57.0</td>\n",
       "      <td>19.0</td>\n",
       "      <td>133</td>\n",
       "      <td>37.0</td>\n",
       "      <td>67</td>\n",
       "    </tr>\n",
       "    <tr>\n",
       "      <th>415</th>\n",
       "      <td>Wild Bill</td>\n",
       "      <td>1995</td>\n",
       "      <td>3</td>\n",
       "      <td>11.0</td>\n",
       "      <td>1.0</td>\n",
       "      <td>6.0</td>\n",
       "      <td>2.0</td>\n",
       "      <td>4.0</td>\n",
       "      <td>2.0</td>\n",
       "      <td>5.0</td>\n",
       "      <td>...</td>\n",
       "      <td>2.0</td>\n",
       "      <td>4.0</td>\n",
       "      <td>2.0</td>\n",
       "      <td>5.0</td>\n",
       "      <td>1.0</td>\n",
       "      <td>43.0</td>\n",
       "      <td>16.0</td>\n",
       "      <td>95</td>\n",
       "      <td>33.0</td>\n",
       "      <td>29</td>\n",
       "    </tr>\n",
       "  </tbody>\n",
       "</table>\n",
       "<p>414 rows × 46 columns</p>\n",
       "</div>"
      ],
      "text/plain": [
       "             Name  Year  Group  Score_1  Putts_1  Score_2  Putts_2  Score_3  \\\n",
       "0              94  2022      2      8.0      2.0      8.0      1.0      4.0   \n",
       "1          Brad M  2022      3      6.0      1.0      7.0      2.0      5.0   \n",
       "2             EBS  2022      2      6.0      2.0      5.0      1.0      3.0   \n",
       "3        Edward J  2022      1      7.0      2.0      8.0      3.0      5.0   \n",
       "4    Hurricane Lu  2022      3      5.0      2.0      6.0      2.0      5.0   \n",
       "..            ...   ...    ...      ...      ...      ...      ...      ...   \n",
       "411           JWS  1995      2      4.0      3.0      5.0      2.0      4.0   \n",
       "412         Pedro  1995      2      6.0      2.0      6.0      2.0      4.0   \n",
       "413      Russ Kee  1995      1      8.0      1.0      4.0      2.0      6.0   \n",
       "414       Sir Ian  1995      3     13.0      2.0      7.0      2.0      6.0   \n",
       "415     Wild Bill  1995      3     11.0      1.0      6.0      2.0      4.0   \n",
       "\n",
       "     Putts_3  Score_4  ...  Putts_16  Score_17  Putts_17  Score_18  Putts_18  \\\n",
       "0        2.0      9.0  ...       2.0       6.0       2.0       7.0       2.0   \n",
       "1        2.0      7.0  ...       2.0       4.0       2.0       6.0       1.0   \n",
       "2        1.0      6.0  ...       2.0       2.0       1.0       4.0       2.0   \n",
       "3        2.0      5.0  ...       1.0       4.0       1.0       6.0       3.0   \n",
       "4        2.0      7.0  ...       1.0       5.0       2.0       6.0       1.0   \n",
       "..       ...      ...  ...       ...       ...       ...       ...       ...   \n",
       "411      2.0      6.0  ...       1.0       6.0       2.0       6.0       3.0   \n",
       "412      2.0      6.0  ...       2.0       6.0       3.0       6.0       2.0   \n",
       "413      2.0      9.0  ...       1.0       6.0       1.0       7.0       3.0   \n",
       "414      2.0      7.0  ...       2.0       6.0       1.0      10.0       1.0   \n",
       "415      2.0      5.0  ...       2.0       4.0       2.0       5.0       1.0   \n",
       "\n",
       "     Back_9_Score  Back_9_Putts  Total_Score  Total_Putts  Shots_Over_Par  \n",
       "0            52.0          17.0          125         38.0              59  \n",
       "1            47.0          14.0          101         30.0              35  \n",
       "2            39.0          14.0           81         29.0              15  \n",
       "3            43.0          14.0           95         31.0              29  \n",
       "4            49.0          17.0          101         36.0              35  \n",
       "..            ...           ...          ...          ...             ...  \n",
       "411          46.0          20.0           92         39.0              26  \n",
       "412          53.0          17.0          102         35.0              36  \n",
       "413          53.0          20.0          114         37.0              48  \n",
       "414          57.0          19.0          133         37.0              67  \n",
       "415          43.0          16.0           95         33.0              29  \n",
       "\n",
       "[414 rows x 46 columns]"
      ]
     },
     "execution_count": 47,
     "metadata": {},
     "output_type": "execute_result"
    }
   ],
   "source": [
    "cleaned_tpo_df[\"Shots_Over_Par\"]=cleaned_tpo_df['Total_Score']-par_for_course\n",
    "cleaned_tpo_df"
   ]
  },
  {
   "cell_type": "markdown",
   "id": "67da63dd",
   "metadata": {
    "papermill": {
     "duration": 0.024511,
     "end_time": "2024-01-30T05:15:22.967528",
     "exception": false,
     "start_time": "2024-01-30T05:15:22.943017",
     "status": "completed"
    },
    "tags": []
   },
   "source": [
    "Figuring out the tournaments I have participated in."
   ]
  },
  {
   "cell_type": "code",
   "execution_count": 48,
   "id": "b049892d",
   "metadata": {
    "execution": {
     "iopub.execute_input": "2024-01-30T05:15:23.017827Z",
     "iopub.status.busy": "2024-01-30T05:15:23.016891Z",
     "iopub.status.idle": "2024-01-30T05:15:23.039278Z",
     "shell.execute_reply": "2024-01-30T05:15:23.038684Z"
    },
    "papermill": {
     "duration": 0.048794,
     "end_time": "2024-01-30T05:15:23.040713",
     "exception": false,
     "start_time": "2024-01-30T05:15:22.991919",
     "status": "completed"
    },
    "tags": []
   },
   "outputs": [
    {
     "data": {
      "text/html": [
       "<div>\n",
       "<style scoped>\n",
       "    .dataframe tbody tr th:only-of-type {\n",
       "        vertical-align: middle;\n",
       "    }\n",
       "\n",
       "    .dataframe tbody tr th {\n",
       "        vertical-align: top;\n",
       "    }\n",
       "\n",
       "    .dataframe thead th {\n",
       "        text-align: right;\n",
       "    }\n",
       "</style>\n",
       "<table border=\"1\" class=\"dataframe\">\n",
       "  <thead>\n",
       "    <tr style=\"text-align: right;\">\n",
       "      <th></th>\n",
       "      <th>Name</th>\n",
       "      <th>Year</th>\n",
       "      <th>Group</th>\n",
       "      <th>Score_1</th>\n",
       "      <th>Putts_1</th>\n",
       "      <th>Score_2</th>\n",
       "      <th>Putts_2</th>\n",
       "      <th>Score_3</th>\n",
       "      <th>Putts_3</th>\n",
       "      <th>Score_4</th>\n",
       "      <th>...</th>\n",
       "      <th>Putts_16</th>\n",
       "      <th>Score_17</th>\n",
       "      <th>Putts_17</th>\n",
       "      <th>Score_18</th>\n",
       "      <th>Putts_18</th>\n",
       "      <th>Back_9_Score</th>\n",
       "      <th>Back_9_Putts</th>\n",
       "      <th>Total_Score</th>\n",
       "      <th>Total_Putts</th>\n",
       "      <th>Shots_Over_Par</th>\n",
       "    </tr>\n",
       "  </thead>\n",
       "  <tbody>\n",
       "    <tr>\n",
       "      <th>15</th>\n",
       "      <td>GWS</td>\n",
       "      <td>2020</td>\n",
       "      <td>4</td>\n",
       "      <td>5.0</td>\n",
       "      <td>1.0</td>\n",
       "      <td>5.0</td>\n",
       "      <td>2.0</td>\n",
       "      <td>6.0</td>\n",
       "      <td>2.0</td>\n",
       "      <td>5.0</td>\n",
       "      <td>...</td>\n",
       "      <td>3.0</td>\n",
       "      <td>4.0</td>\n",
       "      <td>1.0</td>\n",
       "      <td>5.0</td>\n",
       "      <td>2.0</td>\n",
       "      <td>43.0</td>\n",
       "      <td>18.0</td>\n",
       "      <td>82</td>\n",
       "      <td>31.0</td>\n",
       "      <td>16</td>\n",
       "    </tr>\n",
       "    <tr>\n",
       "      <th>35</th>\n",
       "      <td>GWS</td>\n",
       "      <td>2019</td>\n",
       "      <td>3</td>\n",
       "      <td>5.0</td>\n",
       "      <td>2.0</td>\n",
       "      <td>4.0</td>\n",
       "      <td>1.0</td>\n",
       "      <td>4.0</td>\n",
       "      <td>2.0</td>\n",
       "      <td>5.0</td>\n",
       "      <td>...</td>\n",
       "      <td>1.0</td>\n",
       "      <td>5.0</td>\n",
       "      <td>2.0</td>\n",
       "      <td>4.0</td>\n",
       "      <td>1.0</td>\n",
       "      <td>41.0</td>\n",
       "      <td>16.0</td>\n",
       "      <td>80</td>\n",
       "      <td>31.0</td>\n",
       "      <td>14</td>\n",
       "    </tr>\n",
       "    <tr>\n",
       "      <th>54</th>\n",
       "      <td>GWS</td>\n",
       "      <td>2018</td>\n",
       "      <td>4</td>\n",
       "      <td>6.0</td>\n",
       "      <td>2.0</td>\n",
       "      <td>6.0</td>\n",
       "      <td>2.0</td>\n",
       "      <td>5.0</td>\n",
       "      <td>1.0</td>\n",
       "      <td>6.0</td>\n",
       "      <td>...</td>\n",
       "      <td>2.0</td>\n",
       "      <td>3.0</td>\n",
       "      <td>2.0</td>\n",
       "      <td>4.0</td>\n",
       "      <td>1.0</td>\n",
       "      <td>35.0</td>\n",
       "      <td>13.0</td>\n",
       "      <td>81</td>\n",
       "      <td>27.0</td>\n",
       "      <td>15</td>\n",
       "    </tr>\n",
       "    <tr>\n",
       "      <th>74</th>\n",
       "      <td>GWS</td>\n",
       "      <td>2017</td>\n",
       "      <td>6</td>\n",
       "      <td>5.0</td>\n",
       "      <td>1.0</td>\n",
       "      <td>4.0</td>\n",
       "      <td>1.0</td>\n",
       "      <td>4.0</td>\n",
       "      <td>1.0</td>\n",
       "      <td>5.0</td>\n",
       "      <td>...</td>\n",
       "      <td>1.0</td>\n",
       "      <td>4.0</td>\n",
       "      <td>2.0</td>\n",
       "      <td>4.0</td>\n",
       "      <td>1.0</td>\n",
       "      <td>40.0</td>\n",
       "      <td>14.0</td>\n",
       "      <td>81</td>\n",
       "      <td>26.0</td>\n",
       "      <td>15</td>\n",
       "    </tr>\n",
       "    <tr>\n",
       "      <th>92</th>\n",
       "      <td>GWS</td>\n",
       "      <td>2016</td>\n",
       "      <td>4</td>\n",
       "      <td>6.0</td>\n",
       "      <td>2.0</td>\n",
       "      <td>5.0</td>\n",
       "      <td>2.0</td>\n",
       "      <td>3.0</td>\n",
       "      <td>1.0</td>\n",
       "      <td>5.0</td>\n",
       "      <td>...</td>\n",
       "      <td>2.0</td>\n",
       "      <td>3.0</td>\n",
       "      <td>1.0</td>\n",
       "      <td>5.0</td>\n",
       "      <td>2.0</td>\n",
       "      <td>39.0</td>\n",
       "      <td>14.0</td>\n",
       "      <td>78</td>\n",
       "      <td>28.0</td>\n",
       "      <td>12</td>\n",
       "    </tr>\n",
       "  </tbody>\n",
       "</table>\n",
       "<p>5 rows × 46 columns</p>\n",
       "</div>"
      ],
      "text/plain": [
       "   Name  Year  Group  Score_1  Putts_1  Score_2  Putts_2  Score_3  Putts_3  \\\n",
       "15  GWS  2020      4      5.0      1.0      5.0      2.0      6.0      2.0   \n",
       "35  GWS  2019      3      5.0      2.0      4.0      1.0      4.0      2.0   \n",
       "54  GWS  2018      4      6.0      2.0      6.0      2.0      5.0      1.0   \n",
       "74  GWS  2017      6      5.0      1.0      4.0      1.0      4.0      1.0   \n",
       "92  GWS  2016      4      6.0      2.0      5.0      2.0      3.0      1.0   \n",
       "\n",
       "    Score_4  ...  Putts_16  Score_17  Putts_17  Score_18  Putts_18  \\\n",
       "15      5.0  ...       3.0       4.0       1.0       5.0       2.0   \n",
       "35      5.0  ...       1.0       5.0       2.0       4.0       1.0   \n",
       "54      6.0  ...       2.0       3.0       2.0       4.0       1.0   \n",
       "74      5.0  ...       1.0       4.0       2.0       4.0       1.0   \n",
       "92      5.0  ...       2.0       3.0       1.0       5.0       2.0   \n",
       "\n",
       "    Back_9_Score  Back_9_Putts  Total_Score  Total_Putts  Shots_Over_Par  \n",
       "15          43.0          18.0           82         31.0              16  \n",
       "35          41.0          16.0           80         31.0              14  \n",
       "54          35.0          13.0           81         27.0              15  \n",
       "74          40.0          14.0           81         26.0              15  \n",
       "92          39.0          14.0           78         28.0              12  \n",
       "\n",
       "[5 rows x 46 columns]"
      ]
     },
     "execution_count": 48,
     "metadata": {},
     "output_type": "execute_result"
    }
   ],
   "source": [
    "gws_tpo=cleaned_tpo_df[cleaned_tpo_df['Name']==\"GWS\"]\n",
    "gws_tpo"
   ]
  },
  {
   "cell_type": "markdown",
   "id": "41233f6c",
   "metadata": {
    "papermill": {
     "duration": 0.025525,
     "end_time": "2024-01-30T05:15:23.091812",
     "exception": false,
     "start_time": "2024-01-30T05:15:23.066287",
     "status": "completed"
    },
    "tags": []
   },
   "source": [
    "Below, shows my putting correlation with lower scores. There really is no correlation at all, this could indicate that my putting game needs improving, or that I play strongly off the tee and fairways, since I am still shooting in the low 80s. It is also a relatively small sample size, so we will get a better sense of this correlation as I play in more tournaments."
   ]
  },
  {
   "cell_type": "code",
   "execution_count": 49,
   "id": "41d1a698",
   "metadata": {
    "execution": {
     "iopub.execute_input": "2024-01-30T05:15:23.143927Z",
     "iopub.status.busy": "2024-01-30T05:15:23.143432Z",
     "iopub.status.idle": "2024-01-30T05:15:23.149937Z",
     "shell.execute_reply": "2024-01-30T05:15:23.149108Z"
    },
    "papermill": {
     "duration": 0.034448,
     "end_time": "2024-01-30T05:15:23.151541",
     "exception": false,
     "start_time": "2024-01-30T05:15:23.117093",
     "status": "completed"
    },
    "tags": []
   },
   "outputs": [
    {
     "data": {
      "text/plain": [
       "0.12888745877839608"
      ]
     },
     "execution_count": 49,
     "metadata": {},
     "output_type": "execute_result"
    }
   ],
   "source": [
    "gws_tpo['Total_Putts'].corr(gws_tpo['Shots_Over_Par'])"
   ]
  },
  {
   "cell_type": "markdown",
   "id": "604fb079",
   "metadata": {
    "papermill": {
     "duration": 0.025244,
     "end_time": "2024-01-30T05:15:23.201732",
     "exception": false,
     "start_time": "2024-01-30T05:15:23.176488",
     "status": "completed"
    },
    "tags": []
   },
   "source": [
    "However, when you look at the entire group, better putting does appear to be correlated with shots over par - higher total putts means higher shots over par & lower putts means lower shots over par. "
   ]
  },
  {
   "cell_type": "code",
   "execution_count": 50,
   "id": "9df2939f",
   "metadata": {
    "execution": {
     "iopub.execute_input": "2024-01-30T05:15:23.252747Z",
     "iopub.status.busy": "2024-01-30T05:15:23.252435Z",
     "iopub.status.idle": "2024-01-30T05:15:23.259755Z",
     "shell.execute_reply": "2024-01-30T05:15:23.258484Z"
    },
    "papermill": {
     "duration": 0.035193,
     "end_time": "2024-01-30T05:15:23.261744",
     "exception": false,
     "start_time": "2024-01-30T05:15:23.226551",
     "status": "completed"
    },
    "tags": []
   },
   "outputs": [
    {
     "data": {
      "text/plain": [
       "0.6176402623109184"
      ]
     },
     "execution_count": 50,
     "metadata": {},
     "output_type": "execute_result"
    }
   ],
   "source": [
    "cleaned_tpo_df[\"Total_Putts\"].corr(cleaned_tpo_df[\"Shots_Over_Par\"])"
   ]
  },
  {
   "cell_type": "markdown",
   "id": "72f9b6d0",
   "metadata": {
    "papermill": {
     "duration": 0.025038,
     "end_time": "2024-01-30T05:15:23.312970",
     "exception": false,
     "start_time": "2024-01-30T05:15:23.287932",
     "status": "completed"
    },
    "tags": []
   },
   "source": [
    "# Insight 5: Scores Distributions for Each Hole"
   ]
  },
  {
   "cell_type": "markdown",
   "id": "6e7bc59f",
   "metadata": {
    "papermill": {
     "duration": 0.024315,
     "end_time": "2024-01-30T05:15:23.362781",
     "exception": false,
     "start_time": "2024-01-30T05:15:23.338466",
     "status": "completed"
    },
    "tags": []
   },
   "source": [
    "Let's plot each hole via histogram and look at the shot distribution. We will use our scores df for this."
   ]
  },
  {
   "cell_type": "code",
   "execution_count": 51,
   "id": "5763f7c6",
   "metadata": {
    "execution": {
     "iopub.execute_input": "2024-01-30T05:15:23.413848Z",
     "iopub.status.busy": "2024-01-30T05:15:23.413536Z",
     "iopub.status.idle": "2024-01-30T05:15:27.755426Z",
     "shell.execute_reply": "2024-01-30T05:15:27.754594Z"
    },
    "papermill": {
     "duration": 4.369492,
     "end_time": "2024-01-30T05:15:27.756891",
     "exception": false,
     "start_time": "2024-01-30T05:15:23.387399",
     "status": "completed"
    },
    "tags": []
   },
   "outputs": [
    {
     "data": {
      "image/png": "[encoded data removed]",
      "text/plain": [
       "<Figure size 640x480 with 1 Axes>"
      ]
     },
     "metadata": {},
     "output_type": "display_data"
    },
    {
     "data": {
      "image/png": "[encoded data removed]",
      "text/plain": [
       "<Figure size 640x480 with 1 Axes>"
      ]
     },
     "metadata": {},
     "output_type": "display_data"
    },
    {
     "data": {
      "image/png": "[encoded data removed]",
      "text/plain": [
       "<Figure size 640x480 with 1 Axes>"
      ]
     },
     "metadata": {},
     "output_type": "display_data"
    },
    {
     "data": {
      "image/png": "[encoded data removed]",
      "text/plain": [
       "<Figure size 640x480 with 1 Axes>"
      ]
     },
     "metadata": {},
     "output_type": "display_data"
    },
    {
     "data": {
      "image/png": "[encoded data removed]",
      "text/plain": [
       "<Figure size 640x480 with 1 Axes>"
      ]
     },
     "metadata": {},
     "output_type": "display_data"
    },
    {
     "data": {
      "image/png": "[encoded data removed]",
      "text/plain": [
       "<Figure size 640x480 with 1 Axes>"
      ]
     },
     "metadata": {},
     "output_type": "display_data"
    },
    {
     "data": {
      "image/png": "[encoded data removed]",
      "text/plain": [
       "<Figure size 640x480 with 1 Axes>"
      ]
     },
     "metadata": {},
     "output_type": "display_data"
    },
    {
     "data": {
      "image/png": "[encoded data removed]",
      "text/plain": [
       "<Figure size 640x480 with 1 Axes>"
      ]
     },
     "metadata": {},
     "output_type": "display_data"
    },
    {
     "data": {
      "image/png": "[encoded data removed]",
      "text/plain": [
       "<Figure size 640x480 with 1 Axes>"
      ]
     },
     "metadata": {},
     "output_type": "display_data"
    },
    {
     "data": {
      "image/png": "[encoded data removed]",
      "text/plain": [
       "<Figure size 640x480 with 1 Axes>"
      ]
     },
     "metadata": {},
     "output_type": "display_data"
    },
    {
     "data": {
      "image/png": "[encoded data removed]",
      "text/plain": [
       "<Figure size 640x480 with 1 Axes>"
      ]
     },
     "metadata": {},
     "output_type": "display_data"
    },
    {
     "data": {
      "image/png": "[encoded data removed]",
      "text/plain": [
       "<Figure size 640x480 with 1 Axes>"
      ]
     },
     "metadata": {},
     "output_type": "display_data"
    },
    {
     "data": {
      "image/png": "[encoded data removed]",
      "text/plain": [
       "<Figure size 640x480 with 1 Axes>"
      ]
     },
     "metadata": {},
     "output_type": "display_data"
    },
    {
     "data": {
      "image/png": "[encoded data removed]",
      "text/plain": [
       "<Figure size 640x480 with 1 Axes>"
      ]
     },
     "metadata": {},
     "output_type": "display_data"
    },
    {
     "data": {
      "image/png": "[encoded data removed]",
      "text/plain": [
       "<Figure size 640x480 with 1 Axes>"
      ]
     },
     "metadata": {},
     "output_type": "display_data"
    },
    {
     "data": {
      "image/png": "[encoded data removed]",
      "text/plain": [
       "<Figure size 640x480 with 1 Axes>"
      ]
     },
     "metadata": {},
     "output_type": "display_data"
    },
    {
     "data": {
      "image/png": "[encoded data removed]",
      "text/plain": [
       "<Figure size 640x480 with 1 Axes>"
      ]
     },
     "metadata": {},
     "output_type": "display_data"
    },
    {
     "data": {
      "image/png": "[encoded data removed]",
      "text/plain": [
       "<Figure size 640x480 with 1 Axes>"
      ]
     },
     "metadata": {},
     "output_type": "display_data"
    }
   ],
   "source": [
    "for i, col in enumerate(scores_df.columns):\n",
    "    plt.figure(i)\n",
    "    sns.histplot(scores_df[col], stat='frequency', kde=True, kde_kws={\"cut\": 1})"
   ]
  },
  {
   "cell_type": "markdown",
   "id": "dcc27c3b",
   "metadata": {
    "papermill": {
     "duration": 0.032706,
     "end_time": "2024-01-30T05:15:27.821344",
     "exception": false,
     "start_time": "2024-01-30T05:15:27.788638",
     "status": "completed"
    },
    "tags": []
   },
   "source": [
    "# Takeaways\n",
    "\n",
    "It looks like mostly all the holes are right skewed indicating that higher scores were recorded more frequently. There does seem to be one normally distributed hole and that is number 14. A 4 on that hole is the most common followed by a 3, then higher scores after that. This is the shortest hole on the course giving most golfers a fighting chance to do well - so it follows that this the hole that is the most normally distributed. "
   ]
  },
  {
   "cell_type": "markdown",
   "id": "e57cf51e",
   "metadata": {
    "papermill": {
     "duration": 0.02967,
     "end_time": "2024-01-30T05:15:27.881185",
     "exception": false,
     "start_time": "2024-01-30T05:15:27.851515",
     "status": "completed"
    },
    "tags": []
   },
   "source": [
    "# Conclusion\n",
    "\n",
    "Thank you for reading this analysis of 20 years of amateur golf data. I enjoyed going through this dataset and seeing the trends of this annual tournament I am a part of. It has opened my eyes to the fact that there is so much data out there to be collected, cleaned and analyzed. If a simple score sheet from an annual gathering can yield all of these findings it will be fascinating to find what else can discovered from our lives, no matter how simple."
   ]
  },
  {
   "cell_type": "code",
   "execution_count": null,
   "id": "9e015b2d",
   "metadata": {
    "papermill": {
     "duration": 0.029775,
     "end_time": "2024-01-30T05:15:27.940582",
     "exception": false,
     "start_time": "2024-01-30T05:15:27.910807",
     "status": "completed"
    },
    "tags": []
   },
   "outputs": [],
   "source": []
  },
  {
   "cell_type": "markdown",
   "id": "e25cd888",
   "metadata": {
    "papermill": {
     "duration": 0.029469,
     "end_time": "2024-01-30T05:15:27.999876",
     "exception": false,
     "start_time": "2024-01-30T05:15:27.970407",
     "status": "completed"
    },
    "tags": []
   },
   "source": [
    "Than"
   ]
  }
 ],
 "metadata": {
  "kaggle": {
   "accelerator": "none",
   "dataSources": [
    {
     "databundleVersionId": 7575961,
     "datasetId": 4304931,
     "sourceId": 7483399,
     "sourceType": "datasetVersion"
    }
   ],
   "dockerImageVersionId": 30635,
   "isGpuEnabled": false,
   "isInternetEnabled": false,
   "language": "python",
   "sourceType": "notebook"
  },
  "kernelspec": {
   "display_name": "Python 3",
   "language": "python",
   "name": "python3"
  },
  "language_info": {
   "codemirror_mode": {
    "name": "ipython",
    "version": 3
   },
   "file_extension": ".py",
   "mimetype": "text/x-python",
   "name": "python",
   "nbconvert_exporter": "python",
   "pygments_lexer": "ipython3",
   "version": "3.10.12"
  },
  "papermill": {
   "default_parameters": {},
   "duration": 19.126443,
   "end_time": "2024-01-30T05:15:28.649217",
   "environment_variables": {},
   "exception": null,
   "input_path": "__notebook__.ipynb",
   "output_path": "__notebook__.ipynb",
   "parameters": {},
   "start_time": "2024-01-30T05:15:09.522774",
   "version": "2.4.0"
  }
 },
 "nbformat": 4,
 "nbformat_minor": 5
}
